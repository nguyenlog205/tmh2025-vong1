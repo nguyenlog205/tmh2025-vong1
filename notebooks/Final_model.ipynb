{
 "cells": [
  {
   "cell_type": "markdown",
   "id": "924f3eef",
   "metadata": {},
   "source": [
    "<div style=\"background: #f0f8ff; padding: 20px; border-left: 5px solid #3498db; border-radius: 10px; font-family: 'Segoe UI', sans-serif; text-align: center;\">\n",
    "\n",
    "<h2 style=\"color: #2c3e50; margin-bottom: 15px;\">\n",
    "  📘 Báo cáo phương pháp và kế hoạch triển khai chiến lược đầu tư\n",
    "</h2>\n",
    "\n",
    "<p style=\"font-size: 16px; line-height: 1.6; color: #34495e; display: inline-block; text-align: justify; max-width: 800px;\">\n",
    "  <strong>Mục tiêu:</strong> Xây dựng một chiến lược phân bổ vốn linh hoạt theo từng tháng (dưới dạng ma trận trọng số x4) nhằm tối đa hóa lợi nhuận đã điều chỉnh theo rủi ro cho danh mục 4 tài sản trong n tháng.\n",
    "</p>\n",
    "\n",
    "</div>\n"
   ]
  },
  {
   "cell_type": "code",
   "execution_count": 1,
   "id": "7e619474-70da-4e8b-99c0-98ae528cb2bc",
   "metadata": {
    "execution": {
     "iopub.execute_input": "2025-07-28T06:16:36.003442Z",
     "iopub.status.busy": "2025-07-28T06:16:36.002954Z",
     "iopub.status.idle": "2025-07-28T06:16:41.722832Z",
     "shell.execute_reply": "2025-07-28T06:16:41.722056Z",
     "shell.execute_reply.started": "2025-07-28T06:16:36.003415Z"
    },
    "trusted": true
   },
   "outputs": [],
   "source": [
    "# !pip install arch pmdarima"
   ]
  },
  {
   "cell_type": "code",
   "execution_count": 2,
   "id": "18362788",
   "metadata": {
    "execution": {
     "iopub.execute_input": "2025-07-28T06:16:41.724903Z",
     "iopub.status.busy": "2025-07-28T06:16:41.724579Z",
     "iopub.status.idle": "2025-07-28T06:16:46.050874Z",
     "shell.execute_reply": "2025-07-28T06:16:46.049864Z",
     "shell.execute_reply.started": "2025-07-28T06:16:41.724864Z"
    },
    "trusted": true
   },
   "outputs": [],
   "source": [
    "import pandas as pd\n",
    "import numpy as np\n",
    "import matplotlib.pyplot as plt\n",
    "import matplotlib.dates as mdates\n",
    "import matplotlib.ticker as mtick\n",
    "import seaborn as sns\n",
    "import os\n",
    "sns.set_style(\"whitegrid\")\n",
    "\n",
    "from sklearn.preprocessing import StandardScaler\n",
    "from scipy.optimize import minimize\n",
    "\n",
    "from statsmodels.tsa.arima.model import ARIMA\n",
    "from pmdarima import auto_arima\n",
    "from statsmodels.graphics.tsaplots import plot_acf, plot_pacf\n",
    "from statsmodels.tsa.stattools import adfuller\n",
    "from arch import arch_model\n",
    "from statsmodels.stats.diagnostic import het_arch\n",
    "import pmdarima as pm\n",
    "from arch.univariate.base import ARCHModelResult\n",
    "\n",
    "import copy\n",
    "from tqdm import tqdm\n",
    "import warnings\n",
    "warnings.filterwarnings('ignore')"
   ]
  },
  {
   "cell_type": "markdown",
   "id": "7d9e9be3",
   "metadata": {},
   "source": [
    "# 1. Load Cleaned Dataset\n",
    "Cleaned dataset là dataset BTC cung cấp đã trải qua làm sạch và tiền xử lý"
   ]
  },
  {
   "cell_type": "code",
   "execution_count": 3,
   "id": "791c47e4",
   "metadata": {
    "execution": {
     "iopub.execute_input": "2025-07-28T06:16:46.052158Z",
     "iopub.status.busy": "2025-07-28T06:16:46.051699Z",
     "iopub.status.idle": "2025-07-28T06:16:46.082298Z",
     "shell.execute_reply": "2025-07-28T06:16:46.081404Z",
     "shell.execute_reply.started": "2025-07-28T06:16:46.052136Z"
    },
    "trusted": true
   },
   "outputs": [],
   "source": [
    "# Truy cập ra ngoài thư mục notebooks, rồi vào data/\n",
    "import os\n",
    "dataset_path = os.path.join('..', 'data', 'cleaned_data.csv')\n",
    "\n",
    "# Load data\n",
    "data = pd.read_csv(dataset_path, encoding='utf-8', parse_dates=['Time'])"
   ]
  },
  {
   "cell_type": "code",
   "execution_count": 4,
   "id": "aebe186e",
   "metadata": {
    "execution": {
     "iopub.execute_input": "2025-07-28T06:16:46.083239Z",
     "iopub.status.busy": "2025-07-28T06:16:46.083030Z",
     "iopub.status.idle": "2025-07-28T06:16:46.106595Z",
     "shell.execute_reply": "2025-07-28T06:16:46.105950Z",
     "shell.execute_reply.started": "2025-07-28T06:16:46.083222Z"
    },
    "trusted": true
   },
   "outputs": [
    {
     "name": "stdout",
     "output_type": "stream",
     "text": [
      "<class 'pandas.core.frame.DataFrame'>\n",
      "RangeIndex: 390 entries, 0 to 389\n",
      "Data columns (total 5 columns):\n",
      " #   Column                  Non-Null Count  Dtype         \n",
      "---  ------                  --------------  -----         \n",
      " 0   Time                    390 non-null    datetime64[ns]\n",
      " 1   Crypto                  390 non-null    float64       \n",
      " 2   Buying_Price_of_Nexus   390 non-null    float64       \n",
      " 3   Selling_Price_of_Nexus  390 non-null    float64       \n",
      " 4   Price_of_Stock          390 non-null    float64       \n",
      "dtypes: datetime64[ns](1), float64(4)\n",
      "memory usage: 15.4 KB\n"
     ]
    }
   ],
   "source": [
    "data.info()"
   ]
  },
  {
   "cell_type": "code",
   "execution_count": 5,
   "id": "2077eb82",
   "metadata": {
    "execution": {
     "iopub.execute_input": "2025-07-28T06:16:46.108922Z",
     "iopub.status.busy": "2025-07-28T06:16:46.108464Z",
     "iopub.status.idle": "2025-07-28T06:16:46.140852Z",
     "shell.execute_reply": "2025-07-28T06:16:46.140075Z",
     "shell.execute_reply.started": "2025-07-28T06:16:46.108902Z"
    },
    "trusted": true
   },
   "outputs": [
    {
     "data": {
      "text/html": [
       "<div>\n",
       "<style scoped>\n",
       "    .dataframe tbody tr th:only-of-type {\n",
       "        vertical-align: middle;\n",
       "    }\n",
       "\n",
       "    .dataframe tbody tr th {\n",
       "        vertical-align: top;\n",
       "    }\n",
       "\n",
       "    .dataframe thead th {\n",
       "        text-align: right;\n",
       "    }\n",
       "</style>\n",
       "<table border=\"1\" class=\"dataframe\">\n",
       "  <thead>\n",
       "    <tr style=\"text-align: right;\">\n",
       "      <th></th>\n",
       "      <th>Time</th>\n",
       "      <th>Crypto</th>\n",
       "      <th>Buying_Price_of_Nexus</th>\n",
       "      <th>Selling_Price_of_Nexus</th>\n",
       "      <th>Price_of_Stock</th>\n",
       "    </tr>\n",
       "  </thead>\n",
       "  <tbody>\n",
       "    <tr>\n",
       "      <th>0</th>\n",
       "      <td>2024-05-20</td>\n",
       "      <td>4174.950000</td>\n",
       "      <td>1270.30</td>\n",
       "      <td>1272.56</td>\n",
       "      <td>113.456685</td>\n",
       "    </tr>\n",
       "    <tr>\n",
       "      <th>1</th>\n",
       "      <td>2024-05-21</td>\n",
       "      <td>4340.316717</td>\n",
       "      <td>1272.75</td>\n",
       "      <td>1277.70</td>\n",
       "      <td>114.961755</td>\n",
       "    </tr>\n",
       "    <tr>\n",
       "      <th>2</th>\n",
       "      <td>2024-05-22</td>\n",
       "      <td>4331.770000</td>\n",
       "      <td>1285.15</td>\n",
       "      <td>1287.88</td>\n",
       "      <td>110.453726</td>\n",
       "    </tr>\n",
       "    <tr>\n",
       "      <th>3</th>\n",
       "      <td>2024-05-23</td>\n",
       "      <td>4360.513317</td>\n",
       "      <td>1295.80</td>\n",
       "      <td>1297.22</td>\n",
       "      <td>110.921833</td>\n",
       "    </tr>\n",
       "    <tr>\n",
       "      <th>4</th>\n",
       "      <td>2024-05-24</td>\n",
       "      <td>4354.308333</td>\n",
       "      <td>1292.90</td>\n",
       "      <td>1297.53</td>\n",
       "      <td>109.518120</td>\n",
       "    </tr>\n",
       "  </tbody>\n",
       "</table>\n",
       "</div>"
      ],
      "text/plain": [
       "        Time       Crypto  Buying_Price_of_Nexus  Selling_Price_of_Nexus  \\\n",
       "0 2024-05-20  4174.950000                1270.30                 1272.56   \n",
       "1 2024-05-21  4340.316717                1272.75                 1277.70   \n",
       "2 2024-05-22  4331.770000                1285.15                 1287.88   \n",
       "3 2024-05-23  4360.513317                1295.80                 1297.22   \n",
       "4 2024-05-24  4354.308333                1292.90                 1297.53   \n",
       "\n",
       "   Price_of_Stock  \n",
       "0      113.456685  \n",
       "1      114.961755  \n",
       "2      110.453726  \n",
       "3      110.921833  \n",
       "4      109.518120  "
      ]
     },
     "execution_count": 5,
     "metadata": {},
     "output_type": "execute_result"
    }
   ],
   "source": [
    "data.head()"
   ]
  },
  {
   "cell_type": "markdown",
   "id": "4dcfadb2",
   "metadata": {},
   "source": [
    "# 2. Chuẩn bị và Biến đổi Dữ liệu (Transform)"
   ]
  },
  {
   "cell_type": "markdown",
   "id": "cc4d4bec-3777-4a6a-8a36-5340b3276c70",
   "metadata": {},
   "source": [
    "Để đơn giản mô hình và có nâng cao tính tái sử dụng mã nguồn, nhóm sẽ đặt ra các giả định sau:\n",
    "\n",
    "- Ước lược chi phí giao dịch kim loại Nexus là trung bình độ lệch giữa giá bán và giá mua. \n",
    "- Tạo cột `Average_Price_of_Nexus` là trung bình của `Buying_Price_of_Nexus` và `Selling_Price_of_Nexus`.\n",
    "\n",
    "Điều này là hợp lý vì giá bán và giá mua luôn theo sát nhau, thể hiện qua hệ số tương quan đạt 99.95%"
   ]
  },
  {
   "cell_type": "code",
   "execution_count": 6,
   "id": "f710e2e1-9fbb-4ecc-a306-59b780419285",
   "metadata": {
    "execution": {
     "iopub.execute_input": "2025-07-28T06:16:46.142478Z",
     "iopub.status.busy": "2025-07-28T06:16:46.141690Z",
     "iopub.status.idle": "2025-07-28T06:16:46.154347Z",
     "shell.execute_reply": "2025-07-28T06:16:46.153680Z",
     "shell.execute_reply.started": "2025-07-28T06:16:46.142457Z"
    },
    "trusted": true
   },
   "outputs": [
    {
     "name": "stdout",
     "output_type": "stream",
     "text": [
      "Hệ số tương quan giữa giá mua và giá bán là: 0.9995\n"
     ]
    }
   ],
   "source": [
    "correlation = data['Buying_Price_of_Nexus'].corr(data['Selling_Price_of_Nexus'])\n",
    "print(f\"Hệ số tương quan giữa giá mua và giá bán là: {correlation:.4f}\")"
   ]
  },
  {
   "cell_type": "code",
   "execution_count": 7,
   "id": "c46fa7eb-495b-40e1-b7f0-c9c8a0ffcb26",
   "metadata": {
    "execution": {
     "iopub.execute_input": "2025-07-28T06:16:46.155443Z",
     "iopub.status.busy": "2025-07-28T06:16:46.155147Z",
     "iopub.status.idle": "2025-07-28T06:16:46.164485Z",
     "shell.execute_reply": "2025-07-28T06:16:46.163648Z",
     "shell.execute_reply.started": "2025-07-28T06:16:46.155424Z"
    },
    "trusted": true
   },
   "outputs": [
    {
     "name": "stdout",
     "output_type": "stream",
     "text": [
      "Vậy phí giao dịch của nexus trung bình là 0.003101658626783291\n"
     ]
    }
   ],
   "source": [
    "price_buy = data['Buying_Price_of_Nexus']\n",
    "price_sell = data['Selling_Price_of_Nexus']\n",
    "price_avg = (price_buy + price_sell) / 2\n",
    "\n",
    "avg_transaction_cost_nexus = ((price_sell - price_buy) / price_avg).mean()\n",
    "\n",
    "# Tính phí giao dịch trung bình toàn thị trường\n",
    "print(f\"Vậy phí giao dịch của nexus trung bình là {avg_transaction_cost_nexus}\")"
   ]
  },
  {
   "cell_type": "code",
   "execution_count": 8,
   "id": "65b0c5c3-73c3-4a5a-b83b-6202abfc5bdd",
   "metadata": {
    "execution": {
     "iopub.execute_input": "2025-07-28T06:16:46.165288Z",
     "iopub.status.busy": "2025-07-28T06:16:46.165070Z",
     "iopub.status.idle": "2025-07-28T06:16:46.188282Z",
     "shell.execute_reply": "2025-07-28T06:16:46.187628Z",
     "shell.execute_reply.started": "2025-07-28T06:16:46.165272Z"
    },
    "trusted": true
   },
   "outputs": [
    {
     "data": {
      "text/html": [
       "<div>\n",
       "<style scoped>\n",
       "    .dataframe tbody tr th:only-of-type {\n",
       "        vertical-align: middle;\n",
       "    }\n",
       "\n",
       "    .dataframe tbody tr th {\n",
       "        vertical-align: top;\n",
       "    }\n",
       "\n",
       "    .dataframe thead th {\n",
       "        text-align: right;\n",
       "    }\n",
       "</style>\n",
       "<table border=\"1\" class=\"dataframe\">\n",
       "  <thead>\n",
       "    <tr style=\"text-align: right;\">\n",
       "      <th></th>\n",
       "      <th>Time</th>\n",
       "      <th>Crypto</th>\n",
       "      <th>Price_of_Stock</th>\n",
       "      <th>Average_Price_of_Nexus</th>\n",
       "    </tr>\n",
       "  </thead>\n",
       "  <tbody>\n",
       "    <tr>\n",
       "      <th>0</th>\n",
       "      <td>2024-05-20</td>\n",
       "      <td>4174.950000</td>\n",
       "      <td>113.456685</td>\n",
       "      <td>1271.430</td>\n",
       "    </tr>\n",
       "    <tr>\n",
       "      <th>1</th>\n",
       "      <td>2024-05-21</td>\n",
       "      <td>4340.316717</td>\n",
       "      <td>114.961755</td>\n",
       "      <td>1275.225</td>\n",
       "    </tr>\n",
       "    <tr>\n",
       "      <th>2</th>\n",
       "      <td>2024-05-22</td>\n",
       "      <td>4331.770000</td>\n",
       "      <td>110.453726</td>\n",
       "      <td>1286.515</td>\n",
       "    </tr>\n",
       "    <tr>\n",
       "      <th>3</th>\n",
       "      <td>2024-05-23</td>\n",
       "      <td>4360.513317</td>\n",
       "      <td>110.921833</td>\n",
       "      <td>1296.510</td>\n",
       "    </tr>\n",
       "    <tr>\n",
       "      <th>4</th>\n",
       "      <td>2024-05-24</td>\n",
       "      <td>4354.308333</td>\n",
       "      <td>109.518120</td>\n",
       "      <td>1295.215</td>\n",
       "    </tr>\n",
       "  </tbody>\n",
       "</table>\n",
       "</div>"
      ],
      "text/plain": [
       "        Time       Crypto  Price_of_Stock  Average_Price_of_Nexus\n",
       "0 2024-05-20  4174.950000      113.456685                1271.430\n",
       "1 2024-05-21  4340.316717      114.961755                1275.225\n",
       "2 2024-05-22  4331.770000      110.453726                1286.515\n",
       "3 2024-05-23  4360.513317      110.921833                1296.510\n",
       "4 2024-05-24  4354.308333      109.518120                1295.215"
      ]
     },
     "execution_count": 8,
     "metadata": {},
     "output_type": "execute_result"
    }
   ],
   "source": [
    "# Tạo cột mới là trung bình và xóa 2 cột cũ\n",
    "data[\"Average_Price_of_Nexus\"] = (data[\"Buying_Price_of_Nexus\"] + data[\"Selling_Price_of_Nexus\"]) / 2\n",
    "data.drop([\"Buying_Price_of_Nexus\", \"Selling_Price_of_Nexus\"], axis=1, inplace=True)\n",
    "\n",
    "# Xem kết quả\n",
    "data.head()"
   ]
  },
  {
   "cell_type": "markdown",
   "id": "4cb714d9-ca1d-4002-a8e9-554d060f58ea",
   "metadata": {},
   "source": [
    "## 2.1 Tính Tỷ suất sinh lợi Logarit Hàng ngày (Daily Log Returns)"
   ]
  },
  {
   "cell_type": "markdown",
   "id": "7847e6ee",
   "metadata": {},
   "source": [
    "Mô hình Markowitz không hoạt động trên giá mà trên tỷ suất sinh lợi (returns). Vì vậy, bước đầu tiên và quan trọng nhất là chuyển đổi dữ liệu giá thành tỷ suất sinh lợi hàng ngày.\n",
    "\n",
    "**Tính tỷ suất sinh lợi logarit hàng ngày (Daily Log Returns)**:\n",
    "Thay vì lợi nhuận phần trăm đơn giản, ta nên dùng lợi nhuận logarit.\n",
    "\n",
    "* Công thức: $r_t = \\log(P_t) - \\log(P_{t-1})$\n",
    "* **Lợi ích**: Gần với phân phối chuẩn hơn, dễ cộng dồn theo thời gian.\n",
    "\n",
    "Kết quả là chuỗi tỷ suất sinh lợi hàng ngày cho 3 tài sản: Tiết kiệm, Crypto, Cổ phiếu, Nexus."
   ]
  },
  {
   "cell_type": "code",
   "execution_count": 9,
   "id": "7452561e",
   "metadata": {
    "execution": {
     "iopub.execute_input": "2025-07-28T06:16:46.189839Z",
     "iopub.status.busy": "2025-07-28T06:16:46.189060Z",
     "iopub.status.idle": "2025-07-28T06:16:46.209538Z",
     "shell.execute_reply": "2025-07-28T06:16:46.208771Z",
     "shell.execute_reply.started": "2025-07-28T06:16:46.189814Z"
    },
    "trusted": true
   },
   "outputs": [],
   "source": [
    "# Tính log return hàng ngày\n",
    "daily_log_returns = np.log(data.drop(columns='Time') / data.drop(columns='Time').shift(1)).dropna()\n",
    "\n",
    "# Đổi tên cột cho cho đúng bản chất \n",
    "daily_log_returns = daily_log_returns.rename(columns={\n",
    "    'Crypto': 'Crypto_Returns',\n",
    "    'Price_of_Stock': 'Stocks_Returns',\n",
    "    'Average_Price_of_Nexus': 'Nexus_Returns'\n",
    "})\n",
    "\n",
    "# Thêm lại cột thời gian tương ứng\n",
    "daily_log_returns = daily_log_returns.assign(Time=data['Time'].iloc[1:].values)"
   ]
  },
  {
   "cell_type": "code",
   "execution_count": 10,
   "id": "40a1cce5",
   "metadata": {
    "execution": {
     "iopub.execute_input": "2025-07-28T06:16:46.210868Z",
     "iopub.status.busy": "2025-07-28T06:16:46.210439Z",
     "iopub.status.idle": "2025-07-28T06:16:46.223391Z",
     "shell.execute_reply": "2025-07-28T06:16:46.222307Z",
     "shell.execute_reply.started": "2025-07-28T06:16:46.210839Z"
    },
    "trusted": true
   },
   "outputs": [
    {
     "data": {
      "text/html": [
       "<div>\n",
       "<style scoped>\n",
       "    .dataframe tbody tr th:only-of-type {\n",
       "        vertical-align: middle;\n",
       "    }\n",
       "\n",
       "    .dataframe tbody tr th {\n",
       "        vertical-align: top;\n",
       "    }\n",
       "\n",
       "    .dataframe thead th {\n",
       "        text-align: right;\n",
       "    }\n",
       "</style>\n",
       "<table border=\"1\" class=\"dataframe\">\n",
       "  <thead>\n",
       "    <tr style=\"text-align: right;\">\n",
       "      <th></th>\n",
       "      <th>Crypto_Returns</th>\n",
       "      <th>Stocks_Returns</th>\n",
       "      <th>Nexus_Returns</th>\n",
       "      <th>Time</th>\n",
       "    </tr>\n",
       "  </thead>\n",
       "  <tbody>\n",
       "    <tr>\n",
       "      <th>1</th>\n",
       "      <td>0.038845</td>\n",
       "      <td>0.013178</td>\n",
       "      <td>0.002980</td>\n",
       "      <td>2024-05-21</td>\n",
       "    </tr>\n",
       "    <tr>\n",
       "      <th>2</th>\n",
       "      <td>-0.001971</td>\n",
       "      <td>-0.040003</td>\n",
       "      <td>0.008814</td>\n",
       "      <td>2024-05-22</td>\n",
       "    </tr>\n",
       "    <tr>\n",
       "      <th>3</th>\n",
       "      <td>0.006614</td>\n",
       "      <td>0.004229</td>\n",
       "      <td>0.007739</td>\n",
       "      <td>2024-05-23</td>\n",
       "    </tr>\n",
       "    <tr>\n",
       "      <th>4</th>\n",
       "      <td>-0.001424</td>\n",
       "      <td>-0.012736</td>\n",
       "      <td>-0.000999</td>\n",
       "      <td>2024-05-24</td>\n",
       "    </tr>\n",
       "    <tr>\n",
       "      <th>5</th>\n",
       "      <td>-0.003510</td>\n",
       "      <td>0.000000</td>\n",
       "      <td>0.000000</td>\n",
       "      <td>2024-05-25</td>\n",
       "    </tr>\n",
       "    <tr>\n",
       "      <th>...</th>\n",
       "      <td>...</td>\n",
       "      <td>...</td>\n",
       "      <td>...</td>\n",
       "      <td>...</td>\n",
       "    </tr>\n",
       "    <tr>\n",
       "      <th>385</th>\n",
       "      <td>-0.003689</td>\n",
       "      <td>0.030113</td>\n",
       "      <td>0.005703</td>\n",
       "      <td>2025-06-09</td>\n",
       "    </tr>\n",
       "    <tr>\n",
       "      <th>386</th>\n",
       "      <td>0.008398</td>\n",
       "      <td>-0.015309</td>\n",
       "      <td>-0.002781</td>\n",
       "      <td>2025-06-10</td>\n",
       "    </tr>\n",
       "    <tr>\n",
       "      <th>387</th>\n",
       "      <td>0.026983</td>\n",
       "      <td>0.009929</td>\n",
       "      <td>0.001555</td>\n",
       "      <td>2025-06-11</td>\n",
       "    </tr>\n",
       "    <tr>\n",
       "      <th>388</th>\n",
       "      <td>0.003010</td>\n",
       "      <td>0.038140</td>\n",
       "      <td>-0.004197</td>\n",
       "      <td>2025-06-12</td>\n",
       "    </tr>\n",
       "    <tr>\n",
       "      <th>389</th>\n",
       "      <td>0.000573</td>\n",
       "      <td>0.027408</td>\n",
       "      <td>-0.001433</td>\n",
       "      <td>2025-06-13</td>\n",
       "    </tr>\n",
       "  </tbody>\n",
       "</table>\n",
       "<p>389 rows × 4 columns</p>\n",
       "</div>"
      ],
      "text/plain": [
       "     Crypto_Returns  Stocks_Returns  Nexus_Returns       Time\n",
       "1          0.038845        0.013178       0.002980 2024-05-21\n",
       "2         -0.001971       -0.040003       0.008814 2024-05-22\n",
       "3          0.006614        0.004229       0.007739 2024-05-23\n",
       "4         -0.001424       -0.012736      -0.000999 2024-05-24\n",
       "5         -0.003510        0.000000       0.000000 2024-05-25\n",
       "..              ...             ...            ...        ...\n",
       "385       -0.003689        0.030113       0.005703 2025-06-09\n",
       "386        0.008398       -0.015309      -0.002781 2025-06-10\n",
       "387        0.026983        0.009929       0.001555 2025-06-11\n",
       "388        0.003010        0.038140      -0.004197 2025-06-12\n",
       "389        0.000573        0.027408      -0.001433 2025-06-13\n",
       "\n",
       "[389 rows x 4 columns]"
      ]
     },
     "execution_count": 10,
     "metadata": {},
     "output_type": "execute_result"
    }
   ],
   "source": [
    "daily_log_returns"
   ]
  },
  {
   "cell_type": "markdown",
   "id": "7957c971-b1e0-4c96-aec8-0b4f261fd53a",
   "metadata": {},
   "source": [
    "## 2.2 Phân chia Tập dữ liệu Huấn luyện và Kiểm tra\n",
    "\n",
    "Đề bài yêu cầu xây dựng một giải pháp đầu tư cho khoảng thời gian một năm, trong khi bộ dữ liệu được cung cấp gồm 390 ngày. Một thách thức lớn là cân bằng giữa việc có đủ dữ liệu để kiểm tra (backtest) và có đủ dữ liệu để huấn luyện mô hình một cách hiệu quả.\n",
    "\n",
    "Sau khi thử nghiệm, nhóm nhận thấy việc huấn luyện mô hình trên một khoảng thời gian dài (ví dụ: 10 tháng) không mang lại kết quả tốt, có thể do các xu hướng thị trường cũ không còn phù hợp với bối cảnh hiện tại.\n",
    "\n",
    "Do đó, một quyết định chiến lược đã được đưa ra: sử dụng một cửa sổ huấn luyện ngắn hạn là **30 ngày** và dành phần lớn dữ liệu (**360 ngày**) cho việc kiểm tra.\n",
    "\n",
    "**Lý do lựa chọn:**\n",
    "\n",
    "* **Tập trung vào xu hướng gần nhất:** Việc chỉ sử dụng 30 ngày dữ liệu gần nhất giúp mô hình trở nên \"nhạy bén\" hơn với các động lực thị trường hiện tại, thay vì bị ảnh hưởng bởi các quy luật đã lỗi thời trong quá khứ.\n",
    "* **Phù hợp với chu kỳ đầu tư:** Cửa sổ huấn luyện 30 ngày hoàn toàn tương thích với chu kỳ tái cân bằng danh mục hàng tháng, đảm bảo mô hình được huấn luyện trên một khoảng thời gian tương đương với tần suất ra quyết định.\n",
    "* **Tối đa hóa thời gian kiểm tra:** Cách tiếp cận này cho phép kiểm chứng hiệu quả của chiến lược trên một khoảng thời gian dài gần một năm (360 ngày - tương đương 11 tháng 20 ngày), đáp ứng tốt nhất yêu cầu của đề bài. Kết quả sẽ được đánh giá dựa trên hiệu suất của 11 tháng trong tập kiểm tra này."
   ]
  },
  {
   "cell_type": "code",
   "execution_count": 11,
   "id": "f88f6a5a-cb8f-4b73-ae2e-c0049f680904",
   "metadata": {
    "execution": {
     "iopub.execute_input": "2025-07-28T06:16:46.224765Z",
     "iopub.status.busy": "2025-07-28T06:16:46.224357Z",
     "iopub.status.idle": "2025-07-28T06:16:46.237631Z",
     "shell.execute_reply": "2025-07-28T06:16:46.236793Z",
     "shell.execute_reply.started": "2025-07-28T06:16:46.224716Z"
    },
    "trusted": true
   },
   "outputs": [],
   "source": [
    "# Mỗi tháng ta sẽ dùng 30 ngày trước đó làm tập training\n",
    "train_day = 30\n",
    "test_day = len(daily_log_returns) - train_day\n",
    "daily_log_returns_test = daily_log_returns[-test_day:]\n",
    "daily_log_returns = daily_log_returns[0:train_day]"
   ]
  },
  {
   "cell_type": "code",
   "execution_count": 12,
   "id": "cac137b5-5907-4e1f-85fd-5b844ad7e2c4",
   "metadata": {
    "execution": {
     "iopub.execute_input": "2025-07-28T06:16:46.238810Z",
     "iopub.status.busy": "2025-07-28T06:16:46.238530Z",
     "iopub.status.idle": "2025-07-28T06:16:46.265034Z",
     "shell.execute_reply": "2025-07-28T06:16:46.263939Z",
     "shell.execute_reply.started": "2025-07-28T06:16:46.238778Z"
    },
    "trusted": true
   },
   "outputs": [
    {
     "data": {
      "text/html": [
       "<div>\n",
       "<style scoped>\n",
       "    .dataframe tbody tr th:only-of-type {\n",
       "        vertical-align: middle;\n",
       "    }\n",
       "\n",
       "    .dataframe tbody tr th {\n",
       "        vertical-align: top;\n",
       "    }\n",
       "\n",
       "    .dataframe thead th {\n",
       "        text-align: right;\n",
       "    }\n",
       "</style>\n",
       "<table border=\"1\" class=\"dataframe\">\n",
       "  <thead>\n",
       "    <tr style=\"text-align: right;\">\n",
       "      <th></th>\n",
       "      <th>Crypto_Returns</th>\n",
       "      <th>Stocks_Returns</th>\n",
       "      <th>Nexus_Returns</th>\n",
       "      <th>Time</th>\n",
       "    </tr>\n",
       "  </thead>\n",
       "  <tbody>\n",
       "    <tr>\n",
       "      <th>31</th>\n",
       "      <td>0.037470</td>\n",
       "      <td>-0.024456</td>\n",
       "      <td>0.000354</td>\n",
       "      <td>2024-06-20</td>\n",
       "    </tr>\n",
       "    <tr>\n",
       "      <th>32</th>\n",
       "      <td>0.000326</td>\n",
       "      <td>0.033148</td>\n",
       "      <td>-0.000284</td>\n",
       "      <td>2024-06-21</td>\n",
       "    </tr>\n",
       "    <tr>\n",
       "      <th>33</th>\n",
       "      <td>0.042735</td>\n",
       "      <td>0.000000</td>\n",
       "      <td>0.000000</td>\n",
       "      <td>2024-06-22</td>\n",
       "    </tr>\n",
       "    <tr>\n",
       "      <th>34</th>\n",
       "      <td>-0.008213</td>\n",
       "      <td>0.000000</td>\n",
       "      <td>0.000000</td>\n",
       "      <td>2024-06-23</td>\n",
       "    </tr>\n",
       "    <tr>\n",
       "      <th>35</th>\n",
       "      <td>-0.007523</td>\n",
       "      <td>-0.033289</td>\n",
       "      <td>-0.007727</td>\n",
       "      <td>2024-06-24</td>\n",
       "    </tr>\n",
       "    <tr>\n",
       "      <th>...</th>\n",
       "      <td>...</td>\n",
       "      <td>...</td>\n",
       "      <td>...</td>\n",
       "      <td>...</td>\n",
       "    </tr>\n",
       "    <tr>\n",
       "      <th>385</th>\n",
       "      <td>-0.003689</td>\n",
       "      <td>0.030113</td>\n",
       "      <td>0.005703</td>\n",
       "      <td>2025-06-09</td>\n",
       "    </tr>\n",
       "    <tr>\n",
       "      <th>386</th>\n",
       "      <td>0.008398</td>\n",
       "      <td>-0.015309</td>\n",
       "      <td>-0.002781</td>\n",
       "      <td>2025-06-10</td>\n",
       "    </tr>\n",
       "    <tr>\n",
       "      <th>387</th>\n",
       "      <td>0.026983</td>\n",
       "      <td>0.009929</td>\n",
       "      <td>0.001555</td>\n",
       "      <td>2025-06-11</td>\n",
       "    </tr>\n",
       "    <tr>\n",
       "      <th>388</th>\n",
       "      <td>0.003010</td>\n",
       "      <td>0.038140</td>\n",
       "      <td>-0.004197</td>\n",
       "      <td>2025-06-12</td>\n",
       "    </tr>\n",
       "    <tr>\n",
       "      <th>389</th>\n",
       "      <td>0.000573</td>\n",
       "      <td>0.027408</td>\n",
       "      <td>-0.001433</td>\n",
       "      <td>2025-06-13</td>\n",
       "    </tr>\n",
       "  </tbody>\n",
       "</table>\n",
       "<p>359 rows × 4 columns</p>\n",
       "</div>"
      ],
      "text/plain": [
       "     Crypto_Returns  Stocks_Returns  Nexus_Returns       Time\n",
       "31         0.037470       -0.024456       0.000354 2024-06-20\n",
       "32         0.000326        0.033148      -0.000284 2024-06-21\n",
       "33         0.042735        0.000000       0.000000 2024-06-22\n",
       "34        -0.008213        0.000000       0.000000 2024-06-23\n",
       "35        -0.007523       -0.033289      -0.007727 2024-06-24\n",
       "..              ...             ...            ...        ...\n",
       "385       -0.003689        0.030113       0.005703 2025-06-09\n",
       "386        0.008398       -0.015309      -0.002781 2025-06-10\n",
       "387        0.026983        0.009929       0.001555 2025-06-11\n",
       "388        0.003010        0.038140      -0.004197 2025-06-12\n",
       "389        0.000573        0.027408      -0.001433 2025-06-13\n",
       "\n",
       "[359 rows x 4 columns]"
      ]
     },
     "execution_count": 12,
     "metadata": {},
     "output_type": "execute_result"
    }
   ],
   "source": [
    "daily_log_returns_test"
   ]
  },
  {
   "cell_type": "code",
   "execution_count": 13,
   "id": "84d36e60-4a8c-4ef2-8911-556b307a1013",
   "metadata": {
    "execution": {
     "iopub.execute_input": "2025-07-28T06:16:46.267546Z",
     "iopub.status.busy": "2025-07-28T06:16:46.265717Z",
     "iopub.status.idle": "2025-07-28T06:16:46.287604Z",
     "shell.execute_reply": "2025-07-28T06:16:46.286928Z",
     "shell.execute_reply.started": "2025-07-28T06:16:46.267520Z"
    },
    "trusted": true
   },
   "outputs": [
    {
     "data": {
      "text/html": [
       "<div>\n",
       "<style scoped>\n",
       "    .dataframe tbody tr th:only-of-type {\n",
       "        vertical-align: middle;\n",
       "    }\n",
       "\n",
       "    .dataframe tbody tr th {\n",
       "        vertical-align: top;\n",
       "    }\n",
       "\n",
       "    .dataframe thead th {\n",
       "        text-align: right;\n",
       "    }\n",
       "</style>\n",
       "<table border=\"1\" class=\"dataframe\">\n",
       "  <thead>\n",
       "    <tr style=\"text-align: right;\">\n",
       "      <th></th>\n",
       "      <th>Crypto_Returns</th>\n",
       "      <th>Stocks_Returns</th>\n",
       "      <th>Nexus_Returns</th>\n",
       "      <th>Time</th>\n",
       "    </tr>\n",
       "  </thead>\n",
       "  <tbody>\n",
       "    <tr>\n",
       "      <th>1</th>\n",
       "      <td>0.038845</td>\n",
       "      <td>0.013178</td>\n",
       "      <td>0.002980</td>\n",
       "      <td>2024-05-21</td>\n",
       "    </tr>\n",
       "    <tr>\n",
       "      <th>2</th>\n",
       "      <td>-0.001971</td>\n",
       "      <td>-0.040003</td>\n",
       "      <td>0.008814</td>\n",
       "      <td>2024-05-22</td>\n",
       "    </tr>\n",
       "    <tr>\n",
       "      <th>3</th>\n",
       "      <td>0.006614</td>\n",
       "      <td>0.004229</td>\n",
       "      <td>0.007739</td>\n",
       "      <td>2024-05-23</td>\n",
       "    </tr>\n",
       "    <tr>\n",
       "      <th>4</th>\n",
       "      <td>-0.001424</td>\n",
       "      <td>-0.012736</td>\n",
       "      <td>-0.000999</td>\n",
       "      <td>2024-05-24</td>\n",
       "    </tr>\n",
       "    <tr>\n",
       "      <th>5</th>\n",
       "      <td>-0.003510</td>\n",
       "      <td>0.000000</td>\n",
       "      <td>0.000000</td>\n",
       "      <td>2024-05-25</td>\n",
       "    </tr>\n",
       "    <tr>\n",
       "      <th>6</th>\n",
       "      <td>0.060135</td>\n",
       "      <td>0.000000</td>\n",
       "      <td>0.000000</td>\n",
       "      <td>2024-05-26</td>\n",
       "    </tr>\n",
       "    <tr>\n",
       "      <th>7</th>\n",
       "      <td>-0.002825</td>\n",
       "      <td>0.000404</td>\n",
       "      <td>-0.002404</td>\n",
       "      <td>2024-05-27</td>\n",
       "    </tr>\n",
       "    <tr>\n",
       "      <th>8</th>\n",
       "      <td>-0.002717</td>\n",
       "      <td>0.010600</td>\n",
       "      <td>-0.002953</td>\n",
       "      <td>2024-05-28</td>\n",
       "    </tr>\n",
       "    <tr>\n",
       "      <th>9</th>\n",
       "      <td>0.069379</td>\n",
       "      <td>0.017815</td>\n",
       "      <td>0.024528</td>\n",
       "      <td>2024-05-29</td>\n",
       "    </tr>\n",
       "    <tr>\n",
       "      <th>10</th>\n",
       "      <td>-0.069845</td>\n",
       "      <td>-0.023506</td>\n",
       "      <td>-0.008435</td>\n",
       "      <td>2024-05-30</td>\n",
       "    </tr>\n",
       "    <tr>\n",
       "      <th>11</th>\n",
       "      <td>0.001131</td>\n",
       "      <td>-0.006190</td>\n",
       "      <td>0.004303</td>\n",
       "      <td>2024-05-31</td>\n",
       "    </tr>\n",
       "    <tr>\n",
       "      <th>12</th>\n",
       "      <td>-0.054096</td>\n",
       "      <td>0.000000</td>\n",
       "      <td>0.000000</td>\n",
       "      <td>2024-06-01</td>\n",
       "    </tr>\n",
       "    <tr>\n",
       "      <th>13</th>\n",
       "      <td>0.032749</td>\n",
       "      <td>0.000000</td>\n",
       "      <td>0.000000</td>\n",
       "      <td>2024-06-02</td>\n",
       "    </tr>\n",
       "    <tr>\n",
       "      <th>14</th>\n",
       "      <td>-0.023373</td>\n",
       "      <td>0.014244</td>\n",
       "      <td>0.018051</td>\n",
       "      <td>2024-06-03</td>\n",
       "    </tr>\n",
       "    <tr>\n",
       "      <th>15</th>\n",
       "      <td>0.059674</td>\n",
       "      <td>0.008600</td>\n",
       "      <td>0.001500</td>\n",
       "      <td>2024-06-04</td>\n",
       "    </tr>\n",
       "    <tr>\n",
       "      <th>16</th>\n",
       "      <td>-0.076757</td>\n",
       "      <td>-0.024718</td>\n",
       "      <td>0.003102</td>\n",
       "      <td>2024-06-05</td>\n",
       "    </tr>\n",
       "    <tr>\n",
       "      <th>17</th>\n",
       "      <td>0.000350</td>\n",
       "      <td>0.018857</td>\n",
       "      <td>0.002224</td>\n",
       "      <td>2024-06-06</td>\n",
       "    </tr>\n",
       "    <tr>\n",
       "      <th>18</th>\n",
       "      <td>0.004095</td>\n",
       "      <td>0.042943</td>\n",
       "      <td>-0.008059</td>\n",
       "      <td>2024-06-07</td>\n",
       "    </tr>\n",
       "    <tr>\n",
       "      <th>19</th>\n",
       "      <td>-0.019088</td>\n",
       "      <td>0.000000</td>\n",
       "      <td>0.000000</td>\n",
       "      <td>2024-06-08</td>\n",
       "    </tr>\n",
       "    <tr>\n",
       "      <th>20</th>\n",
       "      <td>-0.011721</td>\n",
       "      <td>0.000000</td>\n",
       "      <td>0.000000</td>\n",
       "      <td>2024-06-09</td>\n",
       "    </tr>\n",
       "    <tr>\n",
       "      <th>21</th>\n",
       "      <td>-0.058184</td>\n",
       "      <td>-0.017923</td>\n",
       "      <td>-0.007850</td>\n",
       "      <td>2024-06-10</td>\n",
       "    </tr>\n",
       "    <tr>\n",
       "      <th>22</th>\n",
       "      <td>-0.176712</td>\n",
       "      <td>0.025838</td>\n",
       "      <td>-0.000524</td>\n",
       "      <td>2024-06-11</td>\n",
       "    </tr>\n",
       "    <tr>\n",
       "      <th>23</th>\n",
       "      <td>-0.031581</td>\n",
       "      <td>-0.013653</td>\n",
       "      <td>-0.008638</td>\n",
       "      <td>2024-06-12</td>\n",
       "    </tr>\n",
       "    <tr>\n",
       "      <th>24</th>\n",
       "      <td>0.157111</td>\n",
       "      <td>0.009376</td>\n",
       "      <td>-0.002159</td>\n",
       "      <td>2024-06-13</td>\n",
       "    </tr>\n",
       "    <tr>\n",
       "      <th>25</th>\n",
       "      <td>-0.004678</td>\n",
       "      <td>0.015993</td>\n",
       "      <td>0.000351</td>\n",
       "      <td>2024-06-14</td>\n",
       "    </tr>\n",
       "    <tr>\n",
       "      <th>26</th>\n",
       "      <td>-0.018192</td>\n",
       "      <td>0.000000</td>\n",
       "      <td>0.000000</td>\n",
       "      <td>2024-06-15</td>\n",
       "    </tr>\n",
       "    <tr>\n",
       "      <th>27</th>\n",
       "      <td>0.069533</td>\n",
       "      <td>0.000000</td>\n",
       "      <td>0.000000</td>\n",
       "      <td>2024-06-16</td>\n",
       "    </tr>\n",
       "    <tr>\n",
       "      <th>28</th>\n",
       "      <td>0.008622</td>\n",
       "      <td>-0.083054</td>\n",
       "      <td>-0.013735</td>\n",
       "      <td>2024-06-17</td>\n",
       "    </tr>\n",
       "    <tr>\n",
       "      <th>29</th>\n",
       "      <td>-0.021109</td>\n",
       "      <td>-0.019988</td>\n",
       "      <td>0.005962</td>\n",
       "      <td>2024-06-18</td>\n",
       "    </tr>\n",
       "    <tr>\n",
       "      <th>30</th>\n",
       "      <td>-0.068263</td>\n",
       "      <td>-0.004551</td>\n",
       "      <td>-0.012839</td>\n",
       "      <td>2024-06-19</td>\n",
       "    </tr>\n",
       "  </tbody>\n",
       "</table>\n",
       "</div>"
      ],
      "text/plain": [
       "    Crypto_Returns  Stocks_Returns  Nexus_Returns       Time\n",
       "1         0.038845        0.013178       0.002980 2024-05-21\n",
       "2        -0.001971       -0.040003       0.008814 2024-05-22\n",
       "3         0.006614        0.004229       0.007739 2024-05-23\n",
       "4        -0.001424       -0.012736      -0.000999 2024-05-24\n",
       "5        -0.003510        0.000000       0.000000 2024-05-25\n",
       "6         0.060135        0.000000       0.000000 2024-05-26\n",
       "7        -0.002825        0.000404      -0.002404 2024-05-27\n",
       "8        -0.002717        0.010600      -0.002953 2024-05-28\n",
       "9         0.069379        0.017815       0.024528 2024-05-29\n",
       "10       -0.069845       -0.023506      -0.008435 2024-05-30\n",
       "11        0.001131       -0.006190       0.004303 2024-05-31\n",
       "12       -0.054096        0.000000       0.000000 2024-06-01\n",
       "13        0.032749        0.000000       0.000000 2024-06-02\n",
       "14       -0.023373        0.014244       0.018051 2024-06-03\n",
       "15        0.059674        0.008600       0.001500 2024-06-04\n",
       "16       -0.076757       -0.024718       0.003102 2024-06-05\n",
       "17        0.000350        0.018857       0.002224 2024-06-06\n",
       "18        0.004095        0.042943      -0.008059 2024-06-07\n",
       "19       -0.019088        0.000000       0.000000 2024-06-08\n",
       "20       -0.011721        0.000000       0.000000 2024-06-09\n",
       "21       -0.058184       -0.017923      -0.007850 2024-06-10\n",
       "22       -0.176712        0.025838      -0.000524 2024-06-11\n",
       "23       -0.031581       -0.013653      -0.008638 2024-06-12\n",
       "24        0.157111        0.009376      -0.002159 2024-06-13\n",
       "25       -0.004678        0.015993       0.000351 2024-06-14\n",
       "26       -0.018192        0.000000       0.000000 2024-06-15\n",
       "27        0.069533        0.000000       0.000000 2024-06-16\n",
       "28        0.008622       -0.083054      -0.013735 2024-06-17\n",
       "29       -0.021109       -0.019988       0.005962 2024-06-18\n",
       "30       -0.068263       -0.004551      -0.012839 2024-06-19"
      ]
     },
     "execution_count": 13,
     "metadata": {},
     "output_type": "execute_result"
    }
   ],
   "source": [
    "daily_log_returns"
   ]
  },
  {
   "cell_type": "markdown",
   "id": "3e9b8380-79db-48ad-9113-b4191cf15204",
   "metadata": {},
   "source": [
    "## 2.3 Sử dụng Arima để ước lượng hệ số lợi nhuận kì vọng của mô hình Markovist"
   ]
  },
  {
   "cell_type": "markdown",
   "id": "d8972d0b-29ba-434c-ae42-df40287c49f6",
   "metadata": {},
   "source": [
    "Tại sao dùng ARIMA cho trường hợp này:\n",
    "\n",
    "- Ta đang muốn tìm tham số $\\mu$ (vector lợi nhuận kì vọng) cho mô hình Markovist, với cách triển khai cổ điển ta sẽ lấy trung bình log returns của dữ liệu (ta dự đoán lợi nhuận kì vọng của tài sản bằng cách tính trung bình lợi nhuận quá khứ của tài sản tương ứng - Tuy nhiên cách này có thể không phù hợp cho môi trường tài chính, khi biến động ngắn hạng thường có xu hướng là 1 bước ngẫu nhiên).\n",
    "- Thay vào đó ta sẽ sử dụng ARIMA (một mô hình thống kê truyền thống dự báo biến mục tiêu chỉ bằng lịch sử của chính biến mục tiêu). Vì giả thuyết đã đặt ra là chúng ta sẽ chỉ tái đầu tư vào mỗi đầu tháng mới, nên việc dùng Arima để dự đoán lợi nhuận trung bình của tài sản cho tháng tiếp theo là hợp lý."
   ]
  },
  {
   "cell_type": "markdown",
   "id": "2e4be75b-87ec-4125-8080-c6630bfbc2f4",
   "metadata": {},
   "source": [
    "Kiểm tra Tính dừng (Stationarity): Một yêu cầu bắt buộc của ARIMA là chuỗi thời gian phải \"dừng\" (có trung bình và phương sai không đổi theo thời gian)."
   ]
  },
  {
   "cell_type": "code",
   "execution_count": 14,
   "id": "bc262fdd-78ae-4d7b-896c-0980ae2ea64b",
   "metadata": {
    "execution": {
     "iopub.execute_input": "2025-07-28T06:16:46.291569Z",
     "iopub.status.busy": "2025-07-28T06:16:46.291334Z",
     "iopub.status.idle": "2025-07-28T06:16:46.309105Z",
     "shell.execute_reply": "2025-07-28T06:16:46.308146Z",
     "shell.execute_reply.started": "2025-07-28T06:16:46.291552Z"
    },
    "trusted": true
   },
   "outputs": [],
   "source": [
    "def check_stationarity(series, alpha=0.05, verbose=True):\n",
    "    \"\"\"\n",
    "    Kiểm tra tính dừng của một chuỗi thời gian bằng ADF Test.\n",
    "    \n",
    "    Args:\n",
    "        series (pd.Series): Chuỗi lợi nhuận/log return.\n",
    "        alpha (float): Mức ý nghĩa (significance level).\n",
    "        verbose (bool): In kết quả hay không.\n",
    "        \n",
    "    Returns:\n",
    "        is_stationary (bool): True nếu chuỗi dừng.\n",
    "        p_value (float): P-value từ kiểm định ADF.\n",
    "    \"\"\"\n",
    "    result = adfuller(series.dropna(), autolag='AIC')\n",
    "    p_value = result[1]\n",
    "    is_stationary = p_value < alpha\n",
    "\n",
    "    if verbose:\n",
    "        print(f\"ADF Statistic: {result[0]:.4f}\")\n",
    "        print(f\"p-value: {p_value:.4f}\")\n",
    "        print(f\"Stationary: {'YES' if is_stationary else 'NO'} (alpha={alpha})\")\n",
    "    \n",
    "    return is_stationary, p_value"
   ]
  },
  {
   "cell_type": "code",
   "execution_count": 15,
   "id": "908b2a33-26af-459a-8502-9a9f160e9bb2",
   "metadata": {
    "execution": {
     "iopub.execute_input": "2025-07-28T06:16:46.310231Z",
     "iopub.status.busy": "2025-07-28T06:16:46.309908Z",
     "iopub.status.idle": "2025-07-28T06:16:46.368681Z",
     "shell.execute_reply": "2025-07-28T06:16:46.367920Z",
     "shell.execute_reply.started": "2025-07-28T06:16:46.310205Z"
    },
    "trusted": true
   },
   "outputs": [
    {
     "name": "stdout",
     "output_type": "stream",
     "text": [
      "ADF Statistic: -5.2966\n",
      "p-value: 0.0000\n",
      "Stationary: YES (alpha=0.05)\n"
     ]
    },
    {
     "data": {
      "text/plain": [
       "(True, 5.56586516444246e-06)"
      ]
     },
     "execution_count": 15,
     "metadata": {},
     "output_type": "execute_result"
    }
   ],
   "source": [
    "# Kiểm tra chuỗi log return của Crypto\n",
    "check_stationarity(daily_log_returns['Crypto_Returns'])"
   ]
  },
  {
   "cell_type": "code",
   "execution_count": 16,
   "id": "81d094f8-6280-4272-9eb5-930836436da2",
   "metadata": {
    "execution": {
     "iopub.execute_input": "2025-07-28T06:16:46.369979Z",
     "iopub.status.busy": "2025-07-28T06:16:46.369604Z",
     "iopub.status.idle": "2025-07-28T06:16:46.381974Z",
     "shell.execute_reply": "2025-07-28T06:16:46.381126Z",
     "shell.execute_reply.started": "2025-07-28T06:16:46.369953Z"
    },
    "trusted": true
   },
   "outputs": [
    {
     "name": "stdout",
     "output_type": "stream",
     "text": [
      "ADF Statistic: -1.2823\n",
      "p-value: 0.6372\n",
      "Stationary: NO (alpha=0.05)\n"
     ]
    },
    {
     "data": {
      "text/plain": [
       "(False, 0.637227084648304)"
      ]
     },
     "execution_count": 16,
     "metadata": {},
     "output_type": "execute_result"
    }
   ],
   "source": [
    "# Kiểm tra chuỗi log return của Nexus - Lấy Buy làm minh họa \n",
    "check_stationarity(daily_log_returns['Nexus_Returns'])"
   ]
  },
  {
   "cell_type": "code",
   "execution_count": 17,
   "id": "7ad025e0-4db6-4b4d-a720-9a67cdee60c1",
   "metadata": {
    "execution": {
     "iopub.execute_input": "2025-07-28T06:16:46.383329Z",
     "iopub.status.busy": "2025-07-28T06:16:46.382986Z",
     "iopub.status.idle": "2025-07-28T06:16:46.397339Z",
     "shell.execute_reply": "2025-07-28T06:16:46.396772Z",
     "shell.execute_reply.started": "2025-07-28T06:16:46.383301Z"
    },
    "trusted": true
   },
   "outputs": [
    {
     "name": "stdout",
     "output_type": "stream",
     "text": [
      "ADF Statistic: -5.1605\n",
      "p-value: 0.0000\n",
      "Stationary: YES (alpha=0.05)\n"
     ]
    },
    {
     "data": {
      "text/plain": [
       "(True, 1.0580839473608109e-05)"
      ]
     },
     "execution_count": 17,
     "metadata": {},
     "output_type": "execute_result"
    }
   ],
   "source": [
    "# Kiểm tra chuỗi log return của Stock\n",
    "check_stationarity(daily_log_returns['Stocks_Returns'])"
   ]
  },
  {
   "cell_type": "markdown",
   "id": "8d0783f9-c1dd-40ab-80e8-850c9249825c",
   "metadata": {},
   "source": [
    "# 3. Xây dựng Mô hình ARIMA+GARCH"
   ]
  },
  {
   "cell_type": "markdown",
   "id": "acb078f8-4bf8-4959-82eb-7e1a355752ea",
   "metadata": {},
   "source": [
    "### Tại sao phải là mô hình ARIMA + GARCH?\n",
    "- Việc chỉ dùng ARIMA để dự đoán lợi nhuận trung bình cho tháng tiếp theo là 1 hướng tiếp cận phổ biến, tuy nhiên không phải lúc nào đây cũng là 1 giải pháp tối ưu. Bởi nếu ta quyết định áp dụng ARIMA trên dữ liệu theo tháng, thì sau đó data chỉ còn 12 dòng (tương ứng cho 12 tháng của 390 ngày dũ liệu). Do ARIMA là một mô hình mô phỏng biến động bằng chính lịch sử, việc có quá ít điểm dữ liệu để training sẽ tiềm ẩn rủi ro under fitting.\n",
    "\n",
    "- Vì vậy thay dùng ARIMA trên lợi nhuận theo tháng, dùng ARIMA trên lợi nhuận theo ngày sẽ hợp lý hơn về mặt đầy đủ dữ liệu. Tuy nhiên như đã nói dự đoán giá tài sản ngày $t$ bằng giá các ngày $t-1$, $t-2$,... sẽ không mang ý nghĩa về mặt thực tế, bởi giá đơn lẻ ngày thường không có quá nhiều tương quan với toàn bộ quá khứ của nó, mà nó sẽ thiên về 1 bước ngẫu nhiên (Khái niệm random walk và chuyển động brown trong tài chính). Nên ta sẽ phải mô phỏng và tính trung bình 1 giai đoạn gồm nhiều ngày, hơn là một ngày đơn lẻ.\n",
    "\n",
    "- Đồng thời ta có thể kết hợp thêm mô hình GARCH, vì ARIMA khi đứng một mình là nó chỉ quan tâm đến giá trị trung bình mà bỏ qua một đặc tính cực kỳ quan trọng của dữ liệu tài chính: Tính tụ tập của phương sai (Volatility Clustering).\n",
    "\n",
    "- Nói một cách đơn giản, những giai đoạn có biến động lớn thường đi liền với nhau, và những giai đoạn bình ổn cũng vậy. Rủi ro của ngày hôm nay có liên quan mật thiết đến rủi ro của ngày hôm qua. Mô hình GARCH ra đời chính là để nắm bắt và dự báo sự thay đổi của phương sai (rủi ro) này."
   ]
  },
  {
   "cell_type": "markdown",
   "id": "afb66f66-67dd-46e6-b135-573d1065fdaf",
   "metadata": {},
   "source": [
    "## 3.1 Định nghĩa các hàm cần thiết "
   ]
  },
  {
   "cell_type": "markdown",
   "id": "db0d0246-9212-4eeb-a372-2e718588a8ff",
   "metadata": {},
   "source": [
    "### 3.1.1 Xác định Tham số ARIMA (p, q)\n",
    "**Với mỗi tài sản**:\n",
    "1.  **Lấy chuỗi lợi nhuận lịch sử**: Sử dụng dữ liệu lợi nhuận hàng hàng.\n",
    "2.  **Xác định và Huấn luyện (Fit) mô hình ARIMA**: Tìm ra các tham số (p, d, q) phù hợp nhất cho mô hình ARIMA trên chuỗi dữ liệu lịch sử của tài sản đó.\n",
    "3.  **Dự báo cho giai đoạn tới**: Dùng mô hình ARIMA đã huấn luyện để dự báo tỷ suất sinh lợi cho ngày tiếp theo.\n",
    "\n",
    "**Kết quả**: Một vector lợi nhuận kỳ vọng $\\mu = [\\mu_1, \\mu_2, \\mu_3]$, trong đó mỗi $\\mu_i$ là lợi nhuận dự báo của tài sản $i$ cho tháng tới."
   ]
  },
  {
   "cell_type": "code",
   "execution_count": 18,
   "id": "676c3b23-4c07-4025-b74f-08a79322a728",
   "metadata": {
    "execution": {
     "iopub.execute_input": "2025-07-28T06:16:46.398091Z",
     "iopub.status.busy": "2025-07-28T06:16:46.397931Z",
     "iopub.status.idle": "2025-07-28T06:16:46.406158Z",
     "shell.execute_reply": "2025-07-28T06:16:46.405361Z",
     "shell.execute_reply.started": "2025-07-28T06:16:46.398079Z"
    },
    "trusted": true
   },
   "outputs": [],
   "source": [
    "def get_arima_forecasts_and_residuals(data, time_name_col, start=None, end=None, seasonal=False, max_order=5):\n",
    "    \"\"\"\n",
    "    Trả về: (μ: kỳ vọng, residuals: phần dư, arima_orders: dict các thông số ARIMA cho từng asset)\n",
    "    \"\"\"\n",
    "    data = data.set_index(time_name_col).copy()\n",
    "    if start or end:\n",
    "        data = data.loc[start:end]\n",
    "\n",
    "    mu = {}\n",
    "    all_residuals = {}\n",
    "    arima_orders = {}  # Thêm dict lưu thông số ARIMA\n",
    "\n",
    "    print(\"Bắt đầu tìm mô hình ARIMA cho từng tài sản...\")\n",
    "    for col in data.columns:\n",
    "        series = data[col].dropna()\n",
    "        if len(series) < 10:\n",
    "            print(f\"⚠️ Bỏ qua {col} do không đủ dữ liệu.\")\n",
    "            continue\n",
    "            \n",
    "        try:\n",
    "            model = auto_arima(\n",
    "                series,\n",
    "                seasonal=seasonal,\n",
    "                stepwise=True,\n",
    "                suppress_warnings=True,\n",
    "                error_action='ignore',\n",
    "                max_p=max_order,\n",
    "                max_q=max_order,\n",
    "                d=None,\n",
    "                trace=False\n",
    "            )\n",
    "            \n",
    "            forecast = model.predict(n_periods=1)\n",
    "            mu[col] = forecast.iloc[0]\n",
    "            all_residuals[col] = pd.Series(model.resid(), index=series.index)\n",
    "            arima_orders[col] = model.order  # Lưu lại bộ (p,d,q)\n",
    "            \n",
    "            print(f\"✅ {col}: Tìm thấy mô hình tối ưu ARIMA{model.order}\")\n",
    "\n",
    "        except Exception as e:\n",
    "            print(f\"❌ Lỗi ở {col}: {e}\")\n",
    "            mu[col] = 0\n",
    "            all_residuals[col] = None\n",
    "            arima_orders[col] = None  # hoặc bỏ qua tùy nhu cầu\n",
    "\n",
    "    mu_series = pd.Series(mu, name='Expected_Return')\n",
    "    residuals_df = pd.DataFrame(all_residuals)\n",
    "    \n",
    "    return mu_series, residuals_df, arima_orders"
   ]
  },
  {
   "cell_type": "code",
   "execution_count": 19,
   "id": "5cea01e1-b75e-4753-9522-491616a05dfa",
   "metadata": {
    "execution": {
     "iopub.execute_input": "2025-07-28T06:16:46.407274Z",
     "iopub.status.busy": "2025-07-28T06:16:46.406976Z",
     "iopub.status.idle": "2025-07-28T06:16:48.595335Z",
     "shell.execute_reply": "2025-07-28T06:16:48.594440Z",
     "shell.execute_reply.started": "2025-07-28T06:16:46.407253Z"
    },
    "trusted": true
   },
   "outputs": [
    {
     "name": "stdout",
     "output_type": "stream",
     "text": [
      "Bắt đầu tìm mô hình ARIMA cho từng tài sản...\n",
      "✅ Crypto_Returns: Tìm thấy mô hình tối ưu ARIMA(0, 0, 0)\n",
      "✅ Stocks_Returns: Tìm thấy mô hình tối ưu ARIMA(0, 0, 0)\n",
      "✅ Nexus_Returns: Tìm thấy mô hình tối ưu ARIMA(1, 1, 1)\n",
      "\n",
      "--- Vector lợi nhuận kỳ vọng dự báo (μ) ---\n",
      "Crypto_Returns    0.00000\n",
      "Stocks_Returns    0.00000\n",
      "Nexus_Returns    -0.00178\n",
      "Name: Expected_Return, dtype: float64\n",
      "\n",
      "--- ARIMA Orders ---\n",
      "{'Crypto_Returns': (0, 0, 0), 'Stocks_Returns': (0, 0, 0), 'Nexus_Returns': (1, 1, 1)}\n"
     ]
    }
   ],
   "source": [
    "# Chạy ví dụ trên 30 ngày đầu tiên để kiểm tra \n",
    "mu, residuals_df, arima_orders = get_arima_forecasts_and_residuals(\n",
    "    data=daily_log_returns, # 30 ngày đầu tiên của tập dữ liệu \n",
    "    time_name_col='Time',\n",
    "    seasonal=False,\n",
    "    max_order=3,\n",
    ")\n",
    "\n",
    "print(\"\\n--- Vector lợi nhuận kỳ vọng dự báo (μ) ---\")\n",
    "print(mu)\n",
    "\n",
    "print(\"\\n--- ARIMA Orders ---\")\n",
    "print(arima_orders)"
   ]
  },
  {
   "cell_type": "markdown",
   "id": "a0bee42a-24ef-4f60-98e8-8ecbdd9826b6",
   "metadata": {},
   "source": [
    "Nếu auto_parima cho p, d q (0, 0, 0), điều này ám chỉ lợi nhuận của tài sản  về cơ bản là Nhiễu trắng (White Noise).\n",
    ">Nhiễu trắng có các đặc điểm:\n",
    ">\n",
    ">- Giá trị trung bình bằng 0.\n",
    ">\n",
    ">- Phương sai không đổi.\n",
    ">\n",
    "> - Không có tự tương quan giữa các giá trị ở các thời điểm khác nhau.\n",
    ">\n",
    "> - Nói một cách đơn giản, điều này có nghĩa là lợi nhuận của ngày hôm nay hoàn toàn ngẫu nhiên và không thể dự đoán được dựa trên lợi nhuận của các ngày trước đó. Đây là một kết quả rất phổ biến khi phân tích dữ liệu lợi nhuận tài chính và phù hợp với Giả thuyết Thị trường Hiệu quả (Efficient Market Hypothesis)\n",
    "\n",
    "Ta sẽ kiểm tra lại bằng biểu đồ ACF và PACF của chính phần dư residuals_df. Nếu các biểu đồ này cho thấy tất cả các đỉnh đều nằm trong vùng tin cậy màu xanh (ngoại trừ lag 0), thì mô hình ARIMA(p,d,q) là một mô hình tốt!"
   ]
  },
  {
   "cell_type": "code",
   "execution_count": 20,
   "id": "f023b0f9-52ab-44e8-af8a-af08c493a284",
   "metadata": {
    "execution": {
     "iopub.execute_input": "2025-07-28T06:16:48.596688Z",
     "iopub.status.busy": "2025-07-28T06:16:48.596415Z",
     "iopub.status.idle": "2025-07-28T06:16:48.603505Z",
     "shell.execute_reply": "2025-07-28T06:16:48.602434Z",
     "shell.execute_reply.started": "2025-07-28T06:16:48.596665Z"
    },
    "trusted": true
   },
   "outputs": [],
   "source": [
    "def plot_acf_pacf(series, lags=20, title_prefix=''):\n",
    "    \"\"\"\n",
    "    Vẽ biểu đồ ACF và PACF cho một chuỗi thời gian.\n",
    "\n",
    "    Args:\n",
    "        series (pd.Series): Chuỗi thời gian (đã stationarity).\n",
    "        lags (int): Số lag tối đa để hiển thị.\n",
    "        title_prefix (str): Tên tiêu đề tùy chỉnh.\n",
    "    \"\"\"\n",
    "    fig, axes = plt.subplots(1, 2, figsize=(14, 4))\n",
    "\n",
    "    plot_acf(series.dropna(), ax=axes[0], lags=lags, zero=False)\n",
    "    axes[0].set_title(f'{title_prefix} - ACF')\n",
    "\n",
    "    plot_pacf(series.dropna(), ax=axes[1], lags=lags, zero=False, method='ywm')\n",
    "    axes[1].set_title(f'{title_prefix} - PACF')\n",
    "\n",
    "    plt.tight_layout()\n",
    "    plt.show()"
   ]
  },
  {
   "cell_type": "code",
   "execution_count": 21,
   "id": "c09685d1-bee3-4fda-937e-7726ae5ff4eb",
   "metadata": {
    "execution": {
     "iopub.execute_input": "2025-07-28T06:16:48.604891Z",
     "iopub.status.busy": "2025-07-28T06:16:48.604501Z",
     "iopub.status.idle": "2025-07-28T06:16:50.052716Z",
     "shell.execute_reply": "2025-07-28T06:16:50.051822Z",
     "shell.execute_reply.started": "2025-07-28T06:16:48.604864Z"
    },
    "trusted": true
   },
   "outputs": [
    {
     "name": "stdout",
     "output_type": "stream",
     "text": [
      "\n",
      "🔍 Đang phân tích: Crypto_Returns\n"
     ]
    },
    {
     "data": {
      "image/png": "[encoded data removed]",
      "text/plain": [
       "<Figure size 1400x400 with 2 Axes>"
      ]
     },
     "metadata": {},
     "output_type": "display_data"
    },
    {
     "name": "stdout",
     "output_type": "stream",
     "text": [
      "\n",
      "🔍 Đang phân tích: Nexus_Returns\n"
     ]
    },
    {
     "data": {
      "image/png": "[encoded data removed]",
      "text/plain": [
       "<Figure size 1400x400 with 2 Axes>"
      ]
     },
     "metadata": {},
     "output_type": "display_data"
    },
    {
     "name": "stdout",
     "output_type": "stream",
     "text": [
      "\n",
      "🔍 Đang phân tích: Stocks_Returns\n"
     ]
    },
    {
     "data": {
      "image/png": "[encoded data removed]",
      "text/plain": [
       "<Figure size 1400x400 with 2 Axes>"
      ]
     },
     "metadata": {},
     "output_type": "display_data"
    }
   ],
   "source": [
    "columns_to_plot = ['Crypto_Returns', 'Nexus_Returns', 'Stocks_Returns']\n",
    "\n",
    "for col in columns_to_plot:\n",
    "    print(f\"\\n🔍 Đang phân tích: {col}\")\n",
    "    plot_acf_pacf(residuals_df[col], lags=10, title_prefix=col)"
   ]
  },
  {
   "cell_type": "markdown",
   "id": "2909480a-d2c3-4bba-8436-e3563e37531c",
   "metadata": {},
   "source": [
    "> Ta thấy các lag trên biểu đồ ACF và PACF của cả 3 tài sản đều nằm trong vùng tin cậy (màu xanh), nên tham số tìm từ auto_arima là tham số chuẩn."
   ]
  },
  {
   "cell_type": "markdown",
   "id": "99334730-61b1-4e53-8826-c43b7febf56c",
   "metadata": {},
   "source": [
    "## 3.1.2 Xác định Tham số GARCH (p', q')"
   ]
  },
  {
   "cell_type": "markdown",
   "id": "a96f7dc8-d3db-4271-8769-02072a13773a",
   "metadata": {},
   "source": [
    "Để áp dụng mô hình GARCH, đầu tiên phải xem xét\n",
    "phần dư ước lượng của mô hình ước lượng theo phương\n",
    "pháp OLS có tồn tại phương sai thay đổi hay không bằng\n",
    "cách sử dụng kiểm định ARCH-LM."
   ]
  },
  {
   "cell_type": "code",
   "execution_count": 22,
   "id": "c09d7194-2a89-4a8b-9f6e-a5ca5df059ea",
   "metadata": {
    "execution": {
     "iopub.execute_input": "2025-07-28T06:16:50.053755Z",
     "iopub.status.busy": "2025-07-28T06:16:50.053506Z",
     "iopub.status.idle": "2025-07-28T06:16:50.067615Z",
     "shell.execute_reply": "2025-07-28T06:16:50.066943Z",
     "shell.execute_reply.started": "2025-07-28T06:16:50.053724Z"
    },
    "trusted": true
   },
   "outputs": [
    {
     "name": "stdout",
     "output_type": "stream",
     "text": [
      "--- Kết quả kiểm định ARCH-LM ---\n",
      "\n",
      "--- Tài sản: Crypto_Returns ---\n",
      "P-value của kiểm định ARCH-LM: 0.2954\n",
      "❌ Kết luận: Không có bằng chứng về hiệu ứng ARCH. Mô hình GARCH có thể không cần thiết.\n",
      "\n",
      "--- Tài sản: Nexus_Returns ---\n",
      "P-value của kiểm định ARCH-LM: 0.6071\n",
      "❌ Kết luận: Không có bằng chứng về hiệu ứng ARCH. Mô hình GARCH có thể không cần thiết.\n",
      "\n",
      "--- Tài sản: Stocks_Returns ---\n",
      "P-value của kiểm định ARCH-LM: 0.9799\n",
      "❌ Kết luận: Không có bằng chứng về hiệu ứng ARCH. Mô hình GARCH có thể không cần thiết.\n",
      "\n",
      "--- Các tài sản có hiệu ứng ARCH ---\n",
      "[]\n"
     ]
    }
   ],
   "source": [
    "columns_to_test = ['Crypto_Returns', 'Nexus_Returns', 'Stocks_Returns']\n",
    "assets_with_arch_effect = []  # Kết quả lưu tại biến này  \n",
    "\n",
    "print(\"--- Kết quả kiểm định ARCH-LM ---\")\n",
    "\n",
    "for col in columns_to_test:\n",
    "    resid_series = residuals_df[col].dropna()\n",
    "    \n",
    "    if len(resid_series) < 10:\n",
    "        print(f\"⚠️ Tài sản {col} có quá ít dữ liệu để kiểm định.\")\n",
    "        continue\n",
    "\n",
    "    test_results = het_arch(resid_series)\n",
    "    p_value = test_results[1]\n",
    "\n",
    "    print(f\"\\n--- Tài sản: {col} ---\")\n",
    "    print(f\"P-value của kiểm định ARCH-LM: {p_value:.4f}\")\n",
    "\n",
    "    if p_value < 0.05:\n",
    "        print(\"✅ Kết luận: Có hiệu ứng ARCH. Mô hình GARCH là phù hợp.\")\n",
    "        assets_with_arch_effect.append(col)  # Tự động lưu tên asset\n",
    "    else:\n",
    "        print(\"❌ Kết luận: Không có bằng chứng về hiệu ứng ARCH. Mô hình GARCH có thể không cần thiết.\")\n",
    "\n",
    "print(\"\\n--- Các tài sản có hiệu ứng ARCH ---\")\n",
    "print(assets_with_arch_effect)"
   ]
  },
  {
   "cell_type": "markdown",
   "id": "a004def1-5bf3-427d-b32b-f06da3015edd",
   "metadata": {},
   "source": [
    "---\n",
    "*Ta thấy việc cài đặt mô hình GARCH ở cả 3 loại tài sản đều không thực sự cần thiết cho dữ liệu training 30 ngày đầu tiên. Tuy nhiên điều này có thể thay đổi khi qua các giai đoạn tiếp theo.*"
   ]
  },
  {
   "cell_type": "code",
   "execution_count": 23,
   "id": "da30ff69-56ef-442c-a763-2bf6abb185fe",
   "metadata": {
    "execution": {
     "iopub.execute_input": "2025-07-28T06:16:50.068775Z",
     "iopub.status.busy": "2025-07-28T06:16:50.068487Z",
     "iopub.status.idle": "2025-07-28T06:16:50.089468Z",
     "shell.execute_reply": "2025-07-28T06:16:50.088723Z",
     "shell.execute_reply.started": "2025-07-28T06:16:50.068726Z"
    },
    "trusted": true
   },
   "outputs": [],
   "source": [
    "def find_best_garch_params(series, max_p=3, max_q=3):\n",
    "    \"\"\"\n",
    "    Tìm cặp tham số (p', q') tốt nhất cho mô hình GARCH(p', q') - (nếu có) dựa trên AIC.\n",
    "    \"\"\"\n",
    "    best_aic = float('inf')\n",
    "    best_order = None\n",
    "    \n",
    "    for p in range(1, max_p + 1): # p và q của GARCH nên bắt đầu từ 1\n",
    "        for q in range(max_q + 1):\n",
    "            if p == 0 and q == 0:\n",
    "                continue\n",
    "            try:\n",
    "                model = arch_model(series, vol='GARCH', p=p, q=q, dist='t') # Thêm dist='t' thường tốt hơn\n",
    "                result = model.fit(disp='off')\n",
    "                if result.aic < best_aic:\n",
    "                    best_aic = result.aic\n",
    "                    best_order = (p, q)\n",
    "            except Exception as e:\n",
    "                continue\n",
    "\n",
    "    return best_order"
   ]
  },
  {
   "cell_type": "code",
   "execution_count": 24,
   "id": "e6479088-4342-48e7-b4f3-afb5846c710f",
   "metadata": {
    "execution": {
     "iopub.execute_input": "2025-07-28T06:16:50.090451Z",
     "iopub.status.busy": "2025-07-28T06:16:50.090254Z",
     "iopub.status.idle": "2025-07-28T06:16:50.108332Z",
     "shell.execute_reply": "2025-07-28T06:16:50.107295Z",
     "shell.execute_reply.started": "2025-07-28T06:16:50.090435Z"
    },
    "trusted": true
   },
   "outputs": [
    {
     "name": "stdout",
     "output_type": "stream",
     "text": [
      "--- Tìm tham số GARCH tối ưu cho từng tài sản ---\n",
      "\n",
      "--- Kết quả tổng hợp ---\n",
      "{}\n"
     ]
    }
   ],
   "source": [
    "best_garch_orders = {}\n",
    "\n",
    "print(\"--- Tìm tham số GARCH tối ưu cho từng tài sản ---\")\n",
    "for asset in assets_with_arch_effect:\n",
    "    print(f\"Đang xử lý: {asset}...\")\n",
    "    \n",
    "    # Lấy chuỗi phần dư tương ứng\n",
    "    resid_series = residuals_df[asset].dropna()\n",
    "    \n",
    "    # Gọi hàm trên chuỗi phần dư\n",
    "    best_order = find_best_garch_params(resid_series)\n",
    "    best_garch_orders[asset] = best_order\n",
    "    \n",
    "    print(f\"✅ {asset}: Tham số GARCH(p',q') tốt nhất là {best_order}\")\n",
    "\n",
    "print(\"\\n--- Kết quả tổng hợp ---\")\n",
    "print(best_garch_orders)"
   ]
  },
  {
   "cell_type": "markdown",
   "id": "60ef6160-2735-483d-80f5-ec297947d675",
   "metadata": {},
   "source": [
    "Do trong dữ liệu của 30 ngày đầu tiên không có tài sản nào vượt qua kiểm định ARCH-LM. Nên ở đây không hiển thị output"
   ]
  },
  {
   "cell_type": "markdown",
   "id": "bf47b523-c564-4a64-b6ac-a4132498faff",
   "metadata": {},
   "source": [
    "## 3.3 Huấn luyện (Fit) mô hình ARIMA(p,d,q) + GARCH(p',q')"
   ]
  },
  {
   "cell_type": "code",
   "execution_count": 25,
   "id": "67378bf6-1946-461a-a997-a4dc08d561d7",
   "metadata": {
    "execution": {
     "iopub.execute_input": "2025-07-28T06:16:50.109628Z",
     "iopub.status.busy": "2025-07-28T06:16:50.109335Z",
     "iopub.status.idle": "2025-07-28T06:16:50.129648Z",
     "shell.execute_reply": "2025-07-28T06:16:50.128877Z",
     "shell.execute_reply.started": "2025-07-28T06:16:50.109599Z"
    },
    "trusted": true
   },
   "outputs": [],
   "source": [
    "# Đảm bảo các hàm này đã được định nghĩa ở các cell trước:\n",
    "# find_best_garch_params, arima_orders\n",
    "\n",
    "def fit_all_models(training_df):\n",
    "    \"\"\"\n",
    "    Fit lại tất cả các model, tự động kiểm định ARCH và chọn mô hình\n",
    "    phù hợp (ARIMA hoặc AR-GARCH) cho từng tài sản dựa trên dữ liệu mới nhất.\n",
    "    \"\"\"\n",
    "    print(\"   + Đang fit lại các model (có kiểm định ARCH động)...\")\n",
    "    fitted_models = {}\n",
    "    asset_columns = [col for col in training_df.columns if 'Returns' in col]\n",
    "\n",
    "    for asset in asset_columns:\n",
    "        series = training_df[asset].dropna()\n",
    "        p_arima, d_arima, q_arima = arima_orders[asset]\n",
    "        \n",
    "        try:\n",
    "            # B1: Fit một model ARIMA ban đầu để lấy phần dư\n",
    "            temp_arima_model = pm.ARIMA(order=(p_arima, d_arima, q_arima)).fit(series)\n",
    "            residuals = pd.Series(temp_arima_model.resid())\n",
    "\n",
    "            # B2: Chạy kiểm định ARCH-LM trên phần dư\n",
    "            p_value = het_arch(residuals)[1]\n",
    "\n",
    "            # B3: Quyết định mô hình dựa trên p-value\n",
    "            if p_value < 0.05:\n",
    "                # Nếu có hiệu ứng ARCH -> Tìm tham số GARCH và fit model AR-GARCH\n",
    "                print(f\"      - {asset}: Phát hiện hiệu ứng ARCH. Chuyển sang AR-GARCH.\")\n",
    "                best_garch_order = find_best_garch_params(residuals)\n",
    "                \n",
    "                if best_garch_order:\n",
    "                    p_garch, q_garch = best_garch_order\n",
    "                    final_model = arch_model(series, mean='AR', lags=p_arima,\n",
    "                                             vol='GARCH', p=p_garch, q=q_garch, dist='t')\n",
    "                    fitted_models[asset] = final_model.fit(disp='off')\n",
    "                else: # Nếu không tìm được tham số GARCH tốt, quay về ARIMA\n",
    "                    fitted_models[asset] = temp_arima_model\n",
    "\n",
    "            else:\n",
    "                # Nếu không có hiệu ứng ARCH -> Dùng luôn model ARIMA đã fit\n",
    "                print(f\"      - {asset}: Không có hiệu ứng ARCH. Dùng ARIMA.\")\n",
    "                fitted_models[asset] = temp_arima_model\n",
    "                \n",
    "        except Exception as e:\n",
    "            print(f\"      Lỗi khi fit model cho {asset}: {e}\")\n",
    "            fitted_models[asset] = None\n",
    "\n",
    "    print(\"   + Fit model hoàn tất.\")\n",
    "    return fitted_models"
   ]
  },
  {
   "cell_type": "markdown",
   "id": "96822144-31f1-427a-a7b2-8e1ff164158e",
   "metadata": {},
   "source": [
    "Thử fit các mô hình độc lập ARIMA + GARCH trong dữ liệu training 30 ngày đầu tiên"
   ]
  },
  {
   "cell_type": "code",
   "execution_count": 26,
   "id": "5211ce1f-38c0-4580-bdd3-48f71b152c3e",
   "metadata": {
    "execution": {
     "iopub.execute_input": "2025-07-28T06:16:50.131012Z",
     "iopub.status.busy": "2025-07-28T06:16:50.130785Z",
     "iopub.status.idle": "2025-07-28T06:16:50.371199Z",
     "shell.execute_reply": "2025-07-28T06:16:50.370525Z",
     "shell.execute_reply.started": "2025-07-28T06:16:50.130993Z"
    },
    "trusted": true
   },
   "outputs": [
    {
     "name": "stdout",
     "output_type": "stream",
     "text": [
      "--- Bắt đầu huấn luyện mô hình cho từng tài sản ---\n",
      "\n",
      "Đang xử lý: Crypto_Returns...\n",
      "✅ Crypto_Returns: Fit thành công mô hình ARIMA(0,0,0)\n",
      "\n",
      "Đang xử lý: Stocks_Returns...\n",
      "✅ Stocks_Returns: Fit thành công mô hình ARIMA(0,0,0)\n",
      "\n",
      "Đang xử lý: Nexus_Returns...\n",
      "✅ Nexus_Returns: Fit thành công mô hình ARIMA(1,1,1)\n"
     ]
    }
   ],
   "source": [
    "# Đảm bảo có Các tham số đã định nghĩa trước arima_orders, garch_orders, assets_with_arch_effect\n",
    "garch_orders = best_garch_orders\n",
    "\n",
    "# --- TIẾN HÀNH HUẤN LUYỆN ---\n",
    "\n",
    "all_fitted_models = {} # Dict để lưu tất cả các model đã được huấn luyện\n",
    "\n",
    "print(\"--- Bắt đầu huấn luyện mô hình cho từng tài sản ---\")\n",
    "for asset in daily_log_returns.columns:\n",
    "    if asset == \"Selling_Price_of_Nexus\" or asset == 'Time':\n",
    "        continue\n",
    "    print(f\"\\nĐang xử lý: {asset}...\")\n",
    "    series = daily_log_returns[asset].dropna()\n",
    "    \n",
    "    # Lấy bậc arima tương ứng\n",
    "    p_arima, d_arima, q_arima = arima_orders[asset]\n",
    "\n",
    "    try:\n",
    "        # KIỂM TRA XEM TÀI SẢN CÓ CẦN GARCH KHÔNG\n",
    "        if asset in assets_with_arch_effect:\n",
    "            # TRƯỜNG HỢP 1: DÙNG MÔ HÌNH KẾT HỢP AR-GARCH\n",
    "            p_garch, q_garch = garch_orders[asset]\n",
    "            \n",
    "            # Thư viện 'arch' fit mô hình AR-GARCH (không phải ARIMA)\n",
    "            # Vì d=0, ARIMA(p,0,q) chính là ARMA(p,q)\n",
    "            # Ở đây ta dùng mô hình AR(p)-GARCH(p',q') là một lựa chọn phổ biến và mạnh mẽ\n",
    "            model = arch_model(series,\n",
    "                               mean='AR', lags=p_arima, # Chỉ định phần AR\n",
    "                               vol='GARCH', p=p_garch, q=q_garch,\n",
    "                               dist='t') # Phân phối t thường tốt hơn cho tài chính\n",
    "            \n",
    "            fitted_model = model.fit(disp='off')\n",
    "            print(f\"✅ {asset}: Fit thành công mô hình AR({p_arima})-GARCH({p_garch},{q_garch})\")\n",
    "            \n",
    "        else:\n",
    "            # TRƯỜNG HỢP 2: DÙNG MÔ HÌNH ARIMA ĐƠN GIẢN\n",
    "            model = pm.ARIMA(order=(p_arima, d_arima, q_arima))\n",
    "            fitted_model = model.fit(series)\n",
    "            print(f\"✅ {asset}: Fit thành công mô hình ARIMA({p_arima},{d_arima},{q_arima})\")\n",
    "\n",
    "        # Lưu mô hình đã fit vào dict\n",
    "        all_fitted_models[asset] = fitted_model\n",
    "        \n",
    "    except Exception as e:\n",
    "        print(f\"❌ Lỗi khi fit mô hình cho {asset}: {e}\")"
   ]
  },
  {
   "cell_type": "code",
   "execution_count": 27,
   "id": "a7d549a6-707b-4fb1-b535-4504ed5dab35",
   "metadata": {
    "execution": {
     "iopub.execute_input": "2025-07-28T06:16:50.372839Z",
     "iopub.status.busy": "2025-07-28T06:16:50.372077Z",
     "iopub.status.idle": "2025-07-28T06:16:50.406315Z",
     "shell.execute_reply": "2025-07-28T06:16:50.405484Z",
     "shell.execute_reply.started": "2025-07-28T06:16:50.372816Z"
    },
    "trusted": true
   },
   "outputs": [
    {
     "name": "stdout",
     "output_type": "stream",
     "text": [
      "\n",
      "--- Kết quả mô hình cho Crypto_Returns ---\n",
      "                               SARIMAX Results                                \n",
      "==============================================================================\n",
      "Dep. Variable:                      y   No. Observations:                   30\n",
      "Model:                        SARIMAX   Log Likelihood                  43.073\n",
      "Date:                Mon, 28 Jul 2025   AIC                            -82.146\n",
      "Time:                        15:24:11   BIC                            -79.343\n",
      "Sample:                             0   HQIC                           -81.249\n",
      "                                 - 30                                         \n",
      "Covariance Type:                  opg                                         \n",
      "==============================================================================\n",
      "                 coef    std err          z      P>|z|      [0.025      0.975]\n",
      "------------------------------------------------------------------------------\n",
      "intercept     -0.0046      0.011     -0.436      0.663      -0.025       0.016\n",
      "sigma2         0.0033      0.001      5.654      0.000       0.002       0.004\n",
      "===================================================================================\n",
      "Ljung-Box (L1) (Q):                   0.03   Jarque-Bera (JB):                 6.52\n",
      "Prob(Q):                              0.86   Prob(JB):                         0.04\n",
      "Heteroskedasticity (H):               4.36   Skew:                            -0.11\n",
      "Prob(H) (two-sided):                  0.03   Kurtosis:                         5.27\n",
      "===================================================================================\n",
      "\n",
      "Warnings:\n",
      "[1] Covariance matrix calculated using the outer product of gradients (complex-step).\n",
      "\n",
      "--- Kết quả mô hình cho Nexus_Returns ---\n",
      "                               SARIMAX Results                                \n",
      "==============================================================================\n",
      "Dep. Variable:                      y   No. Observations:                   30\n",
      "Model:               SARIMAX(1, 1, 1)   Log Likelihood                 101.755\n",
      "Date:                Mon, 28 Jul 2025   AIC                           -195.509\n",
      "Time:                        15:24:11   BIC                           -190.040\n",
      "Sample:                             0   HQIC                          -193.796\n",
      "                                 - 30                                         \n",
      "Covariance Type:                  opg                                         \n",
      "==============================================================================\n",
      "                 coef    std err          z      P>|z|      [0.025      0.975]\n",
      "------------------------------------------------------------------------------\n",
      "intercept     -0.0005      0.000     -1.709      0.087      -0.001    6.77e-05\n",
      "ar.L1         -0.3697      0.335     -1.102      0.271      -1.027       0.288\n",
      "ma.L1         -0.9250      0.319     -2.895      0.004      -1.551      -0.299\n",
      "sigma2      4.931e-05   1.73e-05      2.844      0.004    1.53e-05    8.33e-05\n",
      "===================================================================================\n",
      "Ljung-Box (L1) (Q):                   0.02   Jarque-Bera (JB):                17.21\n",
      "Prob(Q):                              0.89   Prob(JB):                         0.00\n",
      "Heteroskedasticity (H):               0.45   Skew:                             1.45\n",
      "Prob(H) (two-sided):                  0.22   Kurtosis:                         5.42\n",
      "===================================================================================\n",
      "\n",
      "Warnings:\n",
      "[1] Covariance matrix calculated using the outer product of gradients (complex-step).\n",
      "\n",
      "--- Kết quả mô hình cho Stocks_Returns ---\n",
      "                               SARIMAX Results                                \n",
      "==============================================================================\n",
      "Dep. Variable:                      y   No. Observations:                   30\n",
      "Model:                        SARIMAX   Log Likelihood                  71.685\n",
      "Date:                Mon, 28 Jul 2025   AIC                           -139.371\n",
      "Time:                        15:24:11   BIC                           -136.568\n",
      "Sample:                             0   HQIC                          -138.474\n",
      "                                 - 30                                         \n",
      "Covariance Type:                  opg                                         \n",
      "==============================================================================\n",
      "                 coef    std err          z      P>|z|      [0.025      0.975]\n",
      "------------------------------------------------------------------------------\n",
      "intercept     -0.0021      0.005     -0.430      0.667      -0.012       0.008\n",
      "sigma2         0.0005   9.01e-05      5.461      0.000       0.000       0.001\n",
      "===================================================================================\n",
      "Ljung-Box (L1) (Q):                   0.01   Jarque-Bera (JB):                30.38\n",
      "Prob(Q):                              0.93   Prob(JB):                         0.00\n",
      "Heteroskedasticity (H):               2.98   Skew:                            -1.43\n",
      "Prob(H) (two-sided):                  0.10   Kurtosis:                         7.02\n",
      "===================================================================================\n",
      "\n",
      "Warnings:\n",
      "[1] Covariance matrix calculated using the outer product of gradients (complex-step).\n"
     ]
    }
   ],
   "source": [
    "# Xem kết quả của mô hình \n",
    "print(\"\\n--- Kết quả mô hình cho Crypto_Returns ---\")\n",
    "print(all_fitted_models['Crypto_Returns'].summary())\n",
    "\n",
    "print(\"\\n--- Kết quả mô hình cho Nexus_Returns ---\")\n",
    "print(all_fitted_models['Nexus_Returns'].summary())\n",
    "\n",
    "print(\"\\n--- Kết quả mô hình cho Stocks_Returns ---\")\n",
    "print(all_fitted_models['Stocks_Returns'].summary())"
   ]
  },
  {
   "cell_type": "markdown",
   "id": "860ae1ba-6949-4054-a314-b6261deefd93",
   "metadata": {},
   "source": [
    "# 4. Mô Phỏng Monte Carlo với ARIMA-GARCH để Ước tính Lợi Nhuận & Rủi Ro Hàng Tháng\n",
    "\n",
    "Ta cần dùng mô phỏng Monte Carlo trên nhiều lần thử nghiệm để giúp mô hình có khả năng dự đoán chính xác và ít chủ quan hơn."
   ]
  },
  {
   "cell_type": "code",
   "execution_count": 28,
   "id": "be76fe9c-3c23-4cbd-b312-5398dce1f94a",
   "metadata": {
    "execution": {
     "iopub.execute_input": "2025-07-28T06:16:50.414466Z",
     "iopub.status.busy": "2025-07-28T06:16:50.414263Z",
     "iopub.status.idle": "2025-07-28T06:16:50.433523Z",
     "shell.execute_reply": "2025-07-28T06:16:50.432882Z",
     "shell.execute_reply.started": "2025-07-28T06:16:50.414449Z"
    },
    "trusted": true
   },
   "outputs": [],
   "source": [
    "def simulate_arima_path(arima_model, n_days):\n",
    "    \"\"\"\n",
    "    Hàm này mô phỏng một chuỗi lợi nhuận cho MỘT kịch bản từ MỘT mô hình ARIMA.\n",
    "    \"\"\"\n",
    "    temp_model = copy.deepcopy(arima_model)\n",
    "    simulated_daily_returns = []\n",
    "\n",
    "    for _ in range(n_days):\n",
    "        prediction_result = temp_model.predict(n_periods=1)\n",
    "        mean_forecast = np.asarray(prediction_result)[0]\n",
    "        \n",
    "        # Lấy mảng các tham số từ mô hình\n",
    "        model_params = temp_model.params()\n",
    "        \n",
    "        # SỬA LỖI: Lấy phương sai (sigma2) bằng cách truy cập phần tử CUỐI CÙNG của mảng params.\n",
    "        error_variance = model_params[-1]\n",
    "        \n",
    "        # Đảm bảo phương sai không phải là số âm (rất hiếm nhưng có thể xảy ra do lỗi tối ưu)\n",
    "        if error_variance < 0:\n",
    "            error_variance = 0\n",
    "\n",
    "        random_shock = np.random.normal(loc=0, scale=np.sqrt(error_variance)) # Tạo 1 cú sốc \n",
    "        simulated_return_today = mean_forecast + random_shock\n",
    "        \n",
    "        simulated_daily_returns.append(simulated_return_today)\n",
    "        \n",
    "        temp_model.update(simulated_return_today)\n",
    "        \n",
    "    return simulated_daily_returns"
   ]
  },
  {
   "cell_type": "code",
   "execution_count": 29,
   "id": "37135abd-1b23-43f2-b7fc-10d097aa2729",
   "metadata": {
    "execution": {
     "iopub.execute_input": "2025-07-28T06:16:50.434960Z",
     "iopub.status.busy": "2025-07-28T06:16:50.434417Z",
     "iopub.status.idle": "2025-07-28T06:16:50.453879Z",
     "shell.execute_reply": "2025-07-28T06:16:50.453303Z",
     "shell.execute_reply.started": "2025-07-28T06:16:50.434936Z"
    },
    "trusted": true
   },
   "outputs": [],
   "source": [
    "def run_monte_carlo_simulation(all_fitted_models, n_simulations=5000, n_days=30):\n",
    "    \"\"\"\n",
    "    Hàm mô phỏng chính, gọi các hàm con tương ứng với từng loại model.\n",
    "    \"\"\"\n",
    "    assets = list(all_fitted_models.keys())\n",
    "    all_monthly_returns = []\n",
    "\n",
    "    print(f\"🚀 Bắt đầu {n_simulations} kịch bản mô phỏng cho {n_days} ngày tới...\")\n",
    "\n",
    "    # Vòng lặp cho mỗi kịch bản (ví dụ: 100 lần)\n",
    "    for _ in tqdm(range(n_simulations), desc=\"Đang mô phỏng\"):\n",
    "        \n",
    "        # Dict để lưu tổng lợi nhuận tháng của kịch bản này\n",
    "        path_total_returns = {}\n",
    "\n",
    "        # Lặp qua từng tài sản (Crypto, Stock, Nexus)\n",
    "        for asset in assets:\n",
    "            model = all_fitted_models[asset]\n",
    "            \n",
    "            # Khởi tạo một chuỗi rỗng cho kịch bản của tài sản này\n",
    "            simulated_path = []\n",
    "\n",
    "            # KIỂM TRA LOẠI MODEL VÀ GỌI HÀM MÔ PHỎNG TƯƠNG ỨNG\n",
    "            if isinstance(model, pm.arima.ARIMA):\n",
    "                # Nếu là ARIMA, gọi hàm phụ ta vừa tạo ở trên\n",
    "                simulated_path = simulate_arima_path(model, n_days)\n",
    "                \n",
    "            elif isinstance(model, ARCHModelResult):\n",
    "                # Nếu là GARCH, dùng phương thức forecast có sẵn\n",
    "                forecasts = model.forecast(horizon=n_days, method='simulation', simulations=1)\n",
    "                simulated_path = forecasts.simulations.values[0, :, 0]\n",
    "            \n",
    "            else:\n",
    "                raise TypeError(f\"Loại model của tài sản {asset} không được hỗ trợ.\")\n",
    "\n",
    "            # Tính tổng lợi nhuận của kịch bản này và lưu lại\n",
    "            path_total_returns[asset] = np.sum(simulated_path)\n",
    "\n",
    "        all_monthly_returns.append(path_total_returns)\n",
    "\n",
    "    # --- Tổng hợp kết quả ---\n",
    "    results_df = pd.DataFrame(all_monthly_returns)\n",
    "    monthly_mu = results_df.mean()\n",
    "    monthly_S = results_df.cov()\n",
    "    \n",
    "    print(\"\\n✅ Mô phỏng hoàn tất!\")\n",
    "    return monthly_mu, monthly_S"
   ]
  },
  {
   "cell_type": "code",
   "execution_count": 30,
   "id": "6d15e490-3b61-418b-96f9-11efb0f71ec7",
   "metadata": {
    "execution": {
     "iopub.execute_input": "2025-07-28T06:16:50.454942Z",
     "iopub.status.busy": "2025-07-28T06:16:50.454717Z",
     "iopub.status.idle": "2025-07-28T06:16:50.472205Z",
     "shell.execute_reply": "2025-07-28T06:16:50.471407Z",
     "shell.execute_reply.started": "2025-07-28T06:16:50.454925Z"
    },
    "trusted": true
   },
   "outputs": [
    {
     "name": "stdout",
     "output_type": "stream",
     "text": [
      "Các cảnh báo đã được tắt.\n"
     ]
    }
   ],
   "source": [
    "import warnings\n",
    "from statsmodels.tools.sm_exceptions import ConvergenceWarning, ValueWarning\n",
    "\n",
    "# Bỏ qua các cảnh báo về hội tụ và chỉ số\n",
    "warnings.filterwarnings(\"ignore\", category=ConvergenceWarning)\n",
    "warnings.filterwarnings(\"ignore\", category=UserWarning)\n",
    "warnings.filterwarnings(\"ignore\", category=ValueWarning)\n",
    "\n",
    "print(\"Các cảnh báo đã được tắt.\")"
   ]
  },
  {
   "cell_type": "markdown",
   "id": "76211d2b-4b24-4182-b96c-ceba26be1ba9",
   "metadata": {},
   "source": [
    "### Giải thích bỏ qua các cảnh báo\n",
    "Nếu không bỏ qua thì có thể sẽ có các cảnh báo sau:\n",
    "\n",
    "* **ValueWarning**: Cảnh báo vô hại, chỉ báo rằng index kết quả dự báo là số nguyên thay vì ngày tháng. Điều này bình thường và đã được xử lý trong code.\n",
    "* **ConvergenceWarning**: Là cảnh báo chính. Trong mô phỏng Monte Carlo (`simulate_arima_path`), do tạo ra các cú sốc ngẫu nhiên lớn, mô hình đôi khi khó hội tụ. Đây là đặc trưng tự nhiên của mô phỏng.\n",
    "\n",
    "Ta sẽ bỏ qua vì\n",
    "\n",
    "* Có thể bỏ qua an toàn.\n",
    "* Các cảnh báo này xuất hiện rải rác, không ảnh hưởng đến kết quả cuối như kỳ vọng lợi nhuận (`mu`) hay ma trận rủi ro (`S`) do sai số được trung bình hóa qua nhiều chuỗi mô phỏng.\n"
   ]
  },
  {
   "cell_type": "code",
   "execution_count": 31,
   "id": "93bdee52",
   "metadata": {
    "execution": {
     "iopub.execute_input": "2025-07-28T06:16:50.472919Z",
     "iopub.status.busy": "2025-07-28T06:16:50.472701Z",
     "iopub.status.idle": "2025-07-28T06:17:01.379553Z",
     "shell.execute_reply": "2025-07-28T06:17:01.378885Z",
     "shell.execute_reply.started": "2025-07-28T06:16:50.472901Z"
    },
    "trusted": true
   },
   "outputs": [
    {
     "name": "stdout",
     "output_type": "stream",
     "text": [
      "🚀 Bắt đầu 10 kịch bản mô phỏng cho 10 ngày tới...\n"
     ]
    },
    {
     "name": "stderr",
     "output_type": "stream",
     "text": [
      "Đang mô phỏng: 100%|██████████| 10/10 [00:05<00:00,  1.90it/s]"
     ]
    },
    {
     "name": "stdout",
     "output_type": "stream",
     "text": [
      "\n",
      "✅ Mô phỏng hoàn tất!\n",
      "\n",
      "--- Vector Lợi nhuận Kỳ vọng Hàng tháng (μ) ---\n",
      "Crypto_Returns    0.073699\n",
      "Stocks_Returns   -0.042971\n",
      "Nexus_Returns    -0.051564\n",
      "dtype: float64\n",
      "\n",
      "--- Ma trận Hiệp phương sai Hàng tháng (S) ---\n",
      "                Crypto_Returns  Stocks_Returns  Nexus_Returns\n",
      "Crypto_Returns        0.044656        0.002550       0.000989\n",
      "Stocks_Returns        0.002550        0.002355       0.000404\n",
      "Nexus_Returns         0.000989        0.000404       0.001022\n"
     ]
    },
    {
     "name": "stderr",
     "output_type": "stream",
     "text": [
      "\n"
     ]
    }
   ],
   "source": [
    "# Chạy mô phỏng để kiểm tra - lưu ý ở đây mô phỏng 10 trường hợp để demo kết quả chứ không dùng để tính toán \n",
    "# Montecarlo cần rất nhiều trường hợp để mô phỏng mang ý nghĩa thống kê \n",
    "monthly_mu, monthly_S = run_monte_carlo_simulation(\n",
    "    all_fitted_models=all_fitted_models,\n",
    "    n_simulations=10,\n",
    "    n_days=10\n",
    ")\n",
    "\n",
    "# Hiển thị kết quả\n",
    "print(\"\\n--- Vector Lợi nhuận Kỳ vọng Hàng tháng (μ) ---\")\n",
    "print(monthly_mu)\n",
    "print(\"\\n--- Ma trận Hiệp phương sai Hàng tháng (S) ---\")\n",
    "print(monthly_S)"
   ]
  },
  {
   "cell_type": "code",
   "execution_count": 32,
   "id": "634520c9-714d-431f-a87b-0b7d4b7cf1ac",
   "metadata": {
    "execution": {
     "iopub.execute_input": "2025-07-28T06:17:01.382744Z",
     "iopub.status.busy": "2025-07-28T06:17:01.381588Z",
     "iopub.status.idle": "2025-07-28T06:17:01.391517Z",
     "shell.execute_reply": "2025-07-28T06:17:01.390882Z",
     "shell.execute_reply.started": "2025-07-28T06:17:01.382708Z"
    },
    "trusted": true
   },
   "outputs": [
    {
     "name": "stdout",
     "output_type": "stream",
     "text": [
      "✅ Đã tạo lại các tham số thành công!\n",
      "\n",
      "--- Vector Lợi nhuận Kỳ vọng Hàng tháng (μ) ---\n",
      "Crypto_Returns    0.073699\n",
      "Stocks_Returns   -0.042971\n",
      "Nexus_Returns    -0.051564\n",
      "dtype: float64\n",
      "\n",
      "--- Ma trận Hiệp phương sai Hàng tháng (S) ---\n",
      "                Crypto_Returns  Stocks_Returns  Nexus_Returns\n",
      "Crypto_Returns        0.044656        0.002550       0.000989\n",
      "Stocks_Returns        0.002550        0.002355       0.000404\n",
      "Nexus_Returns         0.000989        0.000404       0.001022\n"
     ]
    }
   ],
   "source": [
    "# --- Hiển thị kết quả để xác nhận ---\n",
    "print(\"✅ Đã tạo lại các tham số thành công!\")\n",
    "print(\"\\n--- Vector Lợi nhuận Kỳ vọng Hàng tháng (μ) ---\")\n",
    "print(monthly_mu)\n",
    "print(\"\\n--- Ma trận Hiệp phương sai Hàng tháng (S) ---\")\n",
    "print(monthly_S)"
   ]
  },
  {
   "cell_type": "markdown",
   "id": "919d1117-e108-4313-a173-238c4a2417c2",
   "metadata": {},
   "source": [
    "# 5. Tối ưu hóa Danh mục & Tìm tỷ trọng tối ưu bằng Markovist"
   ]
  },
  {
   "cell_type": "markdown",
   "id": "a297e594-30b6-48fe-9029-53dbe71c02f0",
   "metadata": {},
   "source": [
    "## 5.1 Thêm gửi tiết kiệm vào trong danh mục"
   ]
  },
  {
   "cell_type": "code",
   "execution_count": 33,
   "id": "7257cd21-20ff-4205-8f73-2fb5192b3145",
   "metadata": {
    "execution": {
     "iopub.execute_input": "2025-07-28T06:17:01.393329Z",
     "iopub.status.busy": "2025-07-28T06:17:01.392060Z",
     "iopub.status.idle": "2025-07-28T06:17:01.414535Z",
     "shell.execute_reply": "2025-07-28T06:17:01.414006Z",
     "shell.execute_reply.started": "2025-07-28T06:17:01.393305Z"
    },
    "trusted": true
   },
   "outputs": [
    {
     "name": "stdout",
     "output_type": "stream",
     "text": [
      "--- Vector Lợi nhuận kỳ vọng 4 tài sản ---\n",
      "Crypto_Returns    0.073699\n",
      "Stocks_Returns   -0.042971\n",
      "Nexus_Returns    -0.051564\n",
      "Tiet_Kiem         0.006250\n",
      "dtype: float64\n",
      "\n",
      "--- Ma trận Hiệp phương sai 4 tài sản ---\n",
      "                Crypto_Returns  Stocks_Returns  Nexus_Returns  Tiet_Kiem\n",
      "Crypto_Returns        0.044656        0.002550       0.000989        0.0\n",
      "Stocks_Returns        0.002550        0.002355       0.000404        0.0\n",
      "Nexus_Returns         0.000989        0.000404       0.001022        0.0\n",
      "Tiet_Kiem             0.000000        0.000000       0.000000        0.0\n"
     ]
    }
   ],
   "source": [
    "# Lợi nhuận kỳ vọng hàng tháng của tiết kiệm\n",
    "tiet_kiem_mu = 0.075 / 12\n",
    "\n",
    "# Thêm vào vector mu\n",
    "# Giả sử tên là 'Tiet_Kiem'\n",
    "mu_4_assets = pd.concat([monthly_mu, pd.Series({'Tiet_Kiem': tiet_kiem_mu})])\n",
    "\n",
    "\n",
    "# Mở rộng ma trận S thành 4x4\n",
    "# Tạo một DataFrame 4x4 với giá trị 0\n",
    "S_4_assets = pd.DataFrame(np.zeros((4, 4)),\n",
    "                          index=mu_4_assets.index,\n",
    "                          columns=mu_4_assets.index)\n",
    "\n",
    "# Chép các giá trị cũ của ma trận 3x3 vào\n",
    "S_4_assets.iloc[:3, :3] = monthly_S\n",
    "num_assets = 4\n",
    "\n",
    "print(\"--- Vector Lợi nhuận kỳ vọng 4 tài sản ---\")\n",
    "print(mu_4_assets)\n",
    "print(\"\\n--- Ma trận Hiệp phương sai 4 tài sản ---\")\n",
    "print(S_4_assets)"
   ]
  },
  {
   "cell_type": "markdown",
   "id": "b1cab7a2-a8fb-46b7-b5e9-52c5fd54e55c",
   "metadata": {},
   "source": [
    "## 5.2 Cài đặt mô hình Markovist"
   ]
  },
  {
   "cell_type": "markdown",
   "id": "831c19ea-d2fc-424f-ad4c-3733c26055e7",
   "metadata": {},
   "source": [
    "Để để mô hình tập trung vào các xu hướng gần đây và trở nên linh hoạt hơn ta sẽ sử dụng \"cửa sổ trượt\" (rolling window) thay vì \"cửa sổ mở rộng\" (expanding window)"
   ]
  },
  {
   "cell_type": "code",
   "execution_count": 34,
   "id": "50709d84-3661-4913-b24f-a7eac763e998",
   "metadata": {
    "execution": {
     "iopub.execute_input": "2025-07-28T06:17:01.415818Z",
     "iopub.status.busy": "2025-07-28T06:17:01.414980Z",
     "iopub.status.idle": "2025-07-28T06:17:01.433044Z",
     "shell.execute_reply": "2025-07-28T06:17:01.432504Z",
     "shell.execute_reply.started": "2025-07-28T06:17:01.415796Z"
    },
    "trusted": true
   },
   "outputs": [],
   "source": [
    "# --- Thiết lập và chạy tối ưu hóa ---\n",
    "RISK_FREE_RATE = 0.075 / 12\n",
    "constraints = ({'type': 'eq', 'fun': lambda w: np.sum(w) - 1})\n",
    "\n",
    "def portfolio_performance(weights, mu, S):\n",
    "    p_return = np.sum(mu * weights)\n",
    "    p_volatility = np.sqrt(np.dot(weights.T, np.dot(S, weights)))\n",
    "    return p_return, p_volatility\n",
    "\n",
    "def negative_sharpe_ratio(weights, mu, S, risk_free_rate):\n",
    "    p_return, p_volatility = portfolio_performance(weights, mu, S)\n",
    "    if p_volatility == 0: return np.inf\n",
    "    return -(p_return - risk_free_rate) / p_volatility"
   ]
  },
  {
   "cell_type": "code",
   "execution_count": 35,
   "id": "a19174bb-d553-4ba1-b166-92159b91bdb4",
   "metadata": {
    "execution": {
     "iopub.execute_input": "2025-07-28T06:17:01.434332Z",
     "iopub.status.busy": "2025-07-28T06:17:01.433530Z",
     "iopub.status.idle": "2025-07-28T07:17:09.378781Z",
     "shell.execute_reply": "2025-07-28T07:17:09.377807Z",
     "shell.execute_reply.started": "2025-07-28T06:17:01.434312Z"
    },
    "trusted": true
   },
   "outputs": [
    {
     "name": "stdout",
     "output_type": "stream",
     "text": [
      "==================================================\n",
      "🚀 Bắt đầu Backtest với cửa sổ trượt 30 ngày...\n",
      "==================================================\n",
      "\n",
      "--- Đang xử lý Tháng 1/11 ---\n",
      "   + Đang fit lại các model (có kiểm định ARCH động)...\n",
      "      - Crypto_Returns: Không có hiệu ứng ARCH. Dùng ARIMA.\n",
      "      - Stocks_Returns: Không có hiệu ứng ARCH. Dùng ARIMA.\n",
      "      - Nexus_Returns: Không có hiệu ứng ARCH. Dùng ARIMA.\n",
      "   + Fit model hoàn tất.\n",
      "   + Đang chạy Monte Carlo cho Tháng 1...\n",
      "🚀 Bắt đầu 100 kịch bản mô phỏng cho 30 ngày tới...\n"
     ]
    },
    {
     "name": "stderr",
     "output_type": "stream",
     "text": [
      "Đang mô phỏng: 100%|██████████| 100/100 [02:42<00:00,  1.63s/it]\n"
     ]
    },
    {
     "name": "stdout",
     "output_type": "stream",
     "text": [
      "\n",
      "✅ Mô phỏng hoàn tất!\n",
      "   + Đang tối ưu hóa cho Tháng 1...\n",
      "✅ Hoàn tất xử lý cho Tháng 1.\n",
      "   + Đang cập nhật dữ liệu cho vòng lặp sau...\n",
      "   + Dữ liệu training được cập nhật. Kích thước mới: 30 dòng.\n",
      "\n",
      "--- Đang xử lý Tháng 2/11 ---\n",
      "   + Đang fit lại các model (có kiểm định ARCH động)...\n",
      "      - Crypto_Returns: Không có hiệu ứng ARCH. Dùng ARIMA.\n",
      "      - Stocks_Returns: Không có hiệu ứng ARCH. Dùng ARIMA.\n",
      "      - Nexus_Returns: Không có hiệu ứng ARCH. Dùng ARIMA.\n",
      "   + Fit model hoàn tất.\n",
      "   + Đang chạy Monte Carlo cho Tháng 2...\n",
      "🚀 Bắt đầu 100 kịch bản mô phỏng cho 30 ngày tới...\n"
     ]
    },
    {
     "name": "stderr",
     "output_type": "stream",
     "text": [
      "Đang mô phỏng: 100%|██████████| 100/100 [02:25<00:00,  1.45s/it]\n"
     ]
    },
    {
     "name": "stdout",
     "output_type": "stream",
     "text": [
      "\n",
      "✅ Mô phỏng hoàn tất!\n",
      "   + Đang tối ưu hóa cho Tháng 2...\n",
      "✅ Hoàn tất xử lý cho Tháng 2.\n",
      "   + Đang cập nhật dữ liệu cho vòng lặp sau...\n",
      "   + Dữ liệu training được cập nhật. Kích thước mới: 30 dòng.\n",
      "\n",
      "--- Đang xử lý Tháng 3/11 ---\n",
      "   + Đang fit lại các model (có kiểm định ARCH động)...\n",
      "      - Crypto_Returns: Không có hiệu ứng ARCH. Dùng ARIMA.\n",
      "      - Stocks_Returns: Không có hiệu ứng ARCH. Dùng ARIMA.\n",
      "      - Nexus_Returns: Không có hiệu ứng ARCH. Dùng ARIMA.\n",
      "   + Fit model hoàn tất.\n",
      "   + Đang chạy Monte Carlo cho Tháng 3...\n",
      "🚀 Bắt đầu 100 kịch bản mô phỏng cho 30 ngày tới...\n"
     ]
    },
    {
     "name": "stderr",
     "output_type": "stream",
     "text": [
      "Đang mô phỏng: 100%|██████████| 100/100 [03:10<00:00,  1.90s/it]\n"
     ]
    },
    {
     "name": "stdout",
     "output_type": "stream",
     "text": [
      "\n",
      "✅ Mô phỏng hoàn tất!\n",
      "   + Đang tối ưu hóa cho Tháng 3...\n",
      "✅ Hoàn tất xử lý cho Tháng 3.\n",
      "   + Đang cập nhật dữ liệu cho vòng lặp sau...\n",
      "   + Dữ liệu training được cập nhật. Kích thước mới: 30 dòng.\n",
      "\n",
      "--- Đang xử lý Tháng 4/11 ---\n",
      "   + Đang fit lại các model (có kiểm định ARCH động)...\n",
      "      - Crypto_Returns: Không có hiệu ứng ARCH. Dùng ARIMA.\n",
      "      - Stocks_Returns: Không có hiệu ứng ARCH. Dùng ARIMA.\n",
      "      - Nexus_Returns: Không có hiệu ứng ARCH. Dùng ARIMA.\n",
      "   + Fit model hoàn tất.\n",
      "   + Đang chạy Monte Carlo cho Tháng 4...\n",
      "🚀 Bắt đầu 100 kịch bản mô phỏng cho 30 ngày tới...\n"
     ]
    },
    {
     "name": "stderr",
     "output_type": "stream",
     "text": [
      "Đang mô phỏng: 100%|██████████| 100/100 [03:25<00:00,  2.06s/it]\n"
     ]
    },
    {
     "name": "stdout",
     "output_type": "stream",
     "text": [
      "\n",
      "✅ Mô phỏng hoàn tất!\n",
      "   + Đang tối ưu hóa cho Tháng 4...\n",
      "✅ Hoàn tất xử lý cho Tháng 4.\n",
      "   + Đang cập nhật dữ liệu cho vòng lặp sau...\n",
      "   + Dữ liệu training được cập nhật. Kích thước mới: 30 dòng.\n",
      "\n",
      "--- Đang xử lý Tháng 5/11 ---\n",
      "   + Đang fit lại các model (có kiểm định ARCH động)...\n",
      "      - Crypto_Returns: Không có hiệu ứng ARCH. Dùng ARIMA.\n",
      "      - Stocks_Returns: Không có hiệu ứng ARCH. Dùng ARIMA.\n",
      "      - Nexus_Returns: Không có hiệu ứng ARCH. Dùng ARIMA.\n",
      "   + Fit model hoàn tất.\n",
      "   + Đang chạy Monte Carlo cho Tháng 5...\n",
      "🚀 Bắt đầu 100 kịch bản mô phỏng cho 30 ngày tới...\n"
     ]
    },
    {
     "name": "stderr",
     "output_type": "stream",
     "text": [
      "Đang mô phỏng: 100%|██████████| 100/100 [02:39<00:00,  1.59s/it]\n"
     ]
    },
    {
     "name": "stdout",
     "output_type": "stream",
     "text": [
      "\n",
      "✅ Mô phỏng hoàn tất!\n",
      "   + Đang tối ưu hóa cho Tháng 5...\n",
      "✅ Hoàn tất xử lý cho Tháng 5.\n",
      "   + Đang cập nhật dữ liệu cho vòng lặp sau...\n",
      "   + Dữ liệu training được cập nhật. Kích thước mới: 30 dòng.\n",
      "\n",
      "--- Đang xử lý Tháng 6/11 ---\n",
      "   + Đang fit lại các model (có kiểm định ARCH động)...\n",
      "      - Crypto_Returns: Không có hiệu ứng ARCH. Dùng ARIMA.\n",
      "      - Stocks_Returns: Không có hiệu ứng ARCH. Dùng ARIMA.\n",
      "      - Nexus_Returns: Không có hiệu ứng ARCH. Dùng ARIMA.\n",
      "   + Fit model hoàn tất.\n",
      "   + Đang chạy Monte Carlo cho Tháng 6...\n",
      "🚀 Bắt đầu 100 kịch bản mô phỏng cho 30 ngày tới...\n"
     ]
    },
    {
     "name": "stderr",
     "output_type": "stream",
     "text": [
      "Đang mô phỏng: 100%|██████████| 100/100 [02:08<00:00,  1.28s/it]\n"
     ]
    },
    {
     "name": "stdout",
     "output_type": "stream",
     "text": [
      "\n",
      "✅ Mô phỏng hoàn tất!\n",
      "   + Đang tối ưu hóa cho Tháng 6...\n",
      "✅ Hoàn tất xử lý cho Tháng 6.\n",
      "   + Đang cập nhật dữ liệu cho vòng lặp sau...\n",
      "   + Dữ liệu training được cập nhật. Kích thước mới: 30 dòng.\n",
      "\n",
      "--- Đang xử lý Tháng 7/11 ---\n",
      "   + Đang fit lại các model (có kiểm định ARCH động)...\n",
      "      - Crypto_Returns: Không có hiệu ứng ARCH. Dùng ARIMA.\n",
      "      - Stocks_Returns: Không có hiệu ứng ARCH. Dùng ARIMA.\n",
      "      - Nexus_Returns: Không có hiệu ứng ARCH. Dùng ARIMA.\n",
      "   + Fit model hoàn tất.\n",
      "   + Đang chạy Monte Carlo cho Tháng 7...\n",
      "🚀 Bắt đầu 100 kịch bản mô phỏng cho 30 ngày tới...\n"
     ]
    },
    {
     "name": "stderr",
     "output_type": "stream",
     "text": [
      "Đang mô phỏng: 100%|██████████| 100/100 [02:28<00:00,  1.49s/it]\n"
     ]
    },
    {
     "name": "stdout",
     "output_type": "stream",
     "text": [
      "\n",
      "✅ Mô phỏng hoàn tất!\n",
      "   + Đang tối ưu hóa cho Tháng 7...\n",
      "✅ Hoàn tất xử lý cho Tháng 7.\n",
      "   + Đang cập nhật dữ liệu cho vòng lặp sau...\n",
      "   + Dữ liệu training được cập nhật. Kích thước mới: 30 dòng.\n",
      "\n",
      "--- Đang xử lý Tháng 8/11 ---\n",
      "   + Đang fit lại các model (có kiểm định ARCH động)...\n",
      "      - Crypto_Returns: Không có hiệu ứng ARCH. Dùng ARIMA.\n",
      "      - Stocks_Returns: Không có hiệu ứng ARCH. Dùng ARIMA.\n",
      "      - Nexus_Returns: Không có hiệu ứng ARCH. Dùng ARIMA.\n",
      "   + Fit model hoàn tất.\n",
      "   + Đang chạy Monte Carlo cho Tháng 8...\n",
      "🚀 Bắt đầu 100 kịch bản mô phỏng cho 30 ngày tới...\n"
     ]
    },
    {
     "name": "stderr",
     "output_type": "stream",
     "text": [
      "Đang mô phỏng: 100%|██████████| 100/100 [03:20<00:00,  2.00s/it]\n"
     ]
    },
    {
     "name": "stdout",
     "output_type": "stream",
     "text": [
      "\n",
      "✅ Mô phỏng hoàn tất!\n",
      "   + Đang tối ưu hóa cho Tháng 8...\n",
      "✅ Hoàn tất xử lý cho Tháng 8.\n",
      "   + Đang cập nhật dữ liệu cho vòng lặp sau...\n",
      "   + Dữ liệu training được cập nhật. Kích thước mới: 30 dòng.\n",
      "\n",
      "--- Đang xử lý Tháng 9/11 ---\n",
      "   + Đang fit lại các model (có kiểm định ARCH động)...\n",
      "      - Crypto_Returns: Không có hiệu ứng ARCH. Dùng ARIMA.\n",
      "      - Stocks_Returns: Không có hiệu ứng ARCH. Dùng ARIMA.\n",
      "      - Nexus_Returns: Không có hiệu ứng ARCH. Dùng ARIMA.\n",
      "   + Fit model hoàn tất.\n",
      "   + Đang chạy Monte Carlo cho Tháng 9...\n",
      "🚀 Bắt đầu 100 kịch bản mô phỏng cho 30 ngày tới...\n"
     ]
    },
    {
     "name": "stderr",
     "output_type": "stream",
     "text": [
      "Đang mô phỏng: 100%|██████████| 100/100 [02:43<00:00,  1.64s/it]\n"
     ]
    },
    {
     "name": "stdout",
     "output_type": "stream",
     "text": [
      "\n",
      "✅ Mô phỏng hoàn tất!\n",
      "   + Đang tối ưu hóa cho Tháng 9...\n",
      "✅ Hoàn tất xử lý cho Tháng 9.\n",
      "   + Đang cập nhật dữ liệu cho vòng lặp sau...\n",
      "   + Dữ liệu training được cập nhật. Kích thước mới: 30 dòng.\n",
      "\n",
      "--- Đang xử lý Tháng 10/11 ---\n",
      "   + Đang fit lại các model (có kiểm định ARCH động)...\n",
      "      - Crypto_Returns: Không có hiệu ứng ARCH. Dùng ARIMA.\n",
      "      - Stocks_Returns: Không có hiệu ứng ARCH. Dùng ARIMA.\n",
      "      - Nexus_Returns: Không có hiệu ứng ARCH. Dùng ARIMA.\n",
      "   + Fit model hoàn tất.\n",
      "   + Đang chạy Monte Carlo cho Tháng 10...\n",
      "🚀 Bắt đầu 100 kịch bản mô phỏng cho 30 ngày tới...\n"
     ]
    },
    {
     "name": "stderr",
     "output_type": "stream",
     "text": [
      "Đang mô phỏng: 100%|██████████| 100/100 [02:28<00:00,  1.48s/it]\n"
     ]
    },
    {
     "name": "stdout",
     "output_type": "stream",
     "text": [
      "\n",
      "✅ Mô phỏng hoàn tất!\n",
      "   + Đang tối ưu hóa cho Tháng 10...\n",
      "✅ Hoàn tất xử lý cho Tháng 10.\n",
      "   + Đang cập nhật dữ liệu cho vòng lặp sau...\n",
      "   + Dữ liệu training được cập nhật. Kích thước mới: 30 dòng.\n",
      "\n",
      "--- Đang xử lý Tháng 11/11 ---\n",
      "   + Đang fit lại các model (có kiểm định ARCH động)...\n",
      "      - Crypto_Returns: Không có hiệu ứng ARCH. Dùng ARIMA.\n",
      "      - Stocks_Returns: Không có hiệu ứng ARCH. Dùng ARIMA.\n",
      "      - Nexus_Returns: Không có hiệu ứng ARCH. Dùng ARIMA.\n",
      "   + Fit model hoàn tất.\n",
      "   + Đang chạy Monte Carlo cho Tháng 11...\n",
      "🚀 Bắt đầu 100 kịch bản mô phỏng cho 30 ngày tới...\n"
     ]
    },
    {
     "name": "stderr",
     "output_type": "stream",
     "text": [
      "Đang mô phỏng: 100%|██████████| 100/100 [02:29<00:00,  1.49s/it]"
     ]
    },
    {
     "name": "stdout",
     "output_type": "stream",
     "text": [
      "\n",
      "✅ Mô phỏng hoàn tất!\n",
      "   + Đang tối ưu hóa cho Tháng 11...\n",
      "✅ Hoàn tất xử lý cho Tháng 11.\n",
      "   + Đang cập nhật dữ liệu cho vòng lặp sau...\n",
      "   + Dữ liệu training được cập nhật. Kích thước mới: 30 dòng.\n",
      "\n",
      "\n",
      "--- Backtest hoàn tất! ---\n",
      "\n",
      "--- Bảng phân bổ tỷ trọng tự động qua 3 tháng ---\n",
      "          Crypto_Returns  Stocks_Returns  Nexus_Returns     Tiet_Kiem\n",
      "Tháng 1     1.000000e+00    0.000000e+00   0.000000e+00  1.110223e-16\n",
      "Tháng 2     5.559428e-01    3.111299e-01   1.329273e-01  5.421011e-20\n",
      "Tháng 3     7.730331e-02    8.251537e-01   9.740542e-02  1.375811e-04\n",
      "Tháng 4     1.000000e+00    0.000000e+00   7.494005e-16  0.000000e+00\n",
      "Tháng 5     0.000000e+00    9.618181e-01   3.434698e-02  3.834872e-03\n",
      "Tháng 6     5.584422e-14    1.000000e+00   5.218048e-15  7.549517e-15\n",
      "Tháng 7     0.000000e+00    9.143501e-01   0.000000e+00  8.564992e-02\n",
      "Tháng 8     8.291338e-01    3.469447e-17   0.000000e+00  1.708662e-01\n",
      "Tháng 9     0.000000e+00    3.792577e-01   5.505603e-01  7.018208e-02\n",
      "Tháng 10    0.000000e+00    2.109424e-15   1.000000e+00  0.000000e+00\n",
      "Tháng 11    3.366998e-01    1.960008e-01   2.143781e-01  2.529213e-01\n"
     ]
    },
    {
     "name": "stderr",
     "output_type": "stream",
     "text": [
      "\n"
     ]
    }
   ],
   "source": [
    "# CÁC HÀM CẦN THIẾT (TỪ CÁC BƯỚC TRƯỚC)\n",
    "# fit_all_models, simulate_arima_path, run_monte_carlo_simulation, portfolio_performance, negative_sharpe_ratio\n",
    "\n",
    "# --- BẮT ĐẦU QUÁ TRÌNH BACKTEST CHO 4 TÀI SẢN ---\n",
    "\n",
    "### THÊM SIÊU THAM SỐ MỚI ###\n",
    "TRAINING_WINDOW_DAYS = 30 # Chỉ dùng 60 ngày dữ liệu gần nhất để training\n",
    "\n",
    "days_in_month = 30\n",
    "n_months_to_backtest = test_day // days_in_month\n",
    "all_optimal_weights = []\n",
    "asset_names_4 = []\n",
    "\n",
    "# Dữ liệu training ban đầu\n",
    "rolling_training_data = daily_log_returns.copy()\n",
    "\n",
    "# Lãi suất tiết kiệm hàng tháng\n",
    "tiet_kiem_mu = 0.075 / 12\n",
    "\n",
    "print(\"=\"*50)\n",
    "print(f\"🚀 Bắt đầu Backtest với cửa sổ trượt {TRAINING_WINDOW_DAYS} ngày...\")\n",
    "print(\"=\"*50)\n",
    "\n",
    "for i in range(n_months_to_backtest):\n",
    "    print(f\"\\n--- Đang xử lý Tháng {i+1}/{n_months_to_backtest} ---\")\n",
    "    \n",
    "    # 1. Fit lại model cho 3 tài sản rủi ro\n",
    "    all_fitted_models = fit_all_models(rolling_training_data)\n",
    "    \n",
    "    # 2. Chạy mô phỏng Monte Carlo\n",
    "    print(f\"   + Đang chạy Monte Carlo cho Tháng {i+1}...\")\n",
    "    mu_risky, S_risky = run_monte_carlo_simulation(\n",
    "        all_fitted_models=all_fitted_models,\n",
    "        n_simulations=100,\n",
    "        n_days=days_in_month\n",
    "    )\n",
    "\n",
    "    # 3. \"Ghép\" tài sản tiết kiệm vào kết quả mô phỏng\n",
    "    mu_4_assets = pd.concat([mu_risky, pd.Series({'Tiet_Kiem': tiet_kiem_mu})])\n",
    "    asset_names_4 = mu_4_assets.index\n",
    "    \n",
    "    S_4_assets = pd.DataFrame(np.zeros((4, 4)), index=asset_names_4, columns=asset_names_4)\n",
    "    S_4_assets.iloc[:3, :3] = S_risky\n",
    "\n",
    "    # 4. Chạy tối ưu hóa Markowitz\n",
    "    print(f\"   + Đang tối ưu hóa cho Tháng {i+1}...\")\n",
    "    num_assets = 4\n",
    "    bounds = tuple((0, 1) for _ in range(num_assets))\n",
    "    \n",
    "    initial_weights = np.array(num_assets * [1. / num_assets,])\n",
    "    args = (mu_4_assets, S_4_assets, RISK_FREE_RATE)\n",
    "    \n",
    "    optimal_result = minimize(fun=negative_sharpe_ratio, x0=initial_weights, args=args,\n",
    "                              method='SLSQP', bounds=bounds, constraints=constraints)\n",
    "    \n",
    "    # 5. Lưu lại tỷ trọng tối ưu\n",
    "    current_weights = optimal_result.x\n",
    "    all_optimal_weights.append(current_weights)\n",
    "    print(f\"✅ Hoàn tất xử lý cho Tháng {i+1}.\")\n",
    "\n",
    "    # 6. Cập nhật dữ liệu training cho tháng tiếp theo\n",
    "    print(\"   + Đang cập nhật dữ liệu cho vòng lặp sau...\")\n",
    "    start_index = i * days_in_month\n",
    "    end_index = (i + 1) * days_in_month\n",
    "    \n",
    "    new_data_from_test = daily_log_returns_test.iloc[start_index:end_index]\n",
    "    \n",
    "    ### CẬP NHẬT LOGIC CỬA SỔ TRƯỢT ###\n",
    "    # Nối dữ liệu mới vào\n",
    "    combined_data = pd.concat([rolling_training_data, new_data_from_test])\n",
    "    \n",
    "    # Cắt lại DataFrame để chỉ giữ lại N ngày gần nhất\n",
    "    rolling_training_data = combined_data.tail(TRAINING_WINDOW_DAYS)\n",
    "    print(f\"   + Dữ liệu training được cập nhật. Kích thước mới: {len(rolling_training_data)} dòng.\")\n",
    "    \n",
    "\n",
    "# --- TỔNG HỢP KẾT QUẢ ---\n",
    "print(\"\\n\\n--- Backtest hoàn tất! ---\")\n",
    "backtest_allocation_df = pd.DataFrame(\n",
    "    all_optimal_weights,\n",
    "    columns=asset_names_4,\n",
    "    index=[f'Tháng {i+1}' for i in range(n_months_to_backtest)]\n",
    ")\n",
    "\n",
    "print(\"\\n--- Bảng phân bổ tỷ trọng tự động qua 3 tháng ---\")\n",
    "print(backtest_allocation_df)"
   ]
  },
  {
   "cell_type": "markdown",
   "id": "df4b9e3d-ea7d-4508-b4ca-6b9e7e1679d6",
   "metadata": {},
   "source": [
    "## 5.3 Cơ cấu danh mục đầu tư qua các tháng"
   ]
  },
  {
   "cell_type": "code",
   "execution_count": 36,
   "id": "d7e6e448-e1a6-4cb6-ae6d-1425f41622eb",
   "metadata": {
    "execution": {
     "iopub.execute_input": "2025-07-28T07:17:09.380161Z",
     "iopub.status.busy": "2025-07-28T07:17:09.379648Z",
     "iopub.status.idle": "2025-07-28T07:17:10.312482Z",
     "shell.execute_reply": "2025-07-28T07:17:10.311432Z",
     "shell.execute_reply.started": "2025-07-28T07:17:09.380133Z"
    },
    "trusted": true
   },
   "outputs": [
    {
     "name": "stdout",
     "output_type": "stream",
     "text": [
      "Biểu đồ đã được lưu với tên portfolio_allocation.png\n"
     ]
    },
    {
     "data": {
      "image/png": "[encoded data removed]",
      "text/plain": [
       "<Figure size 1000x700 with 1 Axes>"
      ]
     },
     "metadata": {},
     "output_type": "display_data"
    }
   ],
   "source": [
    "# Vẽ biểu đồ\n",
    "ax = backtest_allocation_df.plot(\n",
    "    kind='bar',\n",
    "    stacked=True,\n",
    "    figsize=(10, 7),\n",
    "    cmap='viridis', # Bảng màu\n",
    "    rot=0 # Xoay nhãn trục x\n",
    ")\n",
    "\n",
    "# --- Định dạng biểu đồ cho đẹp hơn ---\n",
    "ax.set_title(f'Sự Thay Đổi Phân Bổ Danh Mục Qua {n_months_to_backtest} Tháng', fontsize=16)\n",
    "ax.set_ylabel('Tỷ trọng phân bổ', fontsize=12)\n",
    "ax.set_xlabel('Thời gian', fontsize=12)\n",
    "ax.legend(title='Tài sản', bbox_to_anchor=(1.05, 1), loc='upper left')\n",
    "ax.yaxis.set_major_formatter(mtick.PercentFormatter(1.0)) # Định dạng trục y là %\n",
    "\n",
    "# Thêm nhãn giá trị (tỷ lệ %) vào từng phần của cột\n",
    "for c in ax.containers:\n",
    "    labels = [f'{w*100:,.1f}%' for w in c.datavalues]\n",
    "    ax.bar_label(c, labels=labels, label_type='center', color='white', fontsize=10, fontweight='bold')\n",
    "\n",
    "plt.tight_layout()\n",
    "plt.savefig(\"portfolio_allocation.png\")\n",
    "print(\"Biểu đồ đã được lưu với tên portfolio_allocation.png\")"
   ]
  },
  {
   "cell_type": "markdown",
   "id": "7257abcc-1cef-43cc-b057-72a443275d7d",
   "metadata": {},
   "source": [
    "# 6. Mô phỏng giá trị danh mục qua các tháng"
   ]
  },
  {
   "cell_type": "markdown",
   "id": "3a035f09-3038-40d3-959c-2d6db86d5afb",
   "metadata": {},
   "source": [
    "## 6.1 Chuẩn bị các siêu tham số cho quá trình mô phỏng"
   ]
  },
  {
   "cell_type": "code",
   "execution_count": 37,
   "id": "699a7dba-c510-4058-9061-4b6c9d8c0791",
   "metadata": {
    "execution": {
     "iopub.execute_input": "2025-07-28T07:17:10.313725Z",
     "iopub.status.busy": "2025-07-28T07:17:10.313456Z",
     "iopub.status.idle": "2025-07-28T07:17:10.323087Z",
     "shell.execute_reply": "2025-07-28T07:17:10.322172Z",
     "shell.execute_reply.started": "2025-07-28T07:17:10.313704Z"
    },
    "trusted": true
   },
   "outputs": [
    {
     "name": "stdout",
     "output_type": "stream",
     "text": [
      "--- Bảng phân bổ tỷ trọng sẽ sử dụng ---\n",
      "          Crypto_Returns  Stocks_Returns  Nexus_Returns     Tiet_Kiem\n",
      "Tháng 1     1.000000e+00    0.000000e+00   0.000000e+00  1.110223e-16\n",
      "Tháng 2     5.559428e-01    3.111299e-01   1.329273e-01  5.421011e-20\n",
      "Tháng 3     7.730331e-02    8.251537e-01   9.740542e-02  1.375811e-04\n",
      "Tháng 4     1.000000e+00    0.000000e+00   7.494005e-16  0.000000e+00\n",
      "Tháng 5     0.000000e+00    9.618181e-01   3.434698e-02  3.834872e-03\n",
      "Tháng 6     5.584422e-14    1.000000e+00   5.218048e-15  7.549517e-15\n",
      "Tháng 7     0.000000e+00    9.143501e-01   0.000000e+00  8.564992e-02\n",
      "Tháng 8     8.291338e-01    3.469447e-17   0.000000e+00  1.708662e-01\n",
      "Tháng 9     0.000000e+00    3.792577e-01   5.505603e-01  7.018208e-02\n",
      "Tháng 10    0.000000e+00    2.109424e-15   1.000000e+00  0.000000e+00\n",
      "Tháng 11    3.366998e-01    1.960008e-01   2.143781e-01  2.529213e-01\n"
     ]
    }
   ],
   "source": [
    "# --- Dữ liệu đầu vào ---\n",
    "# Bảng phân bổ tỷ trọng tối ưu qua 3 tháng\n",
    "allocation_data = {\n",
    "    col: backtest_allocation_df[col].tolist()\n",
    "    for col in backtest_allocation_df.columns\n",
    "}\n",
    "\n",
    "index_labels = [f'Tháng {i+1}' for i in range(n_months_to_backtest)]\n",
    "backtest_allocation_df = pd.DataFrame(allocation_data, index=index_labels)\n",
    "\n",
    "# Các tham số ban đầu\n",
    "initial_capital = 100000\n",
    "days_in_month = 30 # Backtest đang chạy với 30 ngày/tháng\n",
    "n_months = test_day//days_in_month \n",
    "tiet_kiem_mu_monthly = 0.075 / 12\n",
    "\n",
    "print(\"--- Bảng phân bổ tỷ trọng sẽ sử dụng ---\")\n",
    "print(backtest_allocation_df)"
   ]
  },
  {
   "cell_type": "markdown",
   "id": "05483dea-c71e-4626-89ba-8718690508e4",
   "metadata": {},
   "source": [
    "## 6.2 Áp dụng chiến lược tối ưu hóa chốt lời/ cắt lỗ phù hợp "
   ]
  },
  {
   "cell_type": "markdown",
   "id": "49aea4ce-4ac5-4731-b41f-120fd6350f89",
   "metadata": {},
   "source": [
    "Logic hiện tại đang đặt mức chốt lời (TP) và cắt lỗ (SL) bằng nhau, dựa trên độ biến động (volatility). Điều này có nghĩa là tỷ lệ Risk/Reward (R/R) đang là 1:1.\n",
    "Để an toàn hơn, chúng ta cần một tỷ lệ R/R tốt hơn, ví dụ như 1:2 hoặc 1:3. Tức là, bạn chấp nhận rủi ro mất 1 đồng để có cơ hội kiếm được 2 hoặc 3 đồng.\n",
    "\n",
    "  * **Cắt lỗ sớm:** Giới hạn mức lỗ ở một khoảng nhỏ hơn so với biến động tự nhiên của tài sản.\n",
    "  * **Chốt lời muộn hơn:** Cho phép tài sản có đủ không gian để tăng trưởng và chỉ chốt lời khi đạt được một mức lợi nhuận đáng kể.\n",
    "\n",
    "**Cách thực hiện:** Chúng ta sẽ sử dụng chính `volatility` đã tính toán làm một \"thước đo\" cơ bản. Sau đó, ta sẽ nhân nó với các **hệ số điều chỉnh** để tạo ra các mức TP/SL bất đối xứng.\n",
    "\n",
    "  * `Mức cắt lỗ = volatility * HỆ_SỐ_CẮT_LỖ` (ví dụ: hệ số 0.5 để cắt lỗ sớm hơn)\n",
    "  * `Mức chốt lời = volatility * HỆ_SỐ_CHỐT_LỜI` (ví dụ: hệ số 1.5 để chốt lời muộn hơn)"
   ]
  },
  {
   "cell_type": "code",
   "execution_count": 38,
   "id": "81ae0a31-04eb-4a77-a932-eb1fc6ef0ded",
   "metadata": {
    "execution": {
     "iopub.execute_input": "2025-07-28T07:17:10.324148Z",
     "iopub.status.busy": "2025-07-28T07:17:10.323888Z",
     "iopub.status.idle": "2025-07-28T07:17:10.339107Z",
     "shell.execute_reply": "2025-07-28T07:17:10.338537Z",
     "shell.execute_reply.started": "2025-07-28T07:17:10.324119Z"
    },
    "trusted": true
   },
   "outputs": [],
   "source": [
    "### THÊM SIÊU THAM SỐ MỚI ĐỂ ĐIỀU CHỈNH TỶ LỆ R/R ###\n",
    "TAKE_PROFIT_MULTIPLIER = 1.5  # Mức chốt lời = 1.5 lần độ biến động\n",
    "STOP_LOSS_MULTIPLIER = 0.5   # Mức cắt lỗ = 0.5 lần độ biến động\n",
    "                             # -> Tỷ lệ R/R mục tiêu là 1:3 (0.5 so với 1.5)\n",
    "\n",
    "def calculate_dynamic_tpsl(training_data, risky_assets):\n",
    "    \"\"\"\n",
    "    Tính toán mức TP/SL linh động với các hệ số điều chỉnh bất đối xứng.\n",
    "    \"\"\"\n",
    "    trading_days_per_year = {\n",
    "        'Crypto_Returns': 365,\n",
    "        'Stocks_Returns': 252,\n",
    "        'Nexus_Returns': 252\n",
    "    }\n",
    "    \n",
    "    daily_volatility = training_data[risky_assets].std()\n",
    "    \n",
    "    take_profit_levels = {}\n",
    "    stop_loss_levels = {}\n",
    "    \n",
    "    for asset in risky_assets:\n",
    "        sqrt_trading_days = np.sqrt(trading_days_per_year[asset])\n",
    "        annualized_volatility = daily_volatility[asset] * sqrt_trading_days\n",
    "        \n",
    "        # Áp dụng hệ số điều chỉnh\n",
    "        take_profit_levels[asset] = annualized_volatility * TAKE_PROFIT_MULTIPLIER\n",
    "        stop_loss_levels[asset] = annualized_volatility * STOP_LOSS_MULTIPLIER\n",
    "        \n",
    "    return take_profit_levels, stop_loss_levels"
   ]
  },
  {
   "cell_type": "markdown",
   "id": "16a2193c-e13f-49a7-987d-79f45f1185a1",
   "metadata": {},
   "source": [
    "Để mô phỏng tiền tiết kiệm chỉ được rút vào cuối kì hạn, chúng ta cần một nơi để giữ số tiền bán được giữa kỳ. Giải pháp là tạo ra một tài khoản thứ năm gọi là **\"Cash\" (Tiền mặt)**.\n",
    "\n",
    "1.  **`Tiet_Kiem`**: Sẽ được phân bổ vốn vào **đầu tháng** và bị **khóa**. Giá trị của nó không thay đổi trong suốt 30 ngày.\n",
    "2.  **`Cash`**: Sẽ bắt đầu bằng 0 vào đầu mỗi tháng. Nó sẽ là nơi **nhận tiền** khi một tài sản rủi ro được bán do chốt lời/cắt lỗ. Số tiền này sẽ được giữ ở đó cho đến kỳ tái cân bằng tiếp theo.\n",
    "3.  **Lãi suất `Tiet_Kiem`**: Sẽ được tính dựa trên số vốn **ban đầu** đã gửi vào đầu tháng."
   ]
  },
  {
   "cell_type": "code",
   "execution_count": 39,
   "id": "44240ff1-06e1-40f7-8744-79a6ab261901",
   "metadata": {
    "execution": {
     "iopub.execute_input": "2025-07-28T07:17:10.340155Z",
     "iopub.status.busy": "2025-07-28T07:17:10.339921Z",
     "iopub.status.idle": "2025-07-28T07:17:10.634274Z",
     "shell.execute_reply": "2025-07-28T07:17:10.633509Z",
     "shell.execute_reply.started": "2025-07-28T07:17:10.340130Z"
    },
    "trusted": true
   },
   "outputs": [
    {
     "name": "stdout",
     "output_type": "stream",
     "text": [
      "🚀 Đang mô phỏng chiến lược (TP/SL linh động theo Volatility)...\n",
      "\n",
      "--- Tháng 1: Các mức TP/SL bất đối xứng được cập nhật ---\n",
      "  - Crypto: TP: 76.06%, SL: 25.35%\n",
      "  - Stocks: TP: 50.88%, SL: 16.96%\n",
      "  - Nexus: TP: 11.98%, SL: 3.99%\n",
      "   + Phí tái cân bằng: 100.00\n",
      "\n",
      "--- Tháng 2: Các mức TP/SL bất đối xứng được cập nhật ---\n",
      "  - Crypto: TP: 76.06%, SL: 25.35%\n",
      "  - Stocks: TP: 50.88%, SL: 16.96%\n",
      "  - Nexus: TP: 11.98%, SL: 3.99%\n",
      "   + Phí tái cân bằng: 217.41\n",
      "\n",
      "--- Tháng 3: Các mức TP/SL bất đối xứng được cập nhật ---\n",
      "  - Crypto: TP: 76.06%, SL: 25.35%\n",
      "  - Stocks: TP: 50.88%, SL: 16.96%\n",
      "  - Nexus: TP: 11.98%, SL: 3.99%\n",
      "   + Phí tái cân bằng: 274.80\n",
      "\n",
      "--- Tháng 4: Các mức TP/SL bất đối xứng được cập nhật ---\n",
      "  - Crypto: TP: 76.06%, SL: 25.35%\n",
      "  - Stocks: TP: 50.88%, SL: 16.96%\n",
      "  - Nexus: TP: 11.98%, SL: 3.99%\n",
      "   + Phí tái cân bằng: 535.04\n",
      "\n",
      "--- Tháng 5: Các mức TP/SL bất đối xứng được cập nhật ---\n",
      "  - Crypto: TP: 76.06%, SL: 25.35%\n",
      "  - Stocks: TP: 50.88%, SL: 16.96%\n",
      "  - Nexus: TP: 11.98%, SL: 3.99%\n",
      "   + Phí tái cân bằng: 235.24\n",
      "\n",
      "--- Tháng 6: Các mức TP/SL bất đối xứng được cập nhật ---\n",
      "  - Crypto: TP: 76.06%, SL: 25.35%\n",
      "  - Stocks: TP: 50.88%, SL: 16.96%\n",
      "  - Nexus: TP: 11.98%, SL: 3.99%\n",
      "   + Phí tái cân bằng: 24.73\n",
      "\n",
      "--- Tháng 7: Các mức TP/SL bất đối xứng được cập nhật ---\n",
      "  - Crypto: TP: 76.06%, SL: 25.35%\n",
      "  - Stocks: TP: 50.88%, SL: 16.96%\n",
      "  - Nexus: TP: 11.98%, SL: 3.99%\n",
      "   + Phí tái cân bằng: 21.43\n",
      "\n",
      "--- Tháng 8: Các mức TP/SL bất đối xứng được cập nhật ---\n",
      "  - Crypto: TP: 76.06%, SL: 25.35%\n",
      "  - Stocks: TP: 50.88%, SL: 16.96%\n",
      "  - Nexus: TP: 11.98%, SL: 3.99%\n",
      "   + Phí tái cân bằng: 338.71\n",
      "\n",
      "--- Tháng 9: Các mức TP/SL bất đối xứng được cập nhật ---\n",
      "  - Crypto: TP: 76.06%, SL: 25.35%\n",
      "  - Stocks: TP: 50.88%, SL: 16.96%\n",
      "  - Nexus: TP: 11.98%, SL: 3.99%\n",
      "   + Phí tái cân bằng: 463.35\n",
      "\n",
      "--- Tháng 10: Các mức TP/SL bất đối xứng được cập nhật ---\n",
      "  - Crypto: TP: 76.06%, SL: 25.35%\n",
      "  - Stocks: TP: 50.88%, SL: 16.96%\n",
      "  - Nexus: TP: 11.98%, SL: 3.99%\n",
      "   + Phí tái cân bằng: 177.55\n",
      "\n",
      "--- Tháng 11: Các mức TP/SL bất đối xứng được cập nhật ---\n",
      "  - Crypto: TP: 76.06%, SL: 25.35%\n",
      "  - Stocks: TP: 50.88%, SL: 16.96%\n",
      "  - Nexus: TP: 11.98%, SL: 3.99%\n",
      "   + Phí tái cân bằng: 434.49\n",
      "\n",
      "==================================================\n",
      "               NHẬT KÝ GIAO DỊCH\n",
      "==================================================\n",
      "Ngày 2024-09-03: CHỐT LỜI Crypto_Returns (+104.74%). Giá trị bán: 32,291.77, Phí: 32.29\n",
      "Ngày 2024-10-14: CẮT LỖ Crypto_Returns (-30.72%). Giá trị bán: 151,990.86, Phí: 151.99\n",
      "Ngày 2024-12-13: CẮT LỖ Crypto_Returns (-26.46%). Giá trị bán: 0.00, Phí: 0.00\n",
      "Ngày 2025-03-13: CẮT LỖ Stocks_Returns (-17.23%). Giá trị bán: 46,786.15, Phí: 70.18\n",
      "\n",
      "✅ Mô phỏng hoàn tất!\n",
      "Tổng phí giao dịch đã trả: 3,077.21\n"
     ]
    }
   ],
   "source": [
    "# Phí giao dịch (giữ nguyên)\n",
    "TRANSACTION_FEES = {\n",
    "    'Crypto_Returns': 0.001,\n",
    "    'Stocks_Returns': 0.0015,\n",
    "    'Nexus_Returns': avg_transaction_cost_nexus\n",
    "}\n",
    "\n",
    "print(\"🚀 Đang mô phỏng chiến lược (TP/SL linh động theo Volatility)...\")\n",
    "\n",
    "# --- Thiết lập ---\n",
    "risky_assets = ['Crypto_Returns', 'Stocks_Returns', 'Nexus_Returns']\n",
    "all_asset_names = risky_assets + ['Tiet_Kiem', 'Cash']\n",
    "current_capital = initial_capital\n",
    "daily_history_list = []\n",
    "trade_log = []\n",
    "total_fees_paid = 0\n",
    "previous_asset_values = pd.Series(0, index=all_asset_names)\n",
    "previous_asset_values['Cash'] = initial_capital\n",
    "\n",
    "# Lặp qua từng tháng\n",
    "for i in range(n_months):\n",
    "    weights = backtest_allocation_df.iloc[i]\n",
    "    \n",
    "    # TÍNH TOÁN TP/SL LINH ĐỘNG VÀO ĐẦU MỖI THÁNG\n",
    "    TAKE_PROFIT_LEVELS, STOP_LOSS_LEVELS = calculate_dynamic_tpsl(rolling_training_data, risky_assets)\n",
    "    \n",
    "    print(f\"\\n--- Tháng {i+1}: Các mức TP/SL bất đối xứng được cập nhật ---\")\n",
    "    for asset in risky_assets:\n",
    "        print(f\"  - {asset.replace('_Returns', '')}: TP: {TAKE_PROFIT_LEVELS[asset]:.2%}, SL: {STOP_LOSS_LEVELS[asset]:.2%}\")\n",
    "\n",
    "    # --- TÍNH PHÍ GIAO DỊCH KHI TÁI CÂN BẰNG ---\n",
    "    # (Phần còn lại của code giữ nguyên y hệt như trước)\n",
    "    target_values = current_capital * weights\n",
    "    trade_values = (target_values - previous_asset_values).abs()\n",
    "    rebalancing_fees = 0\n",
    "    for asset in risky_assets:\n",
    "        rebalancing_fees += trade_values.get(asset, 0) * TRANSACTION_FEES.get(asset, 0)\n",
    "    \n",
    "    current_capital -= rebalancing_fees\n",
    "    total_fees_paid += rebalancing_fees\n",
    "    print(f\"   + Phí tái cân bằng: {rebalancing_fees:,.2f}\")\n",
    "\n",
    "    # Phân bổ vốn sau khi đã trừ phí\n",
    "    asset_values = pd.Series(current_capital * weights)\n",
    "    if 'Cash' not in asset_values.index: asset_values['Cash'] = 0.0\n",
    "    asset_values = asset_values.reindex(all_asset_names, fill_value=0.0)\n",
    "\n",
    "    initial_month_values = asset_values.copy()\n",
    "    triggered_assets = {asset: False for asset in risky_assets}\n",
    "    \n",
    "    start_index = i * days_in_month\n",
    "    end_index = (i + 1) * days_in_month\n",
    "    month_data = daily_log_returns_test.iloc[start_index:end_index]\n",
    "    \n",
    "    # Lặp qua từng ngày trong tháng\n",
    "    for day_index, row in month_data.iterrows():\n",
    "        # Cập nhật giá trị\n",
    "        for asset in risky_assets:\n",
    "            if not triggered_assets[asset] and pd.notna(row[asset]):\n",
    "                asset_values[asset] *= np.exp(row[asset])\n",
    "\n",
    "        # Kiểm tra TP/SL với các mức linh động\n",
    "        for asset in risky_assets:\n",
    "            if not triggered_assets[asset] and initial_month_values[asset] > 0:\n",
    "                pnl_percent = (asset_values[asset] - initial_month_values[asset]) / initial_month_values[asset]\n",
    "                \n",
    "                ### THAY ĐỔI 2: Lấy mức TP/SL riêng của từng tài sản ###\n",
    "                tp_level = TAKE_PROFIT_LEVELS.get(asset)\n",
    "                sl_level = STOP_LOSS_LEVELS.get(asset)\n",
    "                \n",
    "                if pnl_percent >= tp_level or pnl_percent <= -sl_level:\n",
    "                    event = \"CHỐT LỜI\" if pnl_percent > 0 else \"CẮT LỖ\"\n",
    "                    date_of_event = row['Time'].date()\n",
    "                    sale_value = asset_values[asset]\n",
    "                    fee = sale_value * TRANSACTION_FEES.get(asset, 0)\n",
    "                    total_fees_paid += fee\n",
    "                    log_entry = (f\"Ngày {str(date_of_event)}: {event} {asset} ({pnl_percent*100:+.2f}%). \"\n",
    "                                 f\"Giá trị bán: {sale_value:,.2f}, Phí: {fee:,.2f}\")\n",
    "                    trade_log.append(log_entry)\n",
    "                    asset_values['Cash'] += sale_value - fee\n",
    "                    asset_values[asset] = 0\n",
    "                    triggered_assets[asset] = True\n",
    "        \n",
    "        daily_snapshot = asset_values.copy()\n",
    "        daily_snapshot['Date'] = row['Time']\n",
    "        daily_history_list.append(daily_snapshot)\n",
    "\n",
    "    previous_asset_values = asset_values.copy()\n",
    "    capital_at_month_end = asset_values.sum()\n",
    "    lai_tiet_kiem = initial_month_values['Tiet_Kiem'] * tiet_kiem_mu_monthly\n",
    "    current_capital = capital_at_month_end + lai_tiet_kiem\n",
    "\n",
    "# --- In ra nhật ký giao dịch và tổng hợp ---\n",
    "print(\"\\n\" + \"=\"*50)\n",
    "print(\"               NHẬT KÝ GIAO DỊCH\")\n",
    "print(\"=\"*50)\n",
    "if trade_log:\n",
    "    for entry in trade_log:\n",
    "        print(entry)\n",
    "else:\n",
    "    print(\"Không có giao dịch chốt lời/cắt lỗ nào được thực hiện.\")\n",
    "\n",
    "dynamic_portfolio_history = pd.DataFrame(daily_history_list).set_index('Date')\n",
    "dynamic_portfolio_history['Total_Value'] = dynamic_portfolio_history.sum(axis=1)\n",
    "\n",
    "print(\"\\n✅ Mô phỏng hoàn tất!\")\n",
    "print(f\"Tổng phí giao dịch đã trả: {total_fees_paid:,.2f}\")"
   ]
  },
  {
   "cell_type": "code",
   "execution_count": 40,
   "id": "002b98a7-4f57-474e-ad65-e34f1274cef1",
   "metadata": {
    "execution": {
     "iopub.execute_input": "2025-07-28T07:17:10.639056Z",
     "iopub.status.busy": "2025-07-28T07:17:10.638814Z",
     "iopub.status.idle": "2025-07-28T07:17:10.651198Z",
     "shell.execute_reply": "2025-07-28T07:17:10.650512Z",
     "shell.execute_reply.started": "2025-07-28T07:17:10.639031Z"
    },
    "trusted": true
   },
   "outputs": [
    {
     "data": {
      "text/html": [
       "<div>\n",
       "<style scoped>\n",
       "    .dataframe tbody tr th:only-of-type {\n",
       "        vertical-align: middle;\n",
       "    }\n",
       "\n",
       "    .dataframe tbody tr th {\n",
       "        vertical-align: top;\n",
       "    }\n",
       "\n",
       "    .dataframe thead th {\n",
       "        text-align: right;\n",
       "    }\n",
       "</style>\n",
       "<table border=\"1\" class=\"dataframe\">\n",
       "  <thead>\n",
       "    <tr style=\"text-align: right;\">\n",
       "      <th></th>\n",
       "      <th>Crypto_Returns</th>\n",
       "      <th>Stocks_Returns</th>\n",
       "      <th>Nexus_Returns</th>\n",
       "      <th>Tiet_Kiem</th>\n",
       "      <th>Cash</th>\n",
       "      <th>Total_Value</th>\n",
       "    </tr>\n",
       "    <tr>\n",
       "      <th>Date</th>\n",
       "      <th></th>\n",
       "      <th></th>\n",
       "      <th></th>\n",
       "      <th></th>\n",
       "      <th></th>\n",
       "      <th></th>\n",
       "    </tr>\n",
       "  </thead>\n",
       "  <tbody>\n",
       "    <tr>\n",
       "      <th>2024-06-20</th>\n",
       "      <td>103714.305660</td>\n",
       "      <td>0.000000</td>\n",
       "      <td>0.000000</td>\n",
       "      <td>1.109113e-11</td>\n",
       "      <td>0.0</td>\n",
       "      <td>103714.305660</td>\n",
       "    </tr>\n",
       "    <tr>\n",
       "      <th>2024-06-21</th>\n",
       "      <td>103748.171393</td>\n",
       "      <td>0.000000</td>\n",
       "      <td>0.000000</td>\n",
       "      <td>1.109113e-11</td>\n",
       "      <td>0.0</td>\n",
       "      <td>103748.171393</td>\n",
       "    </tr>\n",
       "    <tr>\n",
       "      <th>2024-06-22</th>\n",
       "      <td>108277.929455</td>\n",
       "      <td>0.000000</td>\n",
       "      <td>0.000000</td>\n",
       "      <td>1.109113e-11</td>\n",
       "      <td>0.0</td>\n",
       "      <td>108277.929455</td>\n",
       "    </tr>\n",
       "    <tr>\n",
       "      <th>2024-06-23</th>\n",
       "      <td>107392.284182</td>\n",
       "      <td>0.000000</td>\n",
       "      <td>0.000000</td>\n",
       "      <td>1.109113e-11</td>\n",
       "      <td>0.0</td>\n",
       "      <td>107392.284182</td>\n",
       "    </tr>\n",
       "    <tr>\n",
       "      <th>2024-06-24</th>\n",
       "      <td>106587.389196</td>\n",
       "      <td>0.000000</td>\n",
       "      <td>0.000000</td>\n",
       "      <td>1.109113e-11</td>\n",
       "      <td>0.0</td>\n",
       "      <td>106587.389196</td>\n",
       "    </tr>\n",
       "    <tr>\n",
       "      <th>...</th>\n",
       "      <td>...</td>\n",
       "      <td>...</td>\n",
       "      <td>...</td>\n",
       "      <td>...</td>\n",
       "      <td>...</td>\n",
       "      <td>...</td>\n",
       "    </tr>\n",
       "    <tr>\n",
       "      <th>2025-05-11</th>\n",
       "      <td>40190.562239</td>\n",
       "      <td>27018.156106</td>\n",
       "      <td>31693.310543</td>\n",
       "      <td>3.571570e+04</td>\n",
       "      <td>0.0</td>\n",
       "      <td>134617.728956</td>\n",
       "    </tr>\n",
       "    <tr>\n",
       "      <th>2025-05-12</th>\n",
       "      <td>40901.190935</td>\n",
       "      <td>26384.206368</td>\n",
       "      <td>31827.990063</td>\n",
       "      <td>3.571570e+04</td>\n",
       "      <td>0.0</td>\n",
       "      <td>134829.087434</td>\n",
       "    </tr>\n",
       "    <tr>\n",
       "      <th>2025-05-13</th>\n",
       "      <td>40772.318372</td>\n",
       "      <td>26651.493332</td>\n",
       "      <td>31839.418161</td>\n",
       "      <td>3.571570e+04</td>\n",
       "      <td>0.0</td>\n",
       "      <td>134978.929933</td>\n",
       "    </tr>\n",
       "    <tr>\n",
       "      <th>2025-05-14</th>\n",
       "      <td>40580.245736</td>\n",
       "      <td>26843.358263</td>\n",
       "      <td>31798.129549</td>\n",
       "      <td>3.571570e+04</td>\n",
       "      <td>0.0</td>\n",
       "      <td>134937.433616</td>\n",
       "    </tr>\n",
       "    <tr>\n",
       "      <th>2025-05-15</th>\n",
       "      <td>41377.167342</td>\n",
       "      <td>27419.905418</td>\n",
       "      <td>31793.705769</td>\n",
       "      <td>3.571570e+04</td>\n",
       "      <td>0.0</td>\n",
       "      <td>136306.478597</td>\n",
       "    </tr>\n",
       "  </tbody>\n",
       "</table>\n",
       "<p>330 rows × 6 columns</p>\n",
       "</div>"
      ],
      "text/plain": [
       "            Crypto_Returns  Stocks_Returns  Nexus_Returns     Tiet_Kiem  Cash  \\\n",
       "Date                                                                            \n",
       "2024-06-20   103714.305660        0.000000       0.000000  1.109113e-11   0.0   \n",
       "2024-06-21   103748.171393        0.000000       0.000000  1.109113e-11   0.0   \n",
       "2024-06-22   108277.929455        0.000000       0.000000  1.109113e-11   0.0   \n",
       "2024-06-23   107392.284182        0.000000       0.000000  1.109113e-11   0.0   \n",
       "2024-06-24   106587.389196        0.000000       0.000000  1.109113e-11   0.0   \n",
       "...                    ...             ...            ...           ...   ...   \n",
       "2025-05-11    40190.562239    27018.156106   31693.310543  3.571570e+04   0.0   \n",
       "2025-05-12    40901.190935    26384.206368   31827.990063  3.571570e+04   0.0   \n",
       "2025-05-13    40772.318372    26651.493332   31839.418161  3.571570e+04   0.0   \n",
       "2025-05-14    40580.245736    26843.358263   31798.129549  3.571570e+04   0.0   \n",
       "2025-05-15    41377.167342    27419.905418   31793.705769  3.571570e+04   0.0   \n",
       "\n",
       "              Total_Value  \n",
       "Date                       \n",
       "2024-06-20  103714.305660  \n",
       "2024-06-21  103748.171393  \n",
       "2024-06-22  108277.929455  \n",
       "2024-06-23  107392.284182  \n",
       "2024-06-24  106587.389196  \n",
       "...                   ...  \n",
       "2025-05-11  134617.728956  \n",
       "2025-05-12  134829.087434  \n",
       "2025-05-13  134978.929933  \n",
       "2025-05-14  134937.433616  \n",
       "2025-05-15  136306.478597  \n",
       "\n",
       "[330 rows x 6 columns]"
      ]
     },
     "execution_count": 40,
     "metadata": {},
     "output_type": "execute_result"
    }
   ],
   "source": [
    "dynamic_portfolio_history"
   ]
  },
  {
   "cell_type": "markdown",
   "id": "b73c4571-4320-48e4-b537-70239a6a6e36",
   "metadata": {},
   "source": [
    "## 6.3 So sánh với một chiến lược đầu tư đơn giản"
   ]
  },
  {
   "cell_type": "markdown",
   "id": "2d53cadc-2397-4958-a3d5-419fce41b54e",
   "metadata": {},
   "source": [
    "Để xác định xem chiến lược tối ưu hóa có thực sự hiệu quả không, ta sẽ mô phỏng một chiến lược đơn giản(ta sẽ so sánh nó với một chiến lược cơ sở). Ở đây, ta sẽ dùng chiến lược \"Mua và Giữ\" (Buy and Hold) với tỷ trọng chia đều cho 3 tài sản rủi ro."
   ]
  },
  {
   "cell_type": "code",
   "execution_count": 41,
   "id": "e408c605-ffc7-4ebd-9897-c642243ca6bd",
   "metadata": {
    "execution": {
     "iopub.execute_input": "2025-07-28T07:17:10.652320Z",
     "iopub.status.busy": "2025-07-28T07:17:10.652080Z",
     "iopub.status.idle": "2025-07-28T07:17:10.669963Z",
     "shell.execute_reply": "2025-07-28T07:17:10.669278Z",
     "shell.execute_reply.started": "2025-07-28T07:17:10.652303Z"
    },
    "trusted": true
   },
   "outputs": [
    {
     "name": "stdout",
     "output_type": "stream",
     "text": [
      "📊 Đang mô phỏng chiến lược so sánh (Buy and Hold)...\n",
      "✅ Mô phỏng chiến lược so sánh hoàn tất!\n"
     ]
    }
   ],
   "source": [
    "print(\"📊 Đang mô phỏng chiến lược so sánh (Buy and Hold)...\")\n",
    "risky_asset_names = ['Crypto_Returns', 'Stocks_Returns', 'Nexus_Returns']\n",
    "\n",
    "# Phân bổ đều vốn ban đầu cho 3 tài sản rủi ro\n",
    "initial_benchmark_allocations = (initial_capital / 3) * pd.Series([1,1,1], index=risky_asset_names)\n",
    "\n",
    "# Lấy dữ liệu của 90 ngày\n",
    "benchmark_period_data = daily_log_returns_test.head(n_months * days_in_month)\n",
    "\n",
    "# Tính hệ số tăng trưởng cộng dồn trong 90 ngày\n",
    "benchmark_cumulative_growth = np.exp(benchmark_period_data[risky_asset_names].cumsum())\n",
    "\n",
    "# Tính giá trị danh mục từng ngày\n",
    "benchmark_history = initial_benchmark_allocations * benchmark_cumulative_growth\n",
    "\n",
    "# SỬA LỖI: Gán lại index của benchmark_history thành ngày tháng để khớp với\n",
    "# dynamic_portfolio_history.\n",
    "benchmark_history.index = benchmark_period_data['Time']\n",
    "\n",
    "# Tính tổng giá trị\n",
    "benchmark_history['Total_Value'] = benchmark_history.sum(axis=1)\n",
    "\n",
    "print(\"✅ Mô phỏng chiến lược so sánh hoàn tất!\")"
   ]
  },
  {
   "cell_type": "code",
   "execution_count": 42,
   "id": "dd1e4ad7-2de1-454f-a058-c7a903794514",
   "metadata": {
    "execution": {
     "iopub.execute_input": "2025-07-28T07:17:10.671080Z",
     "iopub.status.busy": "2025-07-28T07:17:10.670819Z",
     "iopub.status.idle": "2025-07-28T07:17:10.688818Z",
     "shell.execute_reply": "2025-07-28T07:17:10.688133Z",
     "shell.execute_reply.started": "2025-07-28T07:17:10.671058Z"
    },
    "trusted": true
   },
   "outputs": [
    {
     "name": "stdout",
     "output_type": "stream",
     "text": [
      "==================================================\n",
      "     KẾT QUẢ SAU 11 THÁNG ĐẦU TƯ\n",
      "==================================================\n",
      "\n",
      "--- Chiến lược Tối ưu hóa (Dynamic Strategy) ---\n",
      "Giá trị cuối cùng : 136,306.48\n",
      "Lời/Lỗ            : 36,306.48 (36.31%)\n",
      "\n",
      "--- Chiến lược Mua và Giữ (Benchmark) ---\n",
      "Giá trị cuối cùng : 129,732.22\n",
      "Lời/Lỗ            : 29,732.22 (29.73%)\n",
      "\n",
      "--- Nhận xét ---\n",
      "🏆 Chúc mừng! Chiến lược của bạn đã hoạt động hiệu quả hơn so với chiến lược mua và giữ đơn giản.\n"
     ]
    }
   ],
   "source": [
    "results_df = pd.DataFrame({\n",
    "    'Dynamic_Strategy': dynamic_portfolio_history['Total_Value'],\n",
    "    'Buy_and_Hold_Benchmark': benchmark_history['Total_Value']\n",
    "})\n",
    "\n",
    "# Lấy giá trị cuối cùng\n",
    "final_value_dynamic = results_df['Dynamic_Strategy'].iloc[-1]\n",
    "final_value_benchmark = results_df['Buy_and_Hold_Benchmark'].iloc[-1]\n",
    "\n",
    "# Tính toán Lời/Lỗ\n",
    "pnl_dynamic = final_value_dynamic - initial_capital\n",
    "pnl_benchmark = final_value_benchmark - initial_capital\n",
    "\n",
    "# Tính % tăng trưởng\n",
    "g_dynamic = (pnl_dynamic / initial_capital) * 100\n",
    "g_benchmark = (pnl_benchmark / initial_capital) * 100\n",
    "\n",
    "print(\"=\"*50)\n",
    "print(f\"     KẾT QUẢ SAU {n_months_to_backtest} THÁNG ĐẦU TƯ\")\n",
    "print(\"=\"*50)\n",
    "\n",
    "print(\"\\n--- Chiến lược Tối ưu hóa (Dynamic Strategy) ---\")\n",
    "print(f\"Giá trị cuối cùng : {final_value_dynamic:,.2f}\")\n",
    "print(f\"Lời/Lỗ            : {pnl_dynamic:,.2f} ({g_dynamic:.2f}%)\")\n",
    "\n",
    "print(\"\\n--- Chiến lược Mua và Giữ (Benchmark) ---\")\n",
    "print(f\"Giá trị cuối cùng : {final_value_benchmark:,.2f}\")\n",
    "print(f\"Lời/Lỗ            : {pnl_benchmark:,.2f} ({g_benchmark:.2f}%)\")\n",
    "\n",
    "print(\"\\n--- Nhận xét ---\")\n",
    "if pnl_dynamic > pnl_benchmark:\n",
    "    print(\"🏆 Chúc mừng! Chiến lược của bạn đã hoạt động hiệu quả hơn so với chiến lược mua và giữ đơn giản.\")\n",
    "else:\n",
    "    print(\"🤔 Chiến lược của bạn chưa hiệu quả bằng. Cần xem xét lại các tham số hoặc mô hình.\")"
   ]
  },
  {
   "cell_type": "code",
   "execution_count": 43,
   "id": "e785d64b-cdd1-4f54-9f16-710097e061f5",
   "metadata": {
    "execution": {
     "iopub.execute_input": "2025-07-28T07:17:10.689655Z",
     "iopub.status.busy": "2025-07-28T07:17:10.689432Z",
     "iopub.status.idle": "2025-07-28T07:17:11.455321Z",
     "shell.execute_reply": "2025-07-28T07:17:11.454562Z",
     "shell.execute_reply.started": "2025-07-28T07:17:10.689639Z"
    },
    "trusted": true
   },
   "outputs": [
    {
     "name": "stdout",
     "output_type": "stream",
     "text": [
      "\n",
      "Biểu đồ so sánh hiệu suất đã được lưu với tên performance_comparison.png\n"
     ]
    },
    {
     "data": {
      "image/png": "[encoded data removed]",
      "text/plain": [
       "<Figure size 1200x700 with 1 Axes>"
      ]
     },
     "metadata": {},
     "output_type": "display_data"
    }
   ],
   "source": [
    "fig, ax = plt.subplots(figsize=(12, 7))\n",
    "\n",
    "# Vẽ đường biểu diễn giá trị của 2 danh mục\n",
    "ax.plot(results_df.index, results_df['Dynamic_Strategy'], label='Chien luoc toi uu hoa', color='blue', linewidth=2)\n",
    "ax.plot(results_df.index, results_df['Buy_and_Hold_Benchmark'], label='Chien luoc mua va giu', color='gray', linestyle='--')\n",
    "\n",
    "# Định dạng biểu đồ\n",
    "ax.set_title('Hieu Xuat Danh Muc Dau Tu Theo Thoi Gian', fontsize=16)\n",
    "ax.set_ylabel('Tong gia tri danh muc', fontsize=12)\n",
    "ax.set_xlabel('Ngay', fontsize=12)\n",
    "ax.yaxis.set_major_formatter(mtick.FuncFormatter(lambda x, p: f'{x:,.0f}'))\n",
    "ax.legend(fontsize=12)\n",
    "plt.xticks(rotation=30)\n",
    "plt.tight_layout()\n",
    "\n",
    "# Lưu biểu đồ\n",
    "plt.savefig(\"performance_comparison.png\")\n",
    "print(\"\\nBiểu đồ so sánh hiệu suất đã được lưu với tên performance_comparison.png\")"
   ]
  },
  {
   "cell_type": "markdown",
   "id": "f947dd3b-81d9-41df-904d-571496f4d1c7",
   "metadata": {},
   "source": [
    "## 6.4 Cơ cấu đóng góp của các loại tài sản qua từng giai đoạn"
   ]
  },
  {
   "cell_type": "code",
   "execution_count": 44,
   "id": "52dd8c74-c0e3-4deb-bbbe-60962a1c36dc",
   "metadata": {
    "execution": {
     "iopub.execute_input": "2025-07-28T07:17:11.456984Z",
     "iopub.status.busy": "2025-07-28T07:17:11.456427Z",
     "iopub.status.idle": "2025-07-28T07:17:14.090284Z",
     "shell.execute_reply": "2025-07-28T07:17:14.089526Z",
     "shell.execute_reply.started": "2025-07-28T07:17:11.456959Z"
    },
    "trusted": true
   },
   "outputs": [
    {
     "name": "stdout",
     "output_type": "stream",
     "text": [
      "📊 Đang tạo biểu đồ chi tiết hiệu suất từng tài sản...\n",
      "\n",
      "✅ Biểu đồ chi tiết đã được lưu với tên individual_asset_performance.png\n"
     ]
    },
    {
     "data": {
      "image/png": "[encoded data removed]",
      "text/plain": [
       "<Figure size 1600x1000 with 4 Axes>"
      ]
     },
     "metadata": {},
     "output_type": "display_data"
    }
   ],
   "source": [
    "# --- Thiết lập ---\n",
    "# Danh sách các tài sản muốn xem chi tiết\n",
    "assets_to_plot = ['Crypto_Returns', 'Stocks_Returns', 'Nexus_Returns', 'Tiet_Kiem']\n",
    "\n",
    "# Tạo một lưới biểu đồ 2x2\n",
    "fig, axes = plt.subplots(nrows=2, ncols=2, figsize=(16, 10), sharey=True)\n",
    "\n",
    "# \"Làm phẳng\" mảng axes để dễ lặp\n",
    "axes = axes.flatten()\n",
    "\n",
    "print(\"📊 Đang tạo biểu đồ chi tiết hiệu suất từng tài sản...\")\n",
    "\n",
    "# --- Lặp qua từng tài sản và vẽ biểu đồ tương ứng ---\n",
    "for i, asset in enumerate(assets_to_plot):\n",
    "    ax = axes[i]\n",
    "    \n",
    "    # Lấy dữ liệu của tài sản và vẽ đường biểu diễn giá trị\n",
    "    asset_data = dynamic_portfolio_history[asset]\n",
    "    ax.plot(asset_data.index, asset_data, color=f'C{i}')\n",
    "    \n",
    "    # Lấp đầy vùng dưới đường line để dễ nhìn hơn\n",
    "    ax.fill_between(asset_data.index, asset_data, alpha=0.1, color=f'C{i}')\n",
    "    \n",
    "    # --- Định dạng cho từng biểu đồ con ---\n",
    "    # Bỏ đi phần \"_Returns\" trong tên cho gọn\n",
    "    clean_asset_name = asset.replace(\"_Returns\", \"\")\n",
    "    ax.set_title(f\"Hiệu suất của: {clean_asset_name}\", fontsize=14)\n",
    "    ax.set_ylabel(\"Giá trị\", fontsize=10)\n",
    "    ax.yaxis.set_major_formatter(mtick.FuncFormatter(lambda x, p: f'{x:,.0f}'))\n",
    "    \n",
    "    # Xoay nhãn ngày tháng\n",
    "    for label in ax.get_xticklabels():\n",
    "        label.set_rotation(30)\n",
    "        label.set_ha('right')\n",
    "\n",
    "# --- Định dạng chung cho cả hình ---\n",
    "fig.suptitle('Phân tích Hiệu suất Chi tiết của Từng Tài sản trong Danh mục Tối ưu', fontsize=18, fontweight='bold')\n",
    "plt.tight_layout(rect=[0, 0, 1, 0.96]) # Điều chỉnh để tiêu đề chung không bị đè\n",
    "\n",
    "# Lưu biểu đồ\n",
    "plt.savefig(\"individual_asset_performance.png\")\n",
    "print(\"\\n✅ Biểu đồ chi tiết đã được lưu với tên individual_asset_performance.png\")\n",
    "\n",
    "plt.show()"
   ]
  },
  {
   "cell_type": "markdown",
   "id": "98336ba9-cc3c-4af6-af73-ff653b4fc4db",
   "metadata": {},
   "source": [
    "###### "
   ]
  }
 ],
 "metadata": {
  "kaggle": {
   "accelerator": "none",
   "dataSources": [
    {
     "datasetId": 7934968,
     "sourceId": 12565465,
     "sourceType": "datasetVersion"
    }
   ],
   "dockerImageVersionId": 31089,
   "isGpuEnabled": false,
   "isInternetEnabled": true,
   "language": "python",
   "sourceType": "notebook"
  },
  "kernelspec": {
   "display_name": "venv (3.10.11)",
   "language": "python",
   "name": "python3"
  },
  "language_info": {
   "codemirror_mode": {
    "name": "ipython",
    "version": 3
   },
   "file_extension": ".py",
   "mimetype": "text/x-python",
   "name": "python",
   "nbconvert_exporter": "python",
   "pygments_lexer": "ipython3",
   "version": "3.10.11"
  }
 },
 "nbformat": 4,
 "nbformat_minor": 5
}
