{
 "cells": [
  {
   "cell_type": "markdown",
   "id": "924f3eef",
   "metadata": {},
   "source": [
    "<div style=\"background: #f0f8ff; padding: 20px; border-left: 5px solid #3498db; border-radius: 10px; font-family: 'Segoe UI', sans-serif; text-align: center;\">\n",
    "\n",
    "<h2 style=\"color: #2c3e50; margin-bottom: 15px;\">\n",
    "  📘 Báo cáo phương pháp và kế hoạch triển khai chiến lược đầu tư\n",
    "</h2>\n",
    "\n",
    "<p style=\"font-size: 16px; line-height: 1.6; color: #34495e; display: inline-block; text-align: justify; max-width: 800px;\">\n",
    "  <strong>Mục tiêu:</strong> Xây dựng một chiến lược phân bổ vốn linh hoạt theo từng tháng (dưới dạng ma trận trọng số 12x4) nhằm tối đa hóa lợi nhuận đã điều chỉnh theo rủi ro cho danh mục 4 tài sản trong 12 tháng.\n",
    "</p>\n",
    "\n",
    "</div>\n"
   ]
  },
  {
   "cell_type": "code",
   "execution_count": 50,
   "id": "18362788",
   "metadata": {},
   "outputs": [],
   "source": [
    "import pandas as pd\n",
    "import numpy as np\n",
    "import matplotlib.pyplot as plt\n",
    "import seaborn as sns\n",
    "sns.set_style(\"whitegrid\")\n",
    "import warnings\n",
    "warnings.filterwarnings('ignore')\n",
    "\n",
    "import matplotlib.dates as mdates\n",
    "\n",
    "from sklearn.preprocessing import StandardScaler\n",
    "from scipy.optimize import minimize"
   ]
  },
  {
   "cell_type": "markdown",
   "id": "2398022e",
   "metadata": {},
   "source": [
    "### 1. Lý giải phương pháp luận: Tối ưu hóa danh mục đa kỳ (Multi-Period Optimization)\n",
    "\n",
    "#### **1.1. Vấn đề cốt lõi**\n",
    "Bài toán yêu cầu một chiến lược **linh hoạt**, tức là quyết định phân bổ vốn không phải là một quyết định duy nhất ban đầu mà được điều chỉnh định kỳ (đầu mỗi tháng). Mục tiêu không chỉ là lợi nhuận cao nhất mà còn phải cân bằng với rủi ro chấp nhận được.\n",
    "\n",
    "#### **1.2. Giải pháp đề xuất: Tối ưu hóa Trung bình-Phương sai (Mean-Variance Optimization - MVO) của Markowitz**\n",
    "Đây là phương pháp nền tảng và phù hợp nhất cho bài toán này vì:\n",
    "* **Giải quyết đúng mục tiêu**: MVO tập trung vào việc tìm kiếm danh mục đầu tư có **tỷ suất sinh lợi kỳ vọng cao nhất** cho một **mức rủi ro nhất định** (hoặc rủi ro thấp nhất cho một mức lợi nhuận nhất định). Điều này hoàn toàn khớp với mục tiêu cân bằng Lợi nhuận-Rủi ro của đề bài.\n",
    "* **Cung cấp quyết định định lượng**: Thay vì dựa vào cảm tính, MVO cung cấp một vector trọng số (`w`) được tính toán dựa trên các dữ liệu thống kê, giúp quyết định phân bổ vốn trở nên khách quan.\n",
    "* **Phù hợp với chiến lược đa kỳ**: Bằng cách áp dụng lặp lại thuật toán MVO vào đầu mỗi tháng với dữ liệu cập nhật, chúng ta có thể xây dựng được ma trận trọng số 12x4 một cách logic. Mỗi cột trong ma trận chính là kết quả của một bài toán tối ưu hóa tại một thời điểm.\n"
   ]
  },
  {
   "cell_type": "code",
   "execution_count": null,
   "id": "791c47e4",
   "metadata": {},
   "outputs": [],
   "source": []
  },
  {
   "cell_type": "markdown",
   "id": "4dcfadb2",
   "metadata": {},
   "source": [
    "### 2. Cấu trúc và Kế hoạch triển khai\n",
    "\n",
    "Mô hình sẽ được xây dựng dựa trên 3 module chính: **Dự báo**, **Tối ưu hóa**, và **Mô phỏng**.\n"
   ]
  },
  {
   "cell_type": "markdown",
   "id": "929d2d69",
   "metadata": {},
   "source": [
    "\n",
    "#### **Module 1: Module Dự báo (Forecasting)**\n",
    "*Mục đích: Ước tính các tham số cần thiết cho việc ra quyết định ở tháng tiếp theo.*\n"
   ]
  },
  {
   "cell_type": "markdown",
   "id": "0d365ab5",
   "metadata": {},
   "source": [
    "\n",
    "* **Công việc 1.1: `load_and_preprocess_data()`**\n",
    "    * **Mô tả**: Tải dữ liệu từ file `cleaned_data.csv`, đây là data đã được làm sạch qua các bước.\n",
    "    * **Xử lý Missing Values**: Áp dụng các phương pháp đã phân tích trong file `EDA.ipynb`, bao gồm:\n",
    "        * Điền giá trị ngày Thứ 6 cho các ngày cuối tuần bị thiếu.\n",
    "        * Sử dụng nội suy tuyến tính (linear interpolation) để điền các giá trị thiếu trong tuần."
   ]
  },
  {
   "cell_type": "code",
   "execution_count": 51,
   "id": "58717b30",
   "metadata": {},
   "outputs": [],
   "source": [
    "import os\n",
    "BASE_DIR = os.path.dirname(os.getcwd())\n",
    "dataset_path = os.path.join(BASE_DIR, 'data', 'cleaned_data.csv')\n",
    "\n",
    "# Load the dataset\n",
    "df = pd.read_csv(dataset_path,  encoding='utf-8', parse_dates=['Time'])"
   ]
  },
  {
   "cell_type": "code",
   "execution_count": 52,
   "id": "fad460f6",
   "metadata": {},
   "outputs": [
    {
     "name": "stdout",
     "output_type": "stream",
     "text": [
      "<class 'pandas.core.frame.DataFrame'>\n",
      "RangeIndex: 390 entries, 0 to 389\n",
      "Data columns (total 5 columns):\n",
      " #   Column                  Non-Null Count  Dtype         \n",
      "---  ------                  --------------  -----         \n",
      " 0   Time                    390 non-null    datetime64[ns]\n",
      " 1   Crypto                  390 non-null    float64       \n",
      " 2   Buying_Price_of_Nexus   390 non-null    float64       \n",
      " 3   Selling_Price_of_Nexus  390 non-null    float64       \n",
      " 4   Price_of_Stock          390 non-null    float64       \n",
      "dtypes: datetime64[ns](1), float64(4)\n",
      "memory usage: 15.4 KB\n"
     ]
    }
   ],
   "source": [
    "df.info()"
   ]
  },
  {
   "cell_type": "markdown",
   "id": "1710385c",
   "metadata": {},
   "source": [
    "---"
   ]
  },
  {
   "cell_type": "markdown",
   "id": "c4ab1609",
   "metadata": {},
   "source": [
    "* **Công việc 1.2: `calculate_log_returns(price_data)`**\n",
    "    * **Mô tả**: Tính toán chuỗi tỷ suất sinh lợi log hàng ngày cho các tài sản rủi ro (Crypto, Nexus, Stock). Đây là đầu vào cơ bản để đo lường lợi nhuận và rủi ro.\n"
   ]
  },
  {
   "cell_type": "code",
   "execution_count": 53,
   "id": "b19f5d86",
   "metadata": {},
   "outputs": [],
   "source": [
    "def calculate_log_returns(\n",
    "    df,\n",
    "    price_cols=['Crypto', 'Buying_Price_of_Nexus', 'Selling_Price_of_Nexus', 'Price_of_Stock'],\n",
    "    annualization_factors={\n",
    "        'Crypto': 365,\n",
    "        'Buying_Price_of_Nexus': 252,\n",
    "        'Price_of_Stock': 252\n",
    "    },\n",
    "    return_log_returns=False  # Cho phép trả thêm log returns nếu cần\n",
    "):\n",
    "    \"\"\"\n",
    "    Tính tỷ suất sinh lợi log và độ biến động hàng năm cho các cột giá.\n",
    "\n",
    "    Parameters:\n",
    "        df (pd.DataFrame): DataFrame chứa các cột giá.\n",
    "        price_cols (list): Danh sách các tên cột giá cần tính toán.\n",
    "        annualization_factors (dict): Từ điển ánh xạ tên cột -> hệ số quy đổi năm.\n",
    "        return_log_returns (bool): Nếu True thì trả thêm log return hàng ngày.\n",
    "\n",
    "    Returns:\n",
    "        dict: annualized volatility\n",
    "        (Optional) pd.DataFrame: log returns hàng ngày\n",
    "    \"\"\"\n",
    "    volatility_results = {}\n",
    "    log_returns_df = pd.DataFrame(index=df.index)  # NEW\n",
    "\n",
    "    print(\"--- Độ biến động (Volatility) ---\")\n",
    "    print(f\"Sử dụng hệ số: Crypto={annualization_factors.get('Crypto', 'N/A')}, \"\n",
    "          f\"Cổ phiếu/Nexus={annualization_factors.get('Price_of_Stock', 'N/A')}\\n\")\n",
    "\n",
    "    for col in price_cols:\n",
    "        log_returns = np.log(df[col] / df[col].shift(1))\n",
    "        log_returns_df[col] = log_returns  # NEW\n",
    "\n",
    "        daily_volatility = log_returns.std()\n",
    "        factor = annualization_factors.get(col, 252)\n",
    "        annualized_volatility = daily_volatility * np.sqrt(factor)\n",
    "\n",
    "        volatility_results[col] = annualized_volatility\n",
    "        print(f\"{col:<25}: {annualized_volatility:.2%}\")\n",
    "\n",
    "    if return_log_returns:\n",
    "        return volatility_results, log_returns_df  # Trả cả hai\n",
    "    else:\n",
    "        return volatility_results"
   ]
  },
  {
   "cell_type": "code",
   "execution_count": 54,
   "id": "dc26e3dc",
   "metadata": {},
   "outputs": [
    {
     "name": "stdout",
     "output_type": "stream",
     "text": [
      "--- Độ biến động (Volatility) ---\n",
      "Sử dụng hệ số: Crypto=365, Cổ phiếu/Nexus=252\n",
      "\n",
      "Crypto                   : 93.28%\n",
      "Buying_Price_of_Nexus    : 9.11%\n",
      "Selling_Price_of_Nexus   : 9.26%\n",
      "Price_of_Stock           : 33.04%\n"
     ]
    }
   ],
   "source": [
    "volatility = calculate_log_returns(df)"
   ]
  },
  {
   "cell_type": "markdown",
   "id": "d6024793",
   "metadata": {},
   "source": [
    "---"
   ]
  },
  {
   "cell_type": "markdown",
   "id": "fb0b9a25",
   "metadata": {},
   "source": [
    "* **Công việc 1.3: `forecast_monthly_params(data_window)`**\n",
    "    * **Mô tả**: Hàm này sẽ là trái tim của module dự báo. Nó nhận vào một \"cửa sổ\" dữ liệu lịch sử (ví dụ: 90 ngày gần nhất) và tính toán:\n",
    "        1.  **Vector lợi nhuận kỳ vọng tháng (μ)**: Bằng cách lấy trung bình của log return hàng ngày và nhân với 30.\n",
    "        2.  **Ma trận hiệp phương sai tháng (Σ)**: Tính toán ma trận hiệp phương sai của log return hàng ngày và nhân với 30. Ma trận này thể hiện rủi ro của từng tài sản và mối tương quan giữa chúng."
   ]
  },
  {
   "cell_type": "code",
   "execution_count": 55,
   "id": "b6379e25",
   "metadata": {},
   "outputs": [],
   "source": [
    "def forecast_monthly_params(data_window):\n",
    "    \"\"\"\n",
    "    Dự báo vector lợi nhuận kỳ vọng và ma trận hiệp phương sai cho tháng tiếp theo\n",
    "    dựa trên một cửa sổ dữ liệu lịch sử.\n",
    "\n",
    "    Parameters:\n",
    "        data_window (pd.DataFrame): DataFrame chứa dữ liệu giá lịch sử\n",
    "                                     cho một khoảng thời gian (ví dụ: 90 ngày).\n",
    "\n",
    "    Returns:\n",
    "        tuple: (mu, sigma)\n",
    "            - mu (pd.Series): Vector lợi nhuận kỳ vọng tháng của các tài sản.\n",
    "            - sigma (pd.DataFrame): Ma trận hiệp phương sai tháng của các tài sản.\n",
    "    \"\"\"\n",
    "    price_cols = ['Crypto', 'Buying_Price_of_Nexus', 'Selling_Price_of_Nexus' , 'Price_of_Stock']\n",
    "\n",
    "    # Gọi lại hàm calculate_log_returns để tận dụng phần tính toán log return\n",
    "    _, log_returns_daily = calculate_log_returns(\n",
    "        data_window,\n",
    "        price_cols=price_cols,\n",
    "        return_log_returns=True  # Rất quan trọng!\n",
    "    )\n",
    "\n",
    "    # Vector lợi nhuận kỳ vọng tháng\n",
    "    mu = log_returns_daily.mean() * 30\n",
    "\n",
    "    # Ma trận hiệp phương sai tháng\n",
    "    sigma = log_returns_daily.cov() * 30\n",
    "\n",
    "    return mu, sigma"
   ]
  },
  {
   "cell_type": "code",
   "execution_count": 56,
   "id": "036c7c2b",
   "metadata": {},
   "outputs": [
    {
     "name": "stdout",
     "output_type": "stream",
     "text": [
      "--- Độ biến động (Volatility) ---\n",
      "Sử dụng hệ số: Crypto=365, Cổ phiếu/Nexus=252\n",
      "\n",
      "Crypto                   : 95.45%\n",
      "Buying_Price_of_Nexus    : 9.93%\n",
      "Selling_Price_of_Nexus   : 10.03%\n",
      "Price_of_Stock           : 29.08%\n",
      "--- Vector Lợi nhuận kỳ vọng tháng (μ) ---\n"
     ]
    },
    {
     "data": {
      "text/plain": [
       "Crypto                    0.221304\n",
       "Buying_Price_of_Nexus    -0.002584\n",
       "Selling_Price_of_Nexus   -0.001958\n",
       "Price_of_Stock            0.036943\n",
       "dtype: float64"
      ]
     },
     "metadata": {},
     "output_type": "display_data"
    },
    {
     "name": "stdout",
     "output_type": "stream",
     "text": [
      "\n",
      "--- Ma trận Hiệp phương sai tháng (Σ) ---\n"
     ]
    },
    {
     "data": {
      "text/html": [
       "<div>\n",
       "<style scoped>\n",
       "    .dataframe tbody tr th:only-of-type {\n",
       "        vertical-align: middle;\n",
       "    }\n",
       "\n",
       "    .dataframe tbody tr th {\n",
       "        vertical-align: top;\n",
       "    }\n",
       "\n",
       "    .dataframe thead th {\n",
       "        text-align: right;\n",
       "    }\n",
       "</style>\n",
       "<table border=\"1\" class=\"dataframe\">\n",
       "  <thead>\n",
       "    <tr style=\"text-align: right;\">\n",
       "      <th></th>\n",
       "      <th>Crypto</th>\n",
       "      <th>Buying_Price_of_Nexus</th>\n",
       "      <th>Selling_Price_of_Nexus</th>\n",
       "      <th>Price_of_Stock</th>\n",
       "    </tr>\n",
       "  </thead>\n",
       "  <tbody>\n",
       "    <tr>\n",
       "      <th>Crypto</th>\n",
       "      <td>0.074875</td>\n",
       "      <td>0.001387</td>\n",
       "      <td>0.001220</td>\n",
       "      <td>0.000230</td>\n",
       "    </tr>\n",
       "    <tr>\n",
       "      <th>Buying_Price_of_Nexus</th>\n",
       "      <td>0.001387</td>\n",
       "      <td>0.001173</td>\n",
       "      <td>0.001159</td>\n",
       "      <td>0.000548</td>\n",
       "    </tr>\n",
       "    <tr>\n",
       "      <th>Selling_Price_of_Nexus</th>\n",
       "      <td>0.001220</td>\n",
       "      <td>0.001159</td>\n",
       "      <td>0.001198</td>\n",
       "      <td>0.000653</td>\n",
       "    </tr>\n",
       "    <tr>\n",
       "      <th>Price_of_Stock</th>\n",
       "      <td>0.000230</td>\n",
       "      <td>0.000548</td>\n",
       "      <td>0.000653</td>\n",
       "      <td>0.010065</td>\n",
       "    </tr>\n",
       "  </tbody>\n",
       "</table>\n",
       "</div>"
      ],
      "text/plain": [
       "                          Crypto  Buying_Price_of_Nexus  \\\n",
       "Crypto                  0.074875               0.001387   \n",
       "Buying_Price_of_Nexus   0.001387               0.001173   \n",
       "Selling_Price_of_Nexus  0.001220               0.001159   \n",
       "Price_of_Stock          0.000230               0.000548   \n",
       "\n",
       "                        Selling_Price_of_Nexus  Price_of_Stock  \n",
       "Crypto                                0.001220        0.000230  \n",
       "Buying_Price_of_Nexus                 0.001159        0.000548  \n",
       "Selling_Price_of_Nexus                0.001198        0.000653  \n",
       "Price_of_Stock                        0.000653        0.010065  "
      ]
     },
     "metadata": {},
     "output_type": "display_data"
    }
   ],
   "source": [
    "# Lấy ra cửa sổ dữ liệu 90 ngày cuối cùng để dự báo\n",
    "data_window_example = df.head(90)\n",
    "\n",
    "# Gọi hàm để lấy tham số dự báo\n",
    "mu_forecasted, sigma_forecasted = forecast_monthly_params(data_window_example, )\n",
    "\n",
    "# In kết quả\n",
    "print(\"--- Vector Lợi nhuận kỳ vọng tháng (μ) ---\")\n",
    "display(mu_forecasted)\n",
    "\n",
    "print(\"\\n--- Ma trận Hiệp phương sai tháng (Σ) ---\")\n",
    "display(sigma_forecasted)"
   ]
  },
  {
   "cell_type": "markdown",
   "id": "9300952c",
   "metadata": {},
   "source": [
    "---"
   ]
  },
  {
   "cell_type": "markdown",
   "id": "8b9163a0",
   "metadata": {},
   "source": [
    "\n",
    "#### **Module 2: Module Tối ưu hóa (Optimization)**\n",
    "*Mục đích: Tìm ra vector trọng số phân bổ vốn tối ưu cho mỗi tháng.*\n",
    "\n",
    "* **Công việc 2.1: `optimize_weights(mu, sigma, transaction_costs)`**\n",
    "    * **Mô tả**: Hàm này triển khai thuật toán Tối ưu hóa Markowitz.\n",
    "    * **Hàm mục tiêu**: Tối đa hóa **Tỷ lệ Sharpe** (`Lợi nhuận danh mục / Độ lệch chuẩn danh mục`). Việc này giúp tìm ra danh mục hiệu quả nhất trên mỗi đơn vị rủi ro.\n",
    "    * **Ràng buộc**:\n",
    "        * Tổng các trọng số (`w_i`) phải bằng 1.\n",
    "        * Mỗi trọng số phải lớn hơn hoặc bằng 0 (không bán khống).\n",
    "        * Chi phí giao dịch (0.15% cho Crypto/Stock, chênh lệch giá mua-bán cho Nexus) sẽ được tích hợp để điều chỉnh lợi nhuận kỳ vọng."
   ]
  },
  {
   "cell_type": "code",
   "execution_count": 57,
   "id": "54e3ad1b",
   "metadata": {},
   "outputs": [],
   "source": [
    "def optimize_weights(mu, sigma, risk_free_rate=0.075/12):\n",
    "    \"\"\"\n",
    "    Tìm ra vector trọng số tối ưu để tối đa hóa Tỷ lệ Sharpe, dựa trên\n",
    "    lợi nhuận kỳ vọng (mu), ma trận hiệp phương sai (sigma), và lãi suất phi rủi ro.\n",
    "\n",
    "    Parameters:\n",
    "        mu (pd.Series): Vector lợi nhuận kỳ vọng tháng của các tài sản.\n",
    "        sigma (pd.DataFrame): Ma trận hiệp phương sai tháng của các tài sản.\n",
    "        risk_free_rate (float): Lãi suất phi rủi ro hàng tháng. Mặc định là 7.5%/năm.\n",
    "\n",
    "    Returns:\n",
    "        np.array: Vector trọng số tối ưu cho danh mục.\n",
    "    \"\"\"\n",
    "    num_assets = len(mu)\n",
    "\n",
    "    # Hàm mục tiêu: Tối thiểu hóa ÂM của Tỷ lệ Sharpe\n",
    "    # Sharpe Ratio = (Lợi nhuận danh mục - Lãi suất phi rủi ro) / Độ biến động danh mục\n",
    "    def negative_sharpe_ratio(weights):\n",
    "        portfolio_return = np.sum(mu * weights)\n",
    "        portfolio_volatility = np.sqrt(np.dot(weights.T, np.dot(sigma, weights)))\n",
    "        \n",
    "        sharpe_ratio = (portfolio_return - risk_free_rate) / portfolio_volatility\n",
    "        return -sharpe_ratio\n",
    "\n",
    "    # Ràng buộc và giới hạn cho các trọng số (weights)\n",
    "    # 1. Tổng các trọng số phải bằng 1 (phân bổ hết 100% vốn)\n",
    "    constraints = ({'type': 'eq', 'fun': lambda weights: np.sum(weights) - 1})\n",
    "\n",
    "    # 2. Mỗi trọng số phải nằm trong khoảng từ 0 đến 1 (không bán khống, không dùng đòn bẩy)\n",
    "    bounds = tuple((0.0, 1.0) for _ in range(num_assets))\n",
    "\n",
    "    # 3. Điểm khởi đầu cho thuật toán tối ưu hóa (ví dụ: phân bổ đều)\n",
    "    initial_weights = num_assets * [1. / num_assets]\n",
    "\n",
    "    # Chạy thuật toán tối ưu hóa (SLSQP là phương pháp phù hợp cho bài toán này)\n",
    "    result = minimize(\n",
    "        negative_sharpe_ratio,\n",
    "        initial_weights,\n",
    "        method='SLSQP',\n",
    "        bounds=bounds,\n",
    "        constraints=constraints\n",
    "    )\n",
    "    \n",
    "    return result.x # result.x chính là array chứa các trọng số tối ưu"
   ]
  },
  {
   "cell_type": "code",
   "execution_count": 58,
   "id": "70cb5394",
   "metadata": {},
   "outputs": [
    {
     "name": "stdout",
     "output_type": "stream",
     "text": [
      "--- Tỷ trọng phân bổ vốn tối ưu cho tháng tới ---\n",
      "                       Weight\n",
      "Crypto                 49.03%\n",
      "Buying_Price_of_Nexus   0.00%\n",
      "Price_of_Stock         50.97%\n",
      "\n",
      "--- Hiệu suất kỳ vọng của danh mục tối ưu ---\n",
      "Lợi nhuận kỳ vọng tháng: 12.73%\n",
      "Độ biến động (rủi ro) tháng: 14.40%\n",
      "Tỷ lệ Sharpe kỳ vọng: 0.84\n"
     ]
    }
   ],
   "source": [
    "# Lãi suất phi rủi ro hàng tháng (từ 7.5% APR)\n",
    "# Có thể điều chỉnh kỳ hạn k vào đây nếu cần, ví dụ: risk_free_rate = (1 + 0.075/12)**k -1\n",
    "monthly_risk_free_rate = 0.075 / 12 \n",
    "\n",
    "# Bỏ cột Selling_Price_of_Nexus vì nó tương quan rất cao với Buying_Price\n",
    "# và ta chỉ cần một đại diện cho Nexus\n",
    "mu_for_opt = mu_forecasted.drop('Selling_Price_of_Nexus')\n",
    "sigma_for_opt = sigma_forecasted.drop(columns='Selling_Price_of_Nexus').drop('Selling_Price_of_Nexus')\n",
    "\n",
    "\n",
    "# Gọi hàm tối ưu hóa\n",
    "optimal_weights = optimize_weights(mu_for_opt, sigma_for_opt, monthly_risk_free_rate)\n",
    "\n",
    "# In kết quả trọng số tối ưu\n",
    "print(\"--- Tỷ trọng phân bổ vốn tối ưu cho tháng tới ---\")\n",
    "optimal_df = pd.DataFrame(data={'Weight': optimal_weights}, index=mu_for_opt.index)\n",
    "print((optimal_df * 100).round(2).to_string(float_format=\"%.2f%%\"))\n",
    "\n",
    "\n",
    "# (Tùy chọn) In ra hiệu suất kỳ vọng của danh mục tối ưu này\n",
    "expected_return = np.sum(mu_for_opt * optimal_weights)\n",
    "expected_volatility = np.sqrt(np.dot(optimal_weights.T, np.dot(sigma_for_opt, optimal_weights)))\n",
    "expected_sharpe = (expected_return - monthly_risk_free_rate) / expected_volatility\n",
    "\n",
    "print(\"\\n--- Hiệu suất kỳ vọng của danh mục tối ưu ---\")\n",
    "print(f\"Lợi nhuận kỳ vọng tháng: {expected_return:.2%}\")\n",
    "print(f\"Độ biến động (rủi ro) tháng: {expected_volatility:.2%}\")\n",
    "print(f\"Tỷ lệ Sharpe kỳ vọng: {expected_sharpe:.2f}\")"
   ]
  },
  {
   "cell_type": "markdown",
   "id": "bb8605f2",
   "metadata": {},
   "source": [
    "---"
   ]
  },
  {
   "cell_type": "markdown",
   "id": "f9aa0c32",
   "metadata": {},
   "source": [
    "#### Module 3"
   ]
  },
  {
   "cell_type": "code",
   "execution_count": 59,
   "id": "ffeaf433",
   "metadata": {},
   "outputs": [],
   "source": [
    "def run_backtest(\n",
    "    historical_df,\n",
    "    initial_capital,\n",
    "    forecast_func,\n",
    "    optimizer_func,\n",
    "    train_window_size=60,\n",
    "    test_months=12,\n",
    "    days_per_month=30\n",
    "):\n",
    "    \"\"\"\n",
    "    Thực hiện kiểm thử quá khứ (backtesting) theo phương pháp cửa sổ trượt.\n",
    "\n",
    "    Parameters:\n",
    "        historical_df (pd.DataFrame): Toàn bộ dữ liệu lịch sử đã được làm sạch.\n",
    "        initial_capital (float): Vốn ban đầu.\n",
    "        forecast_func (function): Hàm dự báo (forecast_monthly_params).\n",
    "        optimizer_func (function): Hàm tối ưu hóa (optimize_weights).\n",
    "        train_window_size (int): Kích thước cửa sổ ban đầu để training.\n",
    "        test_months (int): Số tháng cần kiểm thử.\n",
    "    \n",
    "    Returns:\n",
    "        tuple: (capital_history, weights_history)\n",
    "            - capital_history (pd.Series): Lịch sử giá trị danh mục qua từng tháng.\n",
    "            - weights_history (pd.DataFrame): Lịch sử trọng số danh mục qua từng tháng.\n",
    "    \"\"\"\n",
    "    capital = initial_capital\n",
    "    \n",
    "    # Giả định bắt đầu bằng tiền mặt, nên trọng số ban đầu là 0\n",
    "    # Cột 'Time' đã được set làm index\n",
    "    price_cols = ['Crypto', 'Buying_Price_of_Nexus', 'Price_of_Stock']\n",
    "    current_weights = np.array([0.0] * len(price_cols))\n",
    "    \n",
    "    # Chi phí giao dịch (giả định cho Nexus là 0, sẽ xử lý sau)\n",
    "    transaction_costs = {'Crypto': 0.0015, 'Price_of_Stock': 0.0015, 'Buying_Price_of_Nexus': 0}\n",
    "    \n",
    "    # Lists để lưu lịch sử\n",
    "    capital_history = [initial_capital]\n",
    "    weights_history = [current_weights]\n",
    "    dates_history = [historical_df.index[train_window_size -1]]\n",
    "\n",
    "    # Vòng lặp chính qua 12 tháng\n",
    "    for month in range(test_months):\n",
    "        train_end_index = train_window_size + month * days_per_month\n",
    "        test_end_index = train_end_index + days_per_month\n",
    "\n",
    "        if test_end_index > len(historical_df):\n",
    "            print(f\"Dữ liệu không đủ để kiểm thử tháng {month + 1}. Dừng lại.\")\n",
    "            break\n",
    "            \n",
    "        # 1. Lấy cửa sổ dữ liệu để dự báo\n",
    "        train_window = historical_df.iloc[:train_end_index]\n",
    "        \n",
    "        # 2. Dự báo và Tối ưu hóa\n",
    "        mu, sigma = forecast_func(train_window)\n",
    "        # Bỏ cột Selling_Price nếu có\n",
    "        if 'Selling_Price_of_Nexus' in mu.index:\n",
    "            mu = mu.drop('Selling_Price_of_Nexus')\n",
    "            sigma = sigma.drop(columns='Selling_Price_of_Nexus').drop('Selling_Price_of_Nexus')\n",
    "\n",
    "        target_weights = optimizer_func(mu, sigma)\n",
    "        \n",
    "        # 3. Tính toán hiệu suất và chi phí\n",
    "        # Chi phí giao dịch = tổng chi phí mua và bán\n",
    "        weights_change = np.abs(target_weights - current_weights)\n",
    "        cost_rate_vector = np.array([transaction_costs.get(col, 0) for col in price_cols])\n",
    "        total_transaction_cost = np.sum(weights_change * capital * cost_rate_vector)\n",
    "        \n",
    "        capital_after_rebalance = capital - total_transaction_cost\n",
    "        \n",
    "        # Lợi nhuận thực tế trong tháng\n",
    "        test_window = historical_df.iloc[train_end_index:test_end_index]\n",
    "        # Lợi nhuận của từng tài sản trong tháng\n",
    "        asset_returns = (test_window[price_cols].iloc[-1] / test_window[price_cols].iloc[0]) - 1\n",
    "        # Lợi nhuận danh mục\n",
    "        portfolio_return_month = np.sum(asset_returns * target_weights)\n",
    "        \n",
    "        # 4. Cập nhật vốn và lưu lịch sử\n",
    "        capital = capital_after_rebalance * (1 + portfolio_return_month)\n",
    "        current_weights = target_weights\n",
    "        \n",
    "        capital_history.append(capital)\n",
    "        weights_history.append(current_weights)\n",
    "        dates_history.append(test_window.index[-1])\n",
    "\n",
    "    # Chuyển thành DataFrame/Series để dễ phân tích\n",
    "    capital_history = pd.Series(data=capital_history, index=dates_history)\n",
    "    weights_history = pd.DataFrame(data=weights_history, index=dates_history, columns=price_cols)\n",
    "    \n",
    "    return capital_history, weights_history"
   ]
  },
  {
   "cell_type": "code",
   "execution_count": 60,
   "id": "83e7d88a",
   "metadata": {},
   "outputs": [
    {
     "name": "stdout",
     "output_type": "stream",
     "text": [
      "--- Độ biến động (Volatility) ---\n",
      "Sử dụng hệ số: Crypto=365, Cổ phiếu/Nexus=252\n",
      "\n",
      "Crypto                   : 94.21%\n",
      "Buying_Price_of_Nexus    : 11.10%\n",
      "Selling_Price_of_Nexus   : 11.01%\n",
      "Price_of_Stock           : 32.74%\n",
      "--- Độ biến động (Volatility) ---\n",
      "Sử dụng hệ số: Crypto=365, Cổ phiếu/Nexus=252\n",
      "\n",
      "Crypto                   : 95.45%\n",
      "Buying_Price_of_Nexus    : 9.93%\n",
      "Selling_Price_of_Nexus   : 10.03%\n",
      "Price_of_Stock           : 29.08%\n",
      "--- Độ biến động (Volatility) ---\n",
      "Sử dụng hệ số: Crypto=365, Cổ phiếu/Nexus=252\n",
      "\n",
      "Crypto                   : 103.74%\n",
      "Buying_Price_of_Nexus    : 9.91%\n",
      "Selling_Price_of_Nexus   : 9.93%\n",
      "Price_of_Stock           : 27.86%\n",
      "--- Độ biến động (Volatility) ---\n",
      "Sử dụng hệ số: Crypto=365, Cổ phiếu/Nexus=252\n",
      "\n",
      "Crypto                   : 111.29%\n",
      "Buying_Price_of_Nexus    : 9.62%\n",
      "Selling_Price_of_Nexus   : 9.68%\n",
      "Price_of_Stock           : 30.07%\n",
      "--- Độ biến động (Volatility) ---\n",
      "Sử dụng hệ số: Crypto=365, Cổ phiếu/Nexus=252\n",
      "\n",
      "Crypto                   : 116.06%\n",
      "Buying_Price_of_Nexus    : 9.81%\n",
      "Selling_Price_of_Nexus   : 9.94%\n",
      "Price_of_Stock           : 31.23%\n",
      "--- Độ biến động (Volatility) ---\n",
      "Sử dụng hệ số: Crypto=365, Cổ phiếu/Nexus=252\n",
      "\n",
      "Crypto                   : 112.33%\n",
      "Buying_Price_of_Nexus    : 9.69%\n",
      "Selling_Price_of_Nexus   : 9.85%\n",
      "Price_of_Stock           : 31.33%\n",
      "--- Độ biến động (Volatility) ---\n",
      "Sử dụng hệ số: Crypto=365, Cổ phiếu/Nexus=252\n",
      "\n",
      "Crypto                   : 109.89%\n",
      "Buying_Price_of_Nexus    : 9.42%\n",
      "Selling_Price_of_Nexus   : 9.61%\n",
      "Price_of_Stock           : 32.34%\n",
      "--- Độ biến động (Volatility) ---\n",
      "Sử dụng hệ số: Crypto=365, Cổ phiếu/Nexus=252\n",
      "\n",
      "Crypto                   : 105.66%\n",
      "Buying_Price_of_Nexus    : 9.34%\n",
      "Selling_Price_of_Nexus   : 9.52%\n",
      "Price_of_Stock           : 33.51%\n",
      "--- Độ biến động (Volatility) ---\n",
      "Sử dụng hệ số: Crypto=365, Cổ phiếu/Nexus=252\n",
      "\n",
      "Crypto                   : 102.63%\n",
      "Buying_Price_of_Nexus    : 9.56%\n",
      "Selling_Price_of_Nexus   : 9.68%\n",
      "Price_of_Stock           : 32.81%\n",
      "--- Độ biến động (Volatility) ---\n",
      "Sử dụng hệ số: Crypto=365, Cổ phiếu/Nexus=252\n",
      "\n",
      "Crypto                   : 99.18%\n",
      "Buying_Price_of_Nexus    : 9.40%\n",
      "Selling_Price_of_Nexus   : 9.49%\n",
      "Price_of_Stock           : 32.44%\n",
      "--- Độ biến động (Volatility) ---\n",
      "Sử dụng hệ số: Crypto=365, Cổ phiếu/Nexus=252\n",
      "\n",
      "Crypto                   : 96.07%\n",
      "Buying_Price_of_Nexus    : 9.34%\n",
      "Selling_Price_of_Nexus   : 9.47%\n",
      "Price_of_Stock           : 32.53%\n",
      "Dữ liệu không đủ để kiểm thử tháng 12. Dừng lại.\n",
      "\n",
      "--- KẾT QUẢ KIỂM THỬ (BACKTESTING) ---\n",
      "Vốn ban đầu: 100,000 TMH\n",
      "Vốn cuối kỳ: 114,807 TMH\n",
      "Tổng lợi nhuận: 14.81%\n"
     ]
    },
    {
     "data": {
      "image/png": "[encoded data removed]",
      "text/plain": [
       "<Figure size 1600x1200 with 2 Axes>"
      ]
     },
     "metadata": {},
     "output_type": "display_data"
    },
    {
     "name": "stdout",
     "output_type": "stream",
     "text": [
      "\n",
      "--- Ma trận trọng số (Weights Matrix) ---\n"
     ]
    },
    {
     "data": {
      "text/plain": [
       "'            Crypto  Buying_Price_of_Nexus  Price_of_Stock\\n2024-07-18   0.00%                  0.00%           0.00%\\n2024-08-17 100.00%                  0.00%           0.00%\\n2024-09-16  49.03%                  0.00%          50.97%\\n2024-10-16  61.88%                  0.00%          38.12%\\n2024-11-15  41.57%                  0.00%          58.43%\\n2024-12-15  37.19%                  0.00%          62.81%\\n2025-01-14  21.46%                  0.00%          78.54%\\n2025-02-13  44.73%                  0.00%          55.27%\\n2025-03-15  33.45%                  0.00%          66.55%\\n2025-04-14 100.00%                  0.00%           0.00%\\n2025-05-14 100.00%                  0.00%           0.00%\\n2025-06-13 100.00%                  0.00%           0.00%'"
      ]
     },
     "metadata": {},
     "output_type": "display_data"
    }
   ],
   "source": [
    "# Chạy mô phỏng\n",
    "initial_capital = 100000\n",
    "capital_over_time, weights_over_time = run_backtest(\n",
    "    historical_df=df.set_index('Time'), # Đảm bảo Time là index\n",
    "    initial_capital=initial_capital,\n",
    "    forecast_func=forecast_monthly_params,\n",
    "    optimizer_func=optimize_weights\n",
    ")\n",
    "\n",
    "# In kết quả cuối cùng\n",
    "print(\"\\n--- KẾT QUẢ KIỂM THỬ (BACKTESTING) ---\")\n",
    "print(f\"Vốn ban đầu: {initial_capital:,.0f} TMH\")\n",
    "print(f\"Vốn cuối kỳ: {capital_over_time.iloc[-1]:,.0f} TMH\")\n",
    "print(f\"Tổng lợi nhuận: {(capital_over_time.iloc[-1]/initial_capital - 1):.2%}\")\n",
    "\n",
    "# Trực quan hóa kết quả\n",
    "fig, axes = plt.subplots(nrows=2, ncols=1, figsize=(16, 12), sharex=True, gridspec_kw={'height_ratios': [3, 1]})\n",
    "\n",
    "# Biểu đồ 1: Giá trị danh mục theo thời gian\n",
    "axes[0].plot(capital_over_time.index, capital_over_time, marker='o', linestyle='-')\n",
    "axes[0].set_title('Hiệu suất danh mục đầu tư theo thời gian', fontsize=16)\n",
    "axes[0].set_ylabel('Tổng giá trị tài sản (TMH)')\n",
    "axes[0].grid(True)\n",
    "\n",
    "# Biểu đồ 2: Sự thay đổi trọng số phân bổ\n",
    "weights_over_time.plot(kind='area', ax=axes[1], stacked=True)\n",
    "axes[1].set_title('Sự thay đổi trong phân bổ tài sản', fontsize=14)\n",
    "axes[1].set_ylabel('Tỷ trọng (%)')\n",
    "axes[1].set_xlabel('Thời gian')\n",
    "axes[1].set_yticklabels(['{:.0%}'.format(x) for x in axes[1].get_yticks()])\n",
    "\n",
    "plt.tight_layout()\n",
    "plt.show()\n",
    "\n",
    "# In ra ma trận trọng số 12x4 (thực tế là 13x3 hoặc 12x3 tùy cách bạn chạy)\n",
    "print(\"\\n--- Ma trận trọng số (Weights Matrix) ---\")\n",
    "display((weights_over_time.round(4) * 100).to_string(float_format=\"%.2f%%\"))"
   ]
  },
  {
   "cell_type": "markdown",
   "id": "c6c6595c",
   "metadata": {},
   "source": [
    "\n",
    "#### **Module 4: Module Mô phỏng & Kiểm thử (Simulation & Backtesting)**\n",
    "*Mục đích: \"Chạy\" chiến lược đầu tư qua 12 tháng để đánh giá hiệu quả.*\n",
    "\n",
    "* **Công việc 3.1: `generate_price_scenario()`**\n",
    "    * **Mô tả**: Sử dụng mô hình **Geometric Brownian Motion (GBM)** từ file `scenario.ipynb` để tạo ra một chuỗi giá giả định cho 12 tháng tới. Điều này cho phép chúng ta kiểm thử chiến lược trên một kịch bản tương lai khả dĩ.\n",
    "* **Công việc 3.2: `run_monthly_rebalancing_simulation(initial_capital, price_scenario)`**\n",
    "    * **Mô tả**: Đây là hàm chính, thực hiện một vòng lặp trong 12 tháng. Tại **đầu mỗi tháng t**:\n",
    "        1.  Lấy dữ liệu lịch sử đến thời điểm `t`.\n",
    "        2.  Gọi hàm `forecast_monthly_params()` để lấy `μ` và `Σ` cho tháng `t`.\n",
    "        3.  Gọi hàm `optimize_weights()` để tìm ra vector trọng số tối ưu `w_t`.\n",
    "        4.  Lưu `w_t` vào ma trận kết quả.\n",
    "        5.  Tính toán lợi nhuận thực tế trong tháng `t` dựa trên `price_scenario` và `w_t`, có trừ đi chi phí giao dịch.\n",
    "        6.  Cập nhật tổng vốn và chuyển sang tháng `t+1`.\n"
   ]
  },
  {
   "cell_type": "code",
   "execution_count": null,
   "id": "93bdee52",
   "metadata": {},
   "outputs": [],
   "source": []
  },
  {
   "cell_type": "markdown",
   "id": "cc6927bb",
   "metadata": {},
   "source": [
    "### 3. Cải tiến trong tương lai (Sau khi hoàn thành sườn chính)\n",
    "\n",
    "1. Sau khi mô hình cơ sở hoạt động, chúng ta có thể tích hợp các quy tắc quản lý rủi ro nâng cao hơn:\n",
    "\n",
    "    * **Cắt lỗ (Stop-loss)**: Trong vòng lặp của `run_monthly_rebalancing_simulation`, thay vì chỉ tính lợi nhuận cuối tháng, ta có thể kiểm tra giá hàng ngày. Nếu một tài sản giảm quá `x%`, hệ thống sẽ tự động bán và chuyển vốn về tiền mặt.\n",
    "    * **Chốt lời (Take-profit)**: Tương tự, nếu tài sản đạt mức lợi nhuận kỳ vọng, có thể bán để hiện thực hóa lợi nhuận.\n",
    "\n",
    "\n",
    "2. **Nâng cấp mô hình dự báo**: Sau khi có mô hình cơ sở, bạn có thể cải tiến bằng cách:\n",
    "    * Thay thế việc tính phương sai/hiệp phương sai lịch sử bằng **mô hình GARCH** để có dự báo rủi ro `Σ` tốt hơn.\n",
    "    * Thay thế việc tính lợi nhuận trung bình bằng **mô hình ARIMA** để có dự báo lợi nhuận `μ` tốt hơn.\n",
    "\n",
    "3. **So sánh hiệu quả**: So sánh kết quả của chiến lược sau khi nâng cấp \n",
    "    * (ví dụ: Markowitz + GARCH) với mô hình cơ sở để xem việc sử dụng các mô hình dự báo phức tạp hơn có thực sự cải thiện hiệu suất đầu tư hay không.\n",
    "\n",
    "Tóm lại, **Markowitz** là khung sườn để ra quyết định phân bổ, còn **ARIMA, GARCH, LightGBM** là các công cụ để giúp quyết định đó trở nên chính xác hơn."
   ]
  },
  {
   "cell_type": "markdown",
   "id": "8e5b1691",
   "metadata": {},
   "source": []
  }
 ],
 "metadata": {
  "kernelspec": {
   "display_name": "venv",
   "language": "python",
   "name": "python3"
  },
  "language_info": {
   "codemirror_mode": {
    "name": "ipython",
    "version": 3
   },
   "file_extension": ".py",
   "mimetype": "text/x-python",
   "name": "python",
   "nbconvert_exporter": "python",
   "pygments_lexer": "ipython3",
   "version": "3.13.5"
  }
 },
 "nbformat": 4,
 "nbformat_minor": 5
}
