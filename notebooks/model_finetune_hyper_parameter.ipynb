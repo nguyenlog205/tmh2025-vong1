{
 "cells": [
  {
   "cell_type": "markdown",
   "metadata": {},
   "source": [
    "<div style=\"background: #f0f8ff; padding: 20px; border-left: 5px solid #3498db; border-radius: 10px; font-family: 'Segoe UI', sans-serif; text-align: center;\">\n",
    "\n",
    "<h2 style=\"color: #2c3e50; margin-bottom: 15px;\">\n",
    "  📘 Báo cáo phương pháp và kế hoạch triển khai chiến lược đầu tư\n",
    "</h2>\n",
    "\n",
    "<p style=\"font-size: 16px; line-height: 1.6; color: #34495e; display: inline-block; text-align: justify; max-width: 800px;\">\n",
    "  <strong>Mục tiêu:</strong> Xây dựng một chiến lược phân bổ vốn linh hoạt theo từng tháng (dưới dạng ma trận trọng số x4) nhằm tối đa hóa lợi nhuận đã điều chỉnh theo rủi ro cho danh mục 4 tài sản trong n tháng.\n",
    "</p>\n",
    "\n",
    "</div>\n"
   ]
  },
  {
   "cell_type": "code",
   "execution_count": 2,
   "metadata": {
    "execution": {
     "iopub.execute_input": "2025-07-28T04:30:31.071316Z",
     "iopub.status.busy": "2025-07-28T04:30:31.071026Z",
     "iopub.status.idle": "2025-07-28T04:30:37.331769Z",
     "shell.execute_reply": "2025-07-28T04:30:37.330961Z",
     "shell.execute_reply.started": "2025-07-28T04:30:31.071285Z"
    },
    "trusted": true
   },
   "outputs": [],
   "source": [
    "# pip install arch pmdarima"
   ]
  },
  {
   "cell_type": "code",
   "execution_count": 5,
   "metadata": {
    "execution": {
     "iopub.execute_input": "2025-07-28T04:30:37.334028Z",
     "iopub.status.busy": "2025-07-28T04:30:37.333750Z",
     "iopub.status.idle": "2025-07-28T04:30:42.449863Z",
     "shell.execute_reply": "2025-07-28T04:30:42.448842Z",
     "shell.execute_reply.started": "2025-07-28T04:30:37.334001Z"
    },
    "trusted": true
   },
   "outputs": [],
   "source": [
    "import pandas as pd\n",
    "import numpy as np\n",
    "import matplotlib.pyplot as plt\n",
    "import matplotlib.dates as mdates\n",
    "import matplotlib.ticker as mtick\n",
    "import seaborn as sns\n",
    "import os\n",
    "sns.set_style(\"whitegrid\")\n",
    "\n",
    "from sklearn.preprocessing import StandardScaler\n",
    "from scipy.optimize import minimize\n",
    "\n",
    "from statsmodels.tsa.arima.model import ARIMA\n",
    "from statsmodels.graphics.tsaplots import plot_acf, plot_pacf\n",
    "from statsmodels.tsa.stattools import adfuller\n",
    "from statsmodels.stats.diagnostic import het_arch\n",
    "from arch import arch_model\n",
    "# from pmdarima import auto_arima\n",
    "# import pmdarima as pm\n",
    "\n",
    "\n",
    "from arch.univariate.base import ARCHModelResult\n",
    "import copy\n",
    "from tqdm import tqdm\n",
    "import warnings\n",
    "warnings.filterwarnings('ignore')"
   ]
  },
  {
   "cell_type": "markdown",
   "metadata": {},
   "source": [
    "# 1. Load Cleaned Dataset"
   ]
  },
  {
   "cell_type": "code",
   "execution_count": 8,
   "metadata": {
    "execution": {
     "iopub.execute_input": "2025-07-28T04:30:42.451324Z",
     "iopub.status.busy": "2025-07-28T04:30:42.450706Z",
     "iopub.status.idle": "2025-07-28T04:30:42.477062Z",
     "shell.execute_reply": "2025-07-28T04:30:42.476265Z",
     "shell.execute_reply.started": "2025-07-28T04:30:42.451295Z"
    },
    "trusted": true
   },
   "outputs": [
    {
     "ename": "FileNotFoundError",
     "evalue": "[Errno 2] No such file or directory: 'd:\\\\Git\\\\ToanMoHinh\\\\tmh2025-vong1\\\\notebooks\\\\cleaned_data.csv'",
     "output_type": "error",
     "traceback": [
      "\u001b[1;31m---------------------------------------------------------------------------\u001b[0m",
      "\u001b[1;31mFileNotFoundError\u001b[0m                         Traceback (most recent call last)",
      "Cell \u001b[1;32mIn[8], line 4\u001b[0m\n\u001b[0;32m      1\u001b[0m BASE_DIR \u001b[38;5;241m=\u001b[39m os\u001b[38;5;241m.\u001b[39mgetcwd()  \u001b[38;5;66;03m# Không lấy dirname nữa\u001b[39;00m\n\u001b[0;32m      2\u001b[0m dataset_path \u001b[38;5;241m=\u001b[39m os\u001b[38;5;241m.\u001b[39mpath\u001b[38;5;241m.\u001b[39mjoin(BASE_DIR, \u001b[38;5;124m'\u001b[39m\u001b[38;5;124mcleaned_data.csv\u001b[39m\u001b[38;5;124m'\u001b[39m)\n\u001b[1;32m----> 4\u001b[0m data \u001b[38;5;241m=\u001b[39m \u001b[43mpd\u001b[49m\u001b[38;5;241;43m.\u001b[39;49m\u001b[43mread_csv\u001b[49m\u001b[43m(\u001b[49m\u001b[43mdataset_path\u001b[49m\u001b[43m,\u001b[49m\u001b[43m \u001b[49m\u001b[43mencoding\u001b[49m\u001b[38;5;241;43m=\u001b[39;49m\u001b[38;5;124;43m'\u001b[39;49m\u001b[38;5;124;43mutf-8\u001b[39;49m\u001b[38;5;124;43m'\u001b[39;49m\u001b[43m,\u001b[49m\u001b[43m \u001b[49m\u001b[43mparse_dates\u001b[49m\u001b[38;5;241;43m=\u001b[39;49m\u001b[43m[\u001b[49m\u001b[38;5;124;43m'\u001b[39;49m\u001b[38;5;124;43mTime\u001b[39;49m\u001b[38;5;124;43m'\u001b[39;49m\u001b[43m]\u001b[49m\u001b[43m)\u001b[49m\n",
      "File \u001b[1;32md:\\Git\\ToanMoHinh\\tmh2025-vong1\\venv\\lib\\site-packages\\pandas\\io\\parsers\\readers.py:1026\u001b[0m, in \u001b[0;36mread_csv\u001b[1;34m(filepath_or_buffer, sep, delimiter, header, names, index_col, usecols, dtype, engine, converters, true_values, false_values, skipinitialspace, skiprows, skipfooter, nrows, na_values, keep_default_na, na_filter, verbose, skip_blank_lines, parse_dates, infer_datetime_format, keep_date_col, date_parser, date_format, dayfirst, cache_dates, iterator, chunksize, compression, thousands, decimal, lineterminator, quotechar, quoting, doublequote, escapechar, comment, encoding, encoding_errors, dialect, on_bad_lines, delim_whitespace, low_memory, memory_map, float_precision, storage_options, dtype_backend)\u001b[0m\n\u001b[0;32m   1013\u001b[0m kwds_defaults \u001b[38;5;241m=\u001b[39m _refine_defaults_read(\n\u001b[0;32m   1014\u001b[0m     dialect,\n\u001b[0;32m   1015\u001b[0m     delimiter,\n\u001b[1;32m   (...)\u001b[0m\n\u001b[0;32m   1022\u001b[0m     dtype_backend\u001b[38;5;241m=\u001b[39mdtype_backend,\n\u001b[0;32m   1023\u001b[0m )\n\u001b[0;32m   1024\u001b[0m kwds\u001b[38;5;241m.\u001b[39mupdate(kwds_defaults)\n\u001b[1;32m-> 1026\u001b[0m \u001b[38;5;28;01mreturn\u001b[39;00m \u001b[43m_read\u001b[49m\u001b[43m(\u001b[49m\u001b[43mfilepath_or_buffer\u001b[49m\u001b[43m,\u001b[49m\u001b[43m \u001b[49m\u001b[43mkwds\u001b[49m\u001b[43m)\u001b[49m\n",
      "File \u001b[1;32md:\\Git\\ToanMoHinh\\tmh2025-vong1\\venv\\lib\\site-packages\\pandas\\io\\parsers\\readers.py:620\u001b[0m, in \u001b[0;36m_read\u001b[1;34m(filepath_or_buffer, kwds)\u001b[0m\n\u001b[0;32m    617\u001b[0m _validate_names(kwds\u001b[38;5;241m.\u001b[39mget(\u001b[38;5;124m\"\u001b[39m\u001b[38;5;124mnames\u001b[39m\u001b[38;5;124m\"\u001b[39m, \u001b[38;5;28;01mNone\u001b[39;00m))\n\u001b[0;32m    619\u001b[0m \u001b[38;5;66;03m# Create the parser.\u001b[39;00m\n\u001b[1;32m--> 620\u001b[0m parser \u001b[38;5;241m=\u001b[39m TextFileReader(filepath_or_buffer, \u001b[38;5;241m*\u001b[39m\u001b[38;5;241m*\u001b[39mkwds)\n\u001b[0;32m    622\u001b[0m \u001b[38;5;28;01mif\u001b[39;00m chunksize \u001b[38;5;129;01mor\u001b[39;00m iterator:\n\u001b[0;32m    623\u001b[0m     \u001b[38;5;28;01mreturn\u001b[39;00m parser\n",
      "File \u001b[1;32md:\\Git\\ToanMoHinh\\tmh2025-vong1\\venv\\lib\\site-packages\\pandas\\io\\parsers\\readers.py:1620\u001b[0m, in \u001b[0;36mTextFileReader.__init__\u001b[1;34m(self, f, engine, **kwds)\u001b[0m\n\u001b[0;32m   1617\u001b[0m     \u001b[38;5;28mself\u001b[39m\u001b[38;5;241m.\u001b[39moptions[\u001b[38;5;124m\"\u001b[39m\u001b[38;5;124mhas_index_names\u001b[39m\u001b[38;5;124m\"\u001b[39m] \u001b[38;5;241m=\u001b[39m kwds[\u001b[38;5;124m\"\u001b[39m\u001b[38;5;124mhas_index_names\u001b[39m\u001b[38;5;124m\"\u001b[39m]\n\u001b[0;32m   1619\u001b[0m \u001b[38;5;28mself\u001b[39m\u001b[38;5;241m.\u001b[39mhandles: IOHandles \u001b[38;5;241m|\u001b[39m \u001b[38;5;28;01mNone\u001b[39;00m \u001b[38;5;241m=\u001b[39m \u001b[38;5;28;01mNone\u001b[39;00m\n\u001b[1;32m-> 1620\u001b[0m \u001b[38;5;28mself\u001b[39m\u001b[38;5;241m.\u001b[39m_engine \u001b[38;5;241m=\u001b[39m \u001b[38;5;28;43mself\u001b[39;49m\u001b[38;5;241;43m.\u001b[39;49m\u001b[43m_make_engine\u001b[49m\u001b[43m(\u001b[49m\u001b[43mf\u001b[49m\u001b[43m,\u001b[49m\u001b[43m \u001b[49m\u001b[38;5;28;43mself\u001b[39;49m\u001b[38;5;241;43m.\u001b[39;49m\u001b[43mengine\u001b[49m\u001b[43m)\u001b[49m\n",
      "File \u001b[1;32md:\\Git\\ToanMoHinh\\tmh2025-vong1\\venv\\lib\\site-packages\\pandas\\io\\parsers\\readers.py:1880\u001b[0m, in \u001b[0;36mTextFileReader._make_engine\u001b[1;34m(self, f, engine)\u001b[0m\n\u001b[0;32m   1878\u001b[0m     \u001b[38;5;28;01mif\u001b[39;00m \u001b[38;5;124m\"\u001b[39m\u001b[38;5;124mb\u001b[39m\u001b[38;5;124m\"\u001b[39m \u001b[38;5;129;01mnot\u001b[39;00m \u001b[38;5;129;01min\u001b[39;00m mode:\n\u001b[0;32m   1879\u001b[0m         mode \u001b[38;5;241m+\u001b[39m\u001b[38;5;241m=\u001b[39m \u001b[38;5;124m\"\u001b[39m\u001b[38;5;124mb\u001b[39m\u001b[38;5;124m\"\u001b[39m\n\u001b[1;32m-> 1880\u001b[0m \u001b[38;5;28mself\u001b[39m\u001b[38;5;241m.\u001b[39mhandles \u001b[38;5;241m=\u001b[39m \u001b[43mget_handle\u001b[49m\u001b[43m(\u001b[49m\n\u001b[0;32m   1881\u001b[0m \u001b[43m    \u001b[49m\u001b[43mf\u001b[49m\u001b[43m,\u001b[49m\n\u001b[0;32m   1882\u001b[0m \u001b[43m    \u001b[49m\u001b[43mmode\u001b[49m\u001b[43m,\u001b[49m\n\u001b[0;32m   1883\u001b[0m \u001b[43m    \u001b[49m\u001b[43mencoding\u001b[49m\u001b[38;5;241;43m=\u001b[39;49m\u001b[38;5;28;43mself\u001b[39;49m\u001b[38;5;241;43m.\u001b[39;49m\u001b[43moptions\u001b[49m\u001b[38;5;241;43m.\u001b[39;49m\u001b[43mget\u001b[49m\u001b[43m(\u001b[49m\u001b[38;5;124;43m\"\u001b[39;49m\u001b[38;5;124;43mencoding\u001b[39;49m\u001b[38;5;124;43m\"\u001b[39;49m\u001b[43m,\u001b[49m\u001b[43m \u001b[49m\u001b[38;5;28;43;01mNone\u001b[39;49;00m\u001b[43m)\u001b[49m\u001b[43m,\u001b[49m\n\u001b[0;32m   1884\u001b[0m \u001b[43m    \u001b[49m\u001b[43mcompression\u001b[49m\u001b[38;5;241;43m=\u001b[39;49m\u001b[38;5;28;43mself\u001b[39;49m\u001b[38;5;241;43m.\u001b[39;49m\u001b[43moptions\u001b[49m\u001b[38;5;241;43m.\u001b[39;49m\u001b[43mget\u001b[49m\u001b[43m(\u001b[49m\u001b[38;5;124;43m\"\u001b[39;49m\u001b[38;5;124;43mcompression\u001b[39;49m\u001b[38;5;124;43m\"\u001b[39;49m\u001b[43m,\u001b[49m\u001b[43m \u001b[49m\u001b[38;5;28;43;01mNone\u001b[39;49;00m\u001b[43m)\u001b[49m\u001b[43m,\u001b[49m\n\u001b[0;32m   1885\u001b[0m \u001b[43m    \u001b[49m\u001b[43mmemory_map\u001b[49m\u001b[38;5;241;43m=\u001b[39;49m\u001b[38;5;28;43mself\u001b[39;49m\u001b[38;5;241;43m.\u001b[39;49m\u001b[43moptions\u001b[49m\u001b[38;5;241;43m.\u001b[39;49m\u001b[43mget\u001b[49m\u001b[43m(\u001b[49m\u001b[38;5;124;43m\"\u001b[39;49m\u001b[38;5;124;43mmemory_map\u001b[39;49m\u001b[38;5;124;43m\"\u001b[39;49m\u001b[43m,\u001b[49m\u001b[43m \u001b[49m\u001b[38;5;28;43;01mFalse\u001b[39;49;00m\u001b[43m)\u001b[49m\u001b[43m,\u001b[49m\n\u001b[0;32m   1886\u001b[0m \u001b[43m    \u001b[49m\u001b[43mis_text\u001b[49m\u001b[38;5;241;43m=\u001b[39;49m\u001b[43mis_text\u001b[49m\u001b[43m,\u001b[49m\n\u001b[0;32m   1887\u001b[0m \u001b[43m    \u001b[49m\u001b[43merrors\u001b[49m\u001b[38;5;241;43m=\u001b[39;49m\u001b[38;5;28;43mself\u001b[39;49m\u001b[38;5;241;43m.\u001b[39;49m\u001b[43moptions\u001b[49m\u001b[38;5;241;43m.\u001b[39;49m\u001b[43mget\u001b[49m\u001b[43m(\u001b[49m\u001b[38;5;124;43m\"\u001b[39;49m\u001b[38;5;124;43mencoding_errors\u001b[39;49m\u001b[38;5;124;43m\"\u001b[39;49m\u001b[43m,\u001b[49m\u001b[43m \u001b[49m\u001b[38;5;124;43m\"\u001b[39;49m\u001b[38;5;124;43mstrict\u001b[39;49m\u001b[38;5;124;43m\"\u001b[39;49m\u001b[43m)\u001b[49m\u001b[43m,\u001b[49m\n\u001b[0;32m   1888\u001b[0m \u001b[43m    \u001b[49m\u001b[43mstorage_options\u001b[49m\u001b[38;5;241;43m=\u001b[39;49m\u001b[38;5;28;43mself\u001b[39;49m\u001b[38;5;241;43m.\u001b[39;49m\u001b[43moptions\u001b[49m\u001b[38;5;241;43m.\u001b[39;49m\u001b[43mget\u001b[49m\u001b[43m(\u001b[49m\u001b[38;5;124;43m\"\u001b[39;49m\u001b[38;5;124;43mstorage_options\u001b[39;49m\u001b[38;5;124;43m\"\u001b[39;49m\u001b[43m,\u001b[49m\u001b[43m \u001b[49m\u001b[38;5;28;43;01mNone\u001b[39;49;00m\u001b[43m)\u001b[49m\u001b[43m,\u001b[49m\n\u001b[0;32m   1889\u001b[0m \u001b[43m\u001b[49m\u001b[43m)\u001b[49m\n\u001b[0;32m   1890\u001b[0m \u001b[38;5;28;01massert\u001b[39;00m \u001b[38;5;28mself\u001b[39m\u001b[38;5;241m.\u001b[39mhandles \u001b[38;5;129;01mis\u001b[39;00m \u001b[38;5;129;01mnot\u001b[39;00m \u001b[38;5;28;01mNone\u001b[39;00m\n\u001b[0;32m   1891\u001b[0m f \u001b[38;5;241m=\u001b[39m \u001b[38;5;28mself\u001b[39m\u001b[38;5;241m.\u001b[39mhandles\u001b[38;5;241m.\u001b[39mhandle\n",
      "File \u001b[1;32md:\\Git\\ToanMoHinh\\tmh2025-vong1\\venv\\lib\\site-packages\\pandas\\io\\common.py:882\u001b[0m, in \u001b[0;36mget_handle\u001b[1;34m(path_or_buf, mode, encoding, compression, memory_map, is_text, errors, storage_options)\u001b[0m\n\u001b[0;32m    873\u001b[0m         handle \u001b[38;5;241m=\u001b[39m \u001b[38;5;28mopen\u001b[39m(\n\u001b[0;32m    874\u001b[0m             handle,\n\u001b[0;32m    875\u001b[0m             ioargs\u001b[38;5;241m.\u001b[39mmode,\n\u001b[1;32m   (...)\u001b[0m\n\u001b[0;32m    878\u001b[0m             newline\u001b[38;5;241m=\u001b[39m\u001b[38;5;124m\"\u001b[39m\u001b[38;5;124m\"\u001b[39m,\n\u001b[0;32m    879\u001b[0m         )\n\u001b[0;32m    880\u001b[0m     \u001b[38;5;28;01melse\u001b[39;00m:\n\u001b[0;32m    881\u001b[0m         \u001b[38;5;66;03m# Binary mode\u001b[39;00m\n\u001b[1;32m--> 882\u001b[0m         handle \u001b[38;5;241m=\u001b[39m \u001b[38;5;28;43mopen\u001b[39;49m\u001b[43m(\u001b[49m\u001b[43mhandle\u001b[49m\u001b[43m,\u001b[49m\u001b[43m \u001b[49m\u001b[43mioargs\u001b[49m\u001b[38;5;241;43m.\u001b[39;49m\u001b[43mmode\u001b[49m\u001b[43m)\u001b[49m\n\u001b[0;32m    883\u001b[0m     handles\u001b[38;5;241m.\u001b[39mappend(handle)\n\u001b[0;32m    885\u001b[0m \u001b[38;5;66;03m# Convert BytesIO or file objects passed with an encoding\u001b[39;00m\n",
      "\u001b[1;31mFileNotFoundError\u001b[0m: [Errno 2] No such file or directory: 'd:\\\\Git\\\\ToanMoHinh\\\\tmh2025-vong1\\\\notebooks\\\\cleaned_data.csv'"
     ]
    }
   ],
   "source": [
    "BASE_DIR = os.getcwd()  # Không lấy dirname nữa\n",
    "dataset_path = os.path.join(BASE_DIR, 'cleaned_data.csv')\n",
    "\n",
    "data = pd.read_csv(dataset_path, encoding='utf-8', parse_dates=['Time'])"
   ]
  },
  {
   "cell_type": "code",
   "execution_count": null,
   "metadata": {
    "execution": {
     "iopub.execute_input": "2025-07-28T04:30:42.478399Z",
     "iopub.status.busy": "2025-07-28T04:30:42.478093Z",
     "iopub.status.idle": "2025-07-28T04:30:42.504899Z",
     "shell.execute_reply": "2025-07-28T04:30:42.503925Z",
     "shell.execute_reply.started": "2025-07-28T04:30:42.478374Z"
    },
    "trusted": true
   },
   "outputs": [
    {
     "name": "stdout",
     "output_type": "stream",
     "text": [
      "<class 'pandas.core.frame.DataFrame'>\n",
      "RangeIndex: 390 entries, 0 to 389\n",
      "Data columns (total 5 columns):\n",
      " #   Column                  Non-Null Count  Dtype         \n",
      "---  ------                  --------------  -----         \n",
      " 0   Time                    390 non-null    datetime64[ns]\n",
      " 1   Crypto                  390 non-null    float64       \n",
      " 2   Buying_Price_of_Nexus   390 non-null    float64       \n",
      " 3   Selling_Price_of_Nexus  390 non-null    float64       \n",
      " 4   Price_of_Stock          390 non-null    float64       \n",
      "dtypes: datetime64[ns](1), float64(4)\n",
      "memory usage: 15.4 KB\n"
     ]
    }
   ],
   "source": [
    "data.info()"
   ]
  },
  {
   "cell_type": "code",
   "execution_count": null,
   "metadata": {
    "execution": {
     "iopub.execute_input": "2025-07-28T04:30:42.506454Z",
     "iopub.status.busy": "2025-07-28T04:30:42.506081Z",
     "iopub.status.idle": "2025-07-28T04:30:42.539956Z",
     "shell.execute_reply": "2025-07-28T04:30:42.539139Z",
     "shell.execute_reply.started": "2025-07-28T04:30:42.506405Z"
    },
    "trusted": true
   },
   "outputs": [
    {
     "data": {
      "text/html": [
       "<div>\n",
       "<style scoped>\n",
       "    .dataframe tbody tr th:only-of-type {\n",
       "        vertical-align: middle;\n",
       "    }\n",
       "\n",
       "    .dataframe tbody tr th {\n",
       "        vertical-align: top;\n",
       "    }\n",
       "\n",
       "    .dataframe thead th {\n",
       "        text-align: right;\n",
       "    }\n",
       "</style>\n",
       "<table border=\"1\" class=\"dataframe\">\n",
       "  <thead>\n",
       "    <tr style=\"text-align: right;\">\n",
       "      <th></th>\n",
       "      <th>Time</th>\n",
       "      <th>Crypto</th>\n",
       "      <th>Buying_Price_of_Nexus</th>\n",
       "      <th>Selling_Price_of_Nexus</th>\n",
       "      <th>Price_of_Stock</th>\n",
       "    </tr>\n",
       "  </thead>\n",
       "  <tbody>\n",
       "    <tr>\n",
       "      <th>0</th>\n",
       "      <td>2024-05-20</td>\n",
       "      <td>4174.950000</td>\n",
       "      <td>1270.30</td>\n",
       "      <td>1272.56</td>\n",
       "      <td>113.456685</td>\n",
       "    </tr>\n",
       "    <tr>\n",
       "      <th>1</th>\n",
       "      <td>2024-05-21</td>\n",
       "      <td>4340.316717</td>\n",
       "      <td>1272.75</td>\n",
       "      <td>1277.70</td>\n",
       "      <td>114.961755</td>\n",
       "    </tr>\n",
       "    <tr>\n",
       "      <th>2</th>\n",
       "      <td>2024-05-22</td>\n",
       "      <td>4331.770000</td>\n",
       "      <td>1285.15</td>\n",
       "      <td>1287.88</td>\n",
       "      <td>110.453726</td>\n",
       "    </tr>\n",
       "    <tr>\n",
       "      <th>3</th>\n",
       "      <td>2024-05-23</td>\n",
       "      <td>4360.513317</td>\n",
       "      <td>1295.80</td>\n",
       "      <td>1297.22</td>\n",
       "      <td>110.921833</td>\n",
       "    </tr>\n",
       "    <tr>\n",
       "      <th>4</th>\n",
       "      <td>2024-05-24</td>\n",
       "      <td>4354.308333</td>\n",
       "      <td>1292.90</td>\n",
       "      <td>1297.53</td>\n",
       "      <td>109.518120</td>\n",
       "    </tr>\n",
       "  </tbody>\n",
       "</table>\n",
       "</div>"
      ],
      "text/plain": [
       "        Time       Crypto  Buying_Price_of_Nexus  Selling_Price_of_Nexus  \\\n",
       "0 2024-05-20  4174.950000                1270.30                 1272.56   \n",
       "1 2024-05-21  4340.316717                1272.75                 1277.70   \n",
       "2 2024-05-22  4331.770000                1285.15                 1287.88   \n",
       "3 2024-05-23  4360.513317                1295.80                 1297.22   \n",
       "4 2024-05-24  4354.308333                1292.90                 1297.53   \n",
       "\n",
       "   Price_of_Stock  \n",
       "0      113.456685  \n",
       "1      114.961755  \n",
       "2      110.453726  \n",
       "3      110.921833  \n",
       "4      109.518120  "
      ]
     },
     "execution_count": 5,
     "metadata": {},
     "output_type": "execute_result"
    }
   ],
   "source": [
    "data.head()"
   ]
  },
  {
   "cell_type": "markdown",
   "metadata": {},
   "source": [
    "# 2. Chuẩn bị và Biến đổi Dữ liệu (Transform)"
   ]
  },
  {
   "cell_type": "code",
   "execution_count": null,
   "metadata": {
    "execution": {
     "iopub.execute_input": "2025-07-28T04:30:42.541640Z",
     "iopub.status.busy": "2025-07-28T04:30:42.540889Z",
     "iopub.status.idle": "2025-07-28T04:30:42.554860Z",
     "shell.execute_reply": "2025-07-28T04:30:42.553986Z",
     "shell.execute_reply.started": "2025-07-28T04:30:42.541610Z"
    },
    "trusted": true
   },
   "outputs": [
    {
     "name": "stdout",
     "output_type": "stream",
     "text": [
      "Hệ số tương quan giữa giá mua và giá bán là: 0.9995\n"
     ]
    }
   ],
   "source": [
    "correlation = data['Buying_Price_of_Nexus'].corr(data['Selling_Price_of_Nexus'])\n",
    "print(f\"Hệ số tương quan giữa giá mua và giá bán là: {correlation:.4f}\")"
   ]
  },
  {
   "cell_type": "code",
   "execution_count": null,
   "metadata": {
    "execution": {
     "iopub.execute_input": "2025-07-28T04:30:42.557655Z",
     "iopub.status.busy": "2025-07-28T04:30:42.557316Z",
     "iopub.status.idle": "2025-07-28T04:30:42.563271Z",
     "shell.execute_reply": "2025-07-28T04:30:42.562327Z",
     "shell.execute_reply.started": "2025-07-28T04:30:42.557633Z"
    },
    "trusted": true
   },
   "outputs": [
    {
     "name": "stdout",
     "output_type": "stream",
     "text": [
      "Vậy phí giao dịch của nexus trung bình là 0.003101658626783291\n"
     ]
    }
   ],
   "source": [
    "price_buy = data['Buying_Price_of_Nexus']\n",
    "price_sell = data['Selling_Price_of_Nexus']\n",
    "price_avg = (price_buy + price_sell) / 2\n",
    "\n",
    "avg_transaction_cost_nexus = ((price_sell - price_buy) / price_avg).mean()\n",
    "\n",
    "# Tính phí giao dịch trung bình toàn thị trường\n",
    "print(f\"Vậy phí giao dịch của nexus trung bình là {avg_transaction_cost_nexus}\")"
   ]
  },
  {
   "cell_type": "markdown",
   "metadata": {},
   "source": [
    "Để đơn giản các bước tính toán ta sẽ tạo cột `Average_Price_of_Nexus` là trung bình của `Buying_Price_of_Nexus` và `Selling_Price_of_Nexus`. Việc này là chấp nhận được vì thực tế 2 giá trị này có xu hướng biến thiên cùng nhau."
   ]
  },
  {
   "cell_type": "code",
   "execution_count": null,
   "metadata": {
    "execution": {
     "iopub.execute_input": "2025-07-28T04:30:42.564506Z",
     "iopub.status.busy": "2025-07-28T04:30:42.564164Z",
     "iopub.status.idle": "2025-07-28T04:30:42.586096Z",
     "shell.execute_reply": "2025-07-28T04:30:42.585230Z",
     "shell.execute_reply.started": "2025-07-28T04:30:42.564481Z"
    },
    "trusted": true
   },
   "outputs": [
    {
     "data": {
      "text/html": [
       "<div>\n",
       "<style scoped>\n",
       "    .dataframe tbody tr th:only-of-type {\n",
       "        vertical-align: middle;\n",
       "    }\n",
       "\n",
       "    .dataframe tbody tr th {\n",
       "        vertical-align: top;\n",
       "    }\n",
       "\n",
       "    .dataframe thead th {\n",
       "        text-align: right;\n",
       "    }\n",
       "</style>\n",
       "<table border=\"1\" class=\"dataframe\">\n",
       "  <thead>\n",
       "    <tr style=\"text-align: right;\">\n",
       "      <th></th>\n",
       "      <th>Time</th>\n",
       "      <th>Crypto</th>\n",
       "      <th>Price_of_Stock</th>\n",
       "      <th>Average_Price_of_Nexus</th>\n",
       "    </tr>\n",
       "  </thead>\n",
       "  <tbody>\n",
       "    <tr>\n",
       "      <th>0</th>\n",
       "      <td>2024-05-20</td>\n",
       "      <td>4174.950000</td>\n",
       "      <td>113.456685</td>\n",
       "      <td>1271.430</td>\n",
       "    </tr>\n",
       "    <tr>\n",
       "      <th>1</th>\n",
       "      <td>2024-05-21</td>\n",
       "      <td>4340.316717</td>\n",
       "      <td>114.961755</td>\n",
       "      <td>1275.225</td>\n",
       "    </tr>\n",
       "    <tr>\n",
       "      <th>2</th>\n",
       "      <td>2024-05-22</td>\n",
       "      <td>4331.770000</td>\n",
       "      <td>110.453726</td>\n",
       "      <td>1286.515</td>\n",
       "    </tr>\n",
       "    <tr>\n",
       "      <th>3</th>\n",
       "      <td>2024-05-23</td>\n",
       "      <td>4360.513317</td>\n",
       "      <td>110.921833</td>\n",
       "      <td>1296.510</td>\n",
       "    </tr>\n",
       "    <tr>\n",
       "      <th>4</th>\n",
       "      <td>2024-05-24</td>\n",
       "      <td>4354.308333</td>\n",
       "      <td>109.518120</td>\n",
       "      <td>1295.215</td>\n",
       "    </tr>\n",
       "  </tbody>\n",
       "</table>\n",
       "</div>"
      ],
      "text/plain": [
       "        Time       Crypto  Price_of_Stock  Average_Price_of_Nexus\n",
       "0 2024-05-20  4174.950000      113.456685                1271.430\n",
       "1 2024-05-21  4340.316717      114.961755                1275.225\n",
       "2 2024-05-22  4331.770000      110.453726                1286.515\n",
       "3 2024-05-23  4360.513317      110.921833                1296.510\n",
       "4 2024-05-24  4354.308333      109.518120                1295.215"
      ]
     },
     "execution_count": 8,
     "metadata": {},
     "output_type": "execute_result"
    }
   ],
   "source": [
    "# Tạo cột mới là trung bình và xóa 2 cột cũ\n",
    "data[\"Average_Price_of_Nexus\"] = (data[\"Buying_Price_of_Nexus\"] + data[\"Selling_Price_of_Nexus\"]) / 2\n",
    "data.drop([\"Buying_Price_of_Nexus\", \"Selling_Price_of_Nexus\"], axis=1, inplace=True)\n",
    "\n",
    "# Xem kết quả\n",
    "data.head()"
   ]
  },
  {
   "cell_type": "markdown",
   "metadata": {},
   "source": [
    "## 2.1 Tính Tỷ suất sinh lợi Logarit Hàng ngày (Daily Log Returns)"
   ]
  },
  {
   "cell_type": "markdown",
   "metadata": {},
   "source": [
    "Mô hình Markowitz không hoạt động trên giá mà trên tỷ suất sinh lợi (returns). Vì vậy, bước đầu tiên và quan trọng nhất là chuyển đổi dữ liệu giá thành tỷ suất sinh lợi hàng ngày.\n",
    "\n",
    "**Tính tỷ suất sinh lợi logarit hàng ngày (Daily Log Returns)**:\n",
    "Thay vì lợi nhuận phần trăm đơn giản, ta nên dùng lợi nhuận logarit.\n",
    "\n",
    "* Công thức: $r_t = \\log(P_t) - \\log(P_{t-1})$\n",
    "* **Lợi ích**: Gần với phân phối chuẩn hơn, dễ cộng dồn theo thời gian.\n",
    "\n",
    "Kết quả là chuỗi tỷ suất sinh lợi hàng ngày cho 3 tài sản: Tiết kiệm, Crypto, Cổ phiếu, Nexus."
   ]
  },
  {
   "cell_type": "code",
   "execution_count": null,
   "metadata": {
    "execution": {
     "iopub.execute_input": "2025-07-28T04:30:42.587364Z",
     "iopub.status.busy": "2025-07-28T04:30:42.587065Z",
     "iopub.status.idle": "2025-07-28T04:30:42.608296Z",
     "shell.execute_reply": "2025-07-28T04:30:42.607308Z",
     "shell.execute_reply.started": "2025-07-28T04:30:42.587343Z"
    },
    "trusted": true
   },
   "outputs": [],
   "source": [
    "# Tính log return hàng ngày\n",
    "daily_log_returns = np.log(data.drop(columns='Time') / data.drop(columns='Time').shift(1)).dropna()\n",
    "\n",
    "# Đổi tên cột cho dễ đọc\n",
    "daily_log_returns = daily_log_returns.rename(columns={\n",
    "    'Crypto': 'Crypto_Returns',\n",
    "    'Price_of_Stock': 'Stocks_Returns',\n",
    "    'Average_Price_of_Nexus': 'Nexus_Returns'\n",
    "})\n",
    "\n",
    "# Thêm lại cột thời gian tương ứng\n",
    "daily_log_returns = daily_log_returns.assign(Time=data['Time'].iloc[1:].values)"
   ]
  },
  {
   "cell_type": "code",
   "execution_count": null,
   "metadata": {
    "execution": {
     "iopub.execute_input": "2025-07-28T04:30:42.609594Z",
     "iopub.status.busy": "2025-07-28T04:30:42.609290Z",
     "iopub.status.idle": "2025-07-28T04:30:42.624165Z",
     "shell.execute_reply": "2025-07-28T04:30:42.623216Z",
     "shell.execute_reply.started": "2025-07-28T04:30:42.609566Z"
    },
    "trusted": true
   },
   "outputs": [
    {
     "data": {
      "text/html": [
       "<div>\n",
       "<style scoped>\n",
       "    .dataframe tbody tr th:only-of-type {\n",
       "        vertical-align: middle;\n",
       "    }\n",
       "\n",
       "    .dataframe tbody tr th {\n",
       "        vertical-align: top;\n",
       "    }\n",
       "\n",
       "    .dataframe thead th {\n",
       "        text-align: right;\n",
       "    }\n",
       "</style>\n",
       "<table border=\"1\" class=\"dataframe\">\n",
       "  <thead>\n",
       "    <tr style=\"text-align: right;\">\n",
       "      <th></th>\n",
       "      <th>Crypto_Returns</th>\n",
       "      <th>Stocks_Returns</th>\n",
       "      <th>Nexus_Returns</th>\n",
       "      <th>Time</th>\n",
       "    </tr>\n",
       "  </thead>\n",
       "  <tbody>\n",
       "    <tr>\n",
       "      <th>1</th>\n",
       "      <td>0.038845</td>\n",
       "      <td>0.013178</td>\n",
       "      <td>0.002980</td>\n",
       "      <td>2024-05-21</td>\n",
       "    </tr>\n",
       "    <tr>\n",
       "      <th>2</th>\n",
       "      <td>-0.001971</td>\n",
       "      <td>-0.040003</td>\n",
       "      <td>0.008814</td>\n",
       "      <td>2024-05-22</td>\n",
       "    </tr>\n",
       "    <tr>\n",
       "      <th>3</th>\n",
       "      <td>0.006614</td>\n",
       "      <td>0.004229</td>\n",
       "      <td>0.007739</td>\n",
       "      <td>2024-05-23</td>\n",
       "    </tr>\n",
       "    <tr>\n",
       "      <th>4</th>\n",
       "      <td>-0.001424</td>\n",
       "      <td>-0.012736</td>\n",
       "      <td>-0.000999</td>\n",
       "      <td>2024-05-24</td>\n",
       "    </tr>\n",
       "    <tr>\n",
       "      <th>5</th>\n",
       "      <td>-0.003510</td>\n",
       "      <td>0.000000</td>\n",
       "      <td>0.000000</td>\n",
       "      <td>2024-05-25</td>\n",
       "    </tr>\n",
       "    <tr>\n",
       "      <th>...</th>\n",
       "      <td>...</td>\n",
       "      <td>...</td>\n",
       "      <td>...</td>\n",
       "      <td>...</td>\n",
       "    </tr>\n",
       "    <tr>\n",
       "      <th>385</th>\n",
       "      <td>-0.003689</td>\n",
       "      <td>0.030113</td>\n",
       "      <td>0.005703</td>\n",
       "      <td>2025-06-09</td>\n",
       "    </tr>\n",
       "    <tr>\n",
       "      <th>386</th>\n",
       "      <td>0.008398</td>\n",
       "      <td>-0.015309</td>\n",
       "      <td>-0.002781</td>\n",
       "      <td>2025-06-10</td>\n",
       "    </tr>\n",
       "    <tr>\n",
       "      <th>387</th>\n",
       "      <td>0.026983</td>\n",
       "      <td>0.009929</td>\n",
       "      <td>0.001555</td>\n",
       "      <td>2025-06-11</td>\n",
       "    </tr>\n",
       "    <tr>\n",
       "      <th>388</th>\n",
       "      <td>0.003010</td>\n",
       "      <td>0.038140</td>\n",
       "      <td>-0.004197</td>\n",
       "      <td>2025-06-12</td>\n",
       "    </tr>\n",
       "    <tr>\n",
       "      <th>389</th>\n",
       "      <td>0.000573</td>\n",
       "      <td>0.027408</td>\n",
       "      <td>-0.001433</td>\n",
       "      <td>2025-06-13</td>\n",
       "    </tr>\n",
       "  </tbody>\n",
       "</table>\n",
       "<p>389 rows × 4 columns</p>\n",
       "</div>"
      ],
      "text/plain": [
       "     Crypto_Returns  Stocks_Returns  Nexus_Returns       Time\n",
       "1          0.038845        0.013178       0.002980 2024-05-21\n",
       "2         -0.001971       -0.040003       0.008814 2024-05-22\n",
       "3          0.006614        0.004229       0.007739 2024-05-23\n",
       "4         -0.001424       -0.012736      -0.000999 2024-05-24\n",
       "5         -0.003510        0.000000       0.000000 2024-05-25\n",
       "..              ...             ...            ...        ...\n",
       "385       -0.003689        0.030113       0.005703 2025-06-09\n",
       "386        0.008398       -0.015309      -0.002781 2025-06-10\n",
       "387        0.026983        0.009929       0.001555 2025-06-11\n",
       "388        0.003010        0.038140      -0.004197 2025-06-12\n",
       "389        0.000573        0.027408      -0.001433 2025-06-13\n",
       "\n",
       "[389 rows x 4 columns]"
      ]
     },
     "execution_count": 10,
     "metadata": {},
     "output_type": "execute_result"
    }
   ],
   "source": [
    "daily_log_returns"
   ]
  },
  {
   "cell_type": "code",
   "execution_count": null,
   "metadata": {
    "execution": {
     "iopub.execute_input": "2025-07-28T04:30:42.625560Z",
     "iopub.status.busy": "2025-07-28T04:30:42.625232Z",
     "iopub.status.idle": "2025-07-28T04:30:42.638133Z",
     "shell.execute_reply": "2025-07-28T04:30:42.637223Z",
     "shell.execute_reply.started": "2025-07-28T04:30:42.625530Z"
    },
    "trusted": true
   },
   "outputs": [],
   "source": [
    "# Chia 30 ngày đầu làm training\n",
    "train_day = 30\n",
    "test_day = len(daily_log_returns) - train_day\n",
    "daily_log_returns_test = daily_log_returns[-test_day:]\n",
    "daily_log_returns = daily_log_returns[0:train_day]"
   ]
  },
  {
   "cell_type": "code",
   "execution_count": null,
   "metadata": {
    "execution": {
     "iopub.execute_input": "2025-07-28T04:30:42.639520Z",
     "iopub.status.busy": "2025-07-28T04:30:42.639187Z",
     "iopub.status.idle": "2025-07-28T04:30:42.661516Z",
     "shell.execute_reply": "2025-07-28T04:30:42.660583Z",
     "shell.execute_reply.started": "2025-07-28T04:30:42.639494Z"
    },
    "trusted": true
   },
   "outputs": [
    {
     "data": {
      "text/html": [
       "<div>\n",
       "<style scoped>\n",
       "    .dataframe tbody tr th:only-of-type {\n",
       "        vertical-align: middle;\n",
       "    }\n",
       "\n",
       "    .dataframe tbody tr th {\n",
       "        vertical-align: top;\n",
       "    }\n",
       "\n",
       "    .dataframe thead th {\n",
       "        text-align: right;\n",
       "    }\n",
       "</style>\n",
       "<table border=\"1\" class=\"dataframe\">\n",
       "  <thead>\n",
       "    <tr style=\"text-align: right;\">\n",
       "      <th></th>\n",
       "      <th>Crypto_Returns</th>\n",
       "      <th>Stocks_Returns</th>\n",
       "      <th>Nexus_Returns</th>\n",
       "      <th>Time</th>\n",
       "    </tr>\n",
       "  </thead>\n",
       "  <tbody>\n",
       "    <tr>\n",
       "      <th>31</th>\n",
       "      <td>0.037470</td>\n",
       "      <td>-0.024456</td>\n",
       "      <td>0.000354</td>\n",
       "      <td>2024-06-20</td>\n",
       "    </tr>\n",
       "    <tr>\n",
       "      <th>32</th>\n",
       "      <td>0.000326</td>\n",
       "      <td>0.033148</td>\n",
       "      <td>-0.000284</td>\n",
       "      <td>2024-06-21</td>\n",
       "    </tr>\n",
       "    <tr>\n",
       "      <th>33</th>\n",
       "      <td>0.042735</td>\n",
       "      <td>0.000000</td>\n",
       "      <td>0.000000</td>\n",
       "      <td>2024-06-22</td>\n",
       "    </tr>\n",
       "    <tr>\n",
       "      <th>34</th>\n",
       "      <td>-0.008213</td>\n",
       "      <td>0.000000</td>\n",
       "      <td>0.000000</td>\n",
       "      <td>2024-06-23</td>\n",
       "    </tr>\n",
       "    <tr>\n",
       "      <th>35</th>\n",
       "      <td>-0.007523</td>\n",
       "      <td>-0.033289</td>\n",
       "      <td>-0.007727</td>\n",
       "      <td>2024-06-24</td>\n",
       "    </tr>\n",
       "    <tr>\n",
       "      <th>...</th>\n",
       "      <td>...</td>\n",
       "      <td>...</td>\n",
       "      <td>...</td>\n",
       "      <td>...</td>\n",
       "    </tr>\n",
       "    <tr>\n",
       "      <th>385</th>\n",
       "      <td>-0.003689</td>\n",
       "      <td>0.030113</td>\n",
       "      <td>0.005703</td>\n",
       "      <td>2025-06-09</td>\n",
       "    </tr>\n",
       "    <tr>\n",
       "      <th>386</th>\n",
       "      <td>0.008398</td>\n",
       "      <td>-0.015309</td>\n",
       "      <td>-0.002781</td>\n",
       "      <td>2025-06-10</td>\n",
       "    </tr>\n",
       "    <tr>\n",
       "      <th>387</th>\n",
       "      <td>0.026983</td>\n",
       "      <td>0.009929</td>\n",
       "      <td>0.001555</td>\n",
       "      <td>2025-06-11</td>\n",
       "    </tr>\n",
       "    <tr>\n",
       "      <th>388</th>\n",
       "      <td>0.003010</td>\n",
       "      <td>0.038140</td>\n",
       "      <td>-0.004197</td>\n",
       "      <td>2025-06-12</td>\n",
       "    </tr>\n",
       "    <tr>\n",
       "      <th>389</th>\n",
       "      <td>0.000573</td>\n",
       "      <td>0.027408</td>\n",
       "      <td>-0.001433</td>\n",
       "      <td>2025-06-13</td>\n",
       "    </tr>\n",
       "  </tbody>\n",
       "</table>\n",
       "<p>359 rows × 4 columns</p>\n",
       "</div>"
      ],
      "text/plain": [
       "     Crypto_Returns  Stocks_Returns  Nexus_Returns       Time\n",
       "31         0.037470       -0.024456       0.000354 2024-06-20\n",
       "32         0.000326        0.033148      -0.000284 2024-06-21\n",
       "33         0.042735        0.000000       0.000000 2024-06-22\n",
       "34        -0.008213        0.000000       0.000000 2024-06-23\n",
       "35        -0.007523       -0.033289      -0.007727 2024-06-24\n",
       "..              ...             ...            ...        ...\n",
       "385       -0.003689        0.030113       0.005703 2025-06-09\n",
       "386        0.008398       -0.015309      -0.002781 2025-06-10\n",
       "387        0.026983        0.009929       0.001555 2025-06-11\n",
       "388        0.003010        0.038140      -0.004197 2025-06-12\n",
       "389        0.000573        0.027408      -0.001433 2025-06-13\n",
       "\n",
       "[359 rows x 4 columns]"
      ]
     },
     "execution_count": 12,
     "metadata": {},
     "output_type": "execute_result"
    }
   ],
   "source": [
    "daily_log_returns_test"
   ]
  },
  {
   "cell_type": "code",
   "execution_count": null,
   "metadata": {
    "execution": {
     "iopub.execute_input": "2025-07-28T04:30:42.663257Z",
     "iopub.status.busy": "2025-07-28T04:30:42.662985Z",
     "iopub.status.idle": "2025-07-28T04:30:42.683895Z",
     "shell.execute_reply": "2025-07-28T04:30:42.682964Z",
     "shell.execute_reply.started": "2025-07-28T04:30:42.663236Z"
    },
    "trusted": true
   },
   "outputs": [
    {
     "data": {
      "text/html": [
       "<div>\n",
       "<style scoped>\n",
       "    .dataframe tbody tr th:only-of-type {\n",
       "        vertical-align: middle;\n",
       "    }\n",
       "\n",
       "    .dataframe tbody tr th {\n",
       "        vertical-align: top;\n",
       "    }\n",
       "\n",
       "    .dataframe thead th {\n",
       "        text-align: right;\n",
       "    }\n",
       "</style>\n",
       "<table border=\"1\" class=\"dataframe\">\n",
       "  <thead>\n",
       "    <tr style=\"text-align: right;\">\n",
       "      <th></th>\n",
       "      <th>Crypto_Returns</th>\n",
       "      <th>Stocks_Returns</th>\n",
       "      <th>Nexus_Returns</th>\n",
       "      <th>Time</th>\n",
       "    </tr>\n",
       "  </thead>\n",
       "  <tbody>\n",
       "    <tr>\n",
       "      <th>1</th>\n",
       "      <td>0.038845</td>\n",
       "      <td>0.013178</td>\n",
       "      <td>0.002980</td>\n",
       "      <td>2024-05-21</td>\n",
       "    </tr>\n",
       "    <tr>\n",
       "      <th>2</th>\n",
       "      <td>-0.001971</td>\n",
       "      <td>-0.040003</td>\n",
       "      <td>0.008814</td>\n",
       "      <td>2024-05-22</td>\n",
       "    </tr>\n",
       "    <tr>\n",
       "      <th>3</th>\n",
       "      <td>0.006614</td>\n",
       "      <td>0.004229</td>\n",
       "      <td>0.007739</td>\n",
       "      <td>2024-05-23</td>\n",
       "    </tr>\n",
       "    <tr>\n",
       "      <th>4</th>\n",
       "      <td>-0.001424</td>\n",
       "      <td>-0.012736</td>\n",
       "      <td>-0.000999</td>\n",
       "      <td>2024-05-24</td>\n",
       "    </tr>\n",
       "    <tr>\n",
       "      <th>5</th>\n",
       "      <td>-0.003510</td>\n",
       "      <td>0.000000</td>\n",
       "      <td>0.000000</td>\n",
       "      <td>2024-05-25</td>\n",
       "    </tr>\n",
       "    <tr>\n",
       "      <th>6</th>\n",
       "      <td>0.060135</td>\n",
       "      <td>0.000000</td>\n",
       "      <td>0.000000</td>\n",
       "      <td>2024-05-26</td>\n",
       "    </tr>\n",
       "    <tr>\n",
       "      <th>7</th>\n",
       "      <td>-0.002825</td>\n",
       "      <td>0.000404</td>\n",
       "      <td>-0.002404</td>\n",
       "      <td>2024-05-27</td>\n",
       "    </tr>\n",
       "    <tr>\n",
       "      <th>8</th>\n",
       "      <td>-0.002717</td>\n",
       "      <td>0.010600</td>\n",
       "      <td>-0.002953</td>\n",
       "      <td>2024-05-28</td>\n",
       "    </tr>\n",
       "    <tr>\n",
       "      <th>9</th>\n",
       "      <td>0.069379</td>\n",
       "      <td>0.017815</td>\n",
       "      <td>0.024528</td>\n",
       "      <td>2024-05-29</td>\n",
       "    </tr>\n",
       "    <tr>\n",
       "      <th>10</th>\n",
       "      <td>-0.069845</td>\n",
       "      <td>-0.023506</td>\n",
       "      <td>-0.008435</td>\n",
       "      <td>2024-05-30</td>\n",
       "    </tr>\n",
       "    <tr>\n",
       "      <th>11</th>\n",
       "      <td>0.001131</td>\n",
       "      <td>-0.006190</td>\n",
       "      <td>0.004303</td>\n",
       "      <td>2024-05-31</td>\n",
       "    </tr>\n",
       "    <tr>\n",
       "      <th>12</th>\n",
       "      <td>-0.054096</td>\n",
       "      <td>0.000000</td>\n",
       "      <td>0.000000</td>\n",
       "      <td>2024-06-01</td>\n",
       "    </tr>\n",
       "    <tr>\n",
       "      <th>13</th>\n",
       "      <td>0.032749</td>\n",
       "      <td>0.000000</td>\n",
       "      <td>0.000000</td>\n",
       "      <td>2024-06-02</td>\n",
       "    </tr>\n",
       "    <tr>\n",
       "      <th>14</th>\n",
       "      <td>-0.023373</td>\n",
       "      <td>0.014244</td>\n",
       "      <td>0.018051</td>\n",
       "      <td>2024-06-03</td>\n",
       "    </tr>\n",
       "    <tr>\n",
       "      <th>15</th>\n",
       "      <td>0.059674</td>\n",
       "      <td>0.008600</td>\n",
       "      <td>0.001500</td>\n",
       "      <td>2024-06-04</td>\n",
       "    </tr>\n",
       "    <tr>\n",
       "      <th>16</th>\n",
       "      <td>-0.076757</td>\n",
       "      <td>-0.024718</td>\n",
       "      <td>0.003102</td>\n",
       "      <td>2024-06-05</td>\n",
       "    </tr>\n",
       "    <tr>\n",
       "      <th>17</th>\n",
       "      <td>0.000350</td>\n",
       "      <td>0.018857</td>\n",
       "      <td>0.002224</td>\n",
       "      <td>2024-06-06</td>\n",
       "    </tr>\n",
       "    <tr>\n",
       "      <th>18</th>\n",
       "      <td>0.004095</td>\n",
       "      <td>0.042943</td>\n",
       "      <td>-0.008059</td>\n",
       "      <td>2024-06-07</td>\n",
       "    </tr>\n",
       "    <tr>\n",
       "      <th>19</th>\n",
       "      <td>-0.019088</td>\n",
       "      <td>0.000000</td>\n",
       "      <td>0.000000</td>\n",
       "      <td>2024-06-08</td>\n",
       "    </tr>\n",
       "    <tr>\n",
       "      <th>20</th>\n",
       "      <td>-0.011721</td>\n",
       "      <td>0.000000</td>\n",
       "      <td>0.000000</td>\n",
       "      <td>2024-06-09</td>\n",
       "    </tr>\n",
       "    <tr>\n",
       "      <th>21</th>\n",
       "      <td>-0.058184</td>\n",
       "      <td>-0.017923</td>\n",
       "      <td>-0.007850</td>\n",
       "      <td>2024-06-10</td>\n",
       "    </tr>\n",
       "    <tr>\n",
       "      <th>22</th>\n",
       "      <td>-0.176712</td>\n",
       "      <td>0.025838</td>\n",
       "      <td>-0.000524</td>\n",
       "      <td>2024-06-11</td>\n",
       "    </tr>\n",
       "    <tr>\n",
       "      <th>23</th>\n",
       "      <td>-0.031581</td>\n",
       "      <td>-0.013653</td>\n",
       "      <td>-0.008638</td>\n",
       "      <td>2024-06-12</td>\n",
       "    </tr>\n",
       "    <tr>\n",
       "      <th>24</th>\n",
       "      <td>0.157111</td>\n",
       "      <td>0.009376</td>\n",
       "      <td>-0.002159</td>\n",
       "      <td>2024-06-13</td>\n",
       "    </tr>\n",
       "    <tr>\n",
       "      <th>25</th>\n",
       "      <td>-0.004678</td>\n",
       "      <td>0.015993</td>\n",
       "      <td>0.000351</td>\n",
       "      <td>2024-06-14</td>\n",
       "    </tr>\n",
       "    <tr>\n",
       "      <th>26</th>\n",
       "      <td>-0.018192</td>\n",
       "      <td>0.000000</td>\n",
       "      <td>0.000000</td>\n",
       "      <td>2024-06-15</td>\n",
       "    </tr>\n",
       "    <tr>\n",
       "      <th>27</th>\n",
       "      <td>0.069533</td>\n",
       "      <td>0.000000</td>\n",
       "      <td>0.000000</td>\n",
       "      <td>2024-06-16</td>\n",
       "    </tr>\n",
       "    <tr>\n",
       "      <th>28</th>\n",
       "      <td>0.008622</td>\n",
       "      <td>-0.083054</td>\n",
       "      <td>-0.013735</td>\n",
       "      <td>2024-06-17</td>\n",
       "    </tr>\n",
       "    <tr>\n",
       "      <th>29</th>\n",
       "      <td>-0.021109</td>\n",
       "      <td>-0.019988</td>\n",
       "      <td>0.005962</td>\n",
       "      <td>2024-06-18</td>\n",
       "    </tr>\n",
       "    <tr>\n",
       "      <th>30</th>\n",
       "      <td>-0.068263</td>\n",
       "      <td>-0.004551</td>\n",
       "      <td>-0.012839</td>\n",
       "      <td>2024-06-19</td>\n",
       "    </tr>\n",
       "  </tbody>\n",
       "</table>\n",
       "</div>"
      ],
      "text/plain": [
       "    Crypto_Returns  Stocks_Returns  Nexus_Returns       Time\n",
       "1         0.038845        0.013178       0.002980 2024-05-21\n",
       "2        -0.001971       -0.040003       0.008814 2024-05-22\n",
       "3         0.006614        0.004229       0.007739 2024-05-23\n",
       "4        -0.001424       -0.012736      -0.000999 2024-05-24\n",
       "5        -0.003510        0.000000       0.000000 2024-05-25\n",
       "6         0.060135        0.000000       0.000000 2024-05-26\n",
       "7        -0.002825        0.000404      -0.002404 2024-05-27\n",
       "8        -0.002717        0.010600      -0.002953 2024-05-28\n",
       "9         0.069379        0.017815       0.024528 2024-05-29\n",
       "10       -0.069845       -0.023506      -0.008435 2024-05-30\n",
       "11        0.001131       -0.006190       0.004303 2024-05-31\n",
       "12       -0.054096        0.000000       0.000000 2024-06-01\n",
       "13        0.032749        0.000000       0.000000 2024-06-02\n",
       "14       -0.023373        0.014244       0.018051 2024-06-03\n",
       "15        0.059674        0.008600       0.001500 2024-06-04\n",
       "16       -0.076757       -0.024718       0.003102 2024-06-05\n",
       "17        0.000350        0.018857       0.002224 2024-06-06\n",
       "18        0.004095        0.042943      -0.008059 2024-06-07\n",
       "19       -0.019088        0.000000       0.000000 2024-06-08\n",
       "20       -0.011721        0.000000       0.000000 2024-06-09\n",
       "21       -0.058184       -0.017923      -0.007850 2024-06-10\n",
       "22       -0.176712        0.025838      -0.000524 2024-06-11\n",
       "23       -0.031581       -0.013653      -0.008638 2024-06-12\n",
       "24        0.157111        0.009376      -0.002159 2024-06-13\n",
       "25       -0.004678        0.015993       0.000351 2024-06-14\n",
       "26       -0.018192        0.000000       0.000000 2024-06-15\n",
       "27        0.069533        0.000000       0.000000 2024-06-16\n",
       "28        0.008622       -0.083054      -0.013735 2024-06-17\n",
       "29       -0.021109       -0.019988       0.005962 2024-06-18\n",
       "30       -0.068263       -0.004551      -0.012839 2024-06-19"
      ]
     },
     "execution_count": 13,
     "metadata": {},
     "output_type": "execute_result"
    }
   ],
   "source": [
    "daily_log_returns"
   ]
  },
  {
   "cell_type": "markdown",
   "metadata": {},
   "source": [
    "## 2.2 Kiểm tra tính dừng cho Arima"
   ]
  },
  {
   "cell_type": "markdown",
   "metadata": {},
   "source": [
    "Kiểm tra Tính dừng (Stationarity): Một yêu cầu bắt buộc của ARIMA là chuỗi thời gian phải \"dừng\" (có trung bình và phương sai không đổi theo thời gian)."
   ]
  },
  {
   "cell_type": "code",
   "execution_count": null,
   "metadata": {
    "execution": {
     "iopub.execute_input": "2025-07-28T04:30:42.685154Z",
     "iopub.status.busy": "2025-07-28T04:30:42.684841Z",
     "iopub.status.idle": "2025-07-28T04:30:42.700373Z",
     "shell.execute_reply": "2025-07-28T04:30:42.699451Z",
     "shell.execute_reply.started": "2025-07-28T04:30:42.685123Z"
    },
    "trusted": true
   },
   "outputs": [],
   "source": [
    "def check_stationarity(series, alpha=0.05, verbose=True):\n",
    "    \"\"\"\n",
    "    Kiểm tra tính dừng của một chuỗi thời gian bằng ADF Test.\n",
    "    \n",
    "    Args:\n",
    "        series (pd.Series): Chuỗi lợi nhuận/log return.\n",
    "        alpha (float): Mức ý nghĩa (significance level).\n",
    "        verbose (bool): In kết quả hay không.\n",
    "        \n",
    "    Returns:\n",
    "        is_stationary (bool): True nếu chuỗi dừng.\n",
    "        p_value (float): P-value từ kiểm định ADF.\n",
    "    \"\"\"\n",
    "    result = adfuller(series.dropna(), autolag='AIC')\n",
    "    p_value = result[1]\n",
    "    is_stationary = p_value < alpha\n",
    "\n",
    "    if verbose:\n",
    "        print(f\"ADF Statistic: {result[0]:.4f}\")\n",
    "        print(f\"p-value: {p_value:.4f}\")\n",
    "        print(f\"Stationary: {'YES' if is_stationary else 'NO'} (alpha={alpha})\")\n",
    "    \n",
    "    return is_stationary, p_value"
   ]
  },
  {
   "cell_type": "code",
   "execution_count": null,
   "metadata": {
    "execution": {
     "iopub.execute_input": "2025-07-28T04:30:42.702179Z",
     "iopub.status.busy": "2025-07-28T04:30:42.701456Z",
     "iopub.status.idle": "2025-07-28T04:30:42.757030Z",
     "shell.execute_reply": "2025-07-28T04:30:42.756280Z",
     "shell.execute_reply.started": "2025-07-28T04:30:42.702148Z"
    },
    "trusted": true
   },
   "outputs": [
    {
     "name": "stdout",
     "output_type": "stream",
     "text": [
      "ADF Statistic: -5.2966\n",
      "p-value: 0.0000\n",
      "Stationary: YES (alpha=0.05)\n"
     ]
    },
    {
     "data": {
      "text/plain": [
       "(True, 5.565865164442461e-06)"
      ]
     },
     "execution_count": 15,
     "metadata": {},
     "output_type": "execute_result"
    }
   ],
   "source": [
    "# Kiểm tra chuỗi log return của Crypto\n",
    "check_stationarity(daily_log_returns['Crypto_Returns'])"
   ]
  },
  {
   "cell_type": "code",
   "execution_count": null,
   "metadata": {
    "execution": {
     "iopub.execute_input": "2025-07-28T04:30:42.758651Z",
     "iopub.status.busy": "2025-07-28T04:30:42.758228Z",
     "iopub.status.idle": "2025-07-28T04:30:42.772294Z",
     "shell.execute_reply": "2025-07-28T04:30:42.771474Z",
     "shell.execute_reply.started": "2025-07-28T04:30:42.758623Z"
    },
    "trusted": true
   },
   "outputs": [
    {
     "name": "stdout",
     "output_type": "stream",
     "text": [
      "ADF Statistic: -1.2823\n",
      "p-value: 0.6372\n",
      "Stationary: NO (alpha=0.05)\n"
     ]
    },
    {
     "data": {
      "text/plain": [
       "(False, 0.6372270846483024)"
      ]
     },
     "execution_count": 16,
     "metadata": {},
     "output_type": "execute_result"
    }
   ],
   "source": [
    "# Kiểm tra chuỗi log return của Nexus - Lấy Buy làm minh họa \n",
    "check_stationarity(daily_log_returns['Nexus_Returns'])"
   ]
  },
  {
   "cell_type": "code",
   "execution_count": null,
   "metadata": {
    "execution": {
     "iopub.execute_input": "2025-07-28T04:30:42.773538Z",
     "iopub.status.busy": "2025-07-28T04:30:42.773224Z",
     "iopub.status.idle": "2025-07-28T04:30:42.788008Z",
     "shell.execute_reply": "2025-07-28T04:30:42.787131Z",
     "shell.execute_reply.started": "2025-07-28T04:30:42.773513Z"
    },
    "trusted": true
   },
   "outputs": [
    {
     "name": "stdout",
     "output_type": "stream",
     "text": [
      "ADF Statistic: -5.1605\n",
      "p-value: 0.0000\n",
      "Stationary: YES (alpha=0.05)\n"
     ]
    },
    {
     "data": {
      "text/plain": [
       "(True, 1.058083947360803e-05)"
      ]
     },
     "execution_count": 17,
     "metadata": {},
     "output_type": "execute_result"
    }
   ],
   "source": [
    "# Kiểm tra chuỗi log return của Stock\n",
    "check_stationarity(daily_log_returns['Stocks_Returns'])"
   ]
  },
  {
   "cell_type": "markdown",
   "metadata": {},
   "source": [
    "# 3. Xây dựng Mô hình ARIMA+GARCH"
   ]
  },
  {
   "cell_type": "markdown",
   "metadata": {},
   "source": [
    "### Tại sao phải là mô hình ARIMA + GARCH?\n",
    "- Ta đang muốn tìm tham số $\\mu$ (vector lợi nhuận kì vọng) cho mô hình Markovist, với cách triển khai cổ điển ta sẽ lấy trung bình log returns của dữ liệu (ta dự đoán lợi nhuận kì vọng của tài sản bằng cách tính trung bình lợi nhuận quá khứ của tài sản tương ứng - Tuy nhiên cách này có thể không phù hợp cho môi trường tài chính, khi biến động ngắn hạng thường có xu hướng là 1 bước ngẫu nhiên).\n",
    "- Thay vào đó ta sẽ sử dụng ARIMA (một mô hình thống kê truyền thống dự báo biến mục tiêu chỉ bằng lịch sử của chính biến mục tiêu). Vì giả thuyết đã đặt ra là chúng ta sẽ chỉ tái đầu tư vào mỗi đầu tháng mới, nên việc dùng Arima để dự đoán lợi nhuận trung bình của tài sản cho tháng tiếp theo là hợp lý.\n",
    "- Tuy nhiên việc chỉ dùng ARIMA để dự đoán lợi nhuận trung bình cho tháng tiếp theo không phù hợp cho bộ dữ liệu hiện tại. Bởi nếu ta quyết định áp dụng ARIMA trên dữ liệu theo tháng, thì sau đó data chỉ còn 12-13 dòng (tương ứng cho 12-13 tháng của 390 ngày dũ liệu). Do ARIMA là một mô hình mô phỏng biến động bằng chính lịch sử, việc có quá ít điểm dữ liệu để training sẽ tiềm ẩn rủi ro under fitting.\n",
    "- Vì vậy thay dùng ARIMA trên lợi nhuận theo tháng, dùng ARIMA trên lợi nhuận theo ngày sẽ hợp lý hơn về mặt đầy đủ dữ liệu. Tuy nhiên như đã nói dự đoán giá tài sản ngày t bằng giá các ngày t-1, t-2,... sẽ không mang ý nghĩa về mặt thực tế bởi giá đơn lẻ ngày t thường không có quá nhiều tương quan với toàn bộ quá khứ của nó, mà nó sẽ thiên về 1 bước ngẫu nhiên (Khái niệm random walk và chuyển động brown trong tài chính)\n",
    "- Và để khắc phục điều đó ta sẽ kết hợp thêm mô hình GARCH. Điểm yếu của ARIMA khi đứng một mình là nó chỉ quan tâm đến giá trị trung bình mà bỏ qua một đặc tính cực kỳ quan trọng của dữ liệu tài chính: Tính tụ tập của phương sai (Volatility Clustering).\n",
    "- Nói một cách đơn giản, những giai đoạn có biến động lớn thường đi liền với nhau, và những giai đoạn bình ổn cũng vậy. Rủi ro của ngày hôm nay có liên quan mật thiết đến rủi ro của ngày hôm qua. Mô hình GARCH ra đời chính là để nắm bắt và dự báo sự thay đổi của phương sai (rủi ro) này.\n",
    "- Và GARCH sẽ đồng thời giúp mô hình tối ưu chiến lược bán tài sản, thay vì set 1 ngưỡng mặc định tăng/ giảm k% (k là mức lợi nhuận kì vọng/ mức cắt lỗ) thì GARCH sẽ tạo ra 1 tham số là độ biến động (k mới sẽ là k +/- độ biến động), nếu phát hiện đang là giai đoạn giao động mạnh (có thể tăng hoặc giảm liên tục) - thì tăng độ bến động hoặc giảm độ biến động nếu phát hiện đây là giao động yếu (có tính tăng/giảm dài hạn) từ đó tránh được tình trạng bán lúc quá thấp hay chốt lời quá sớm."
   ]
  },
  {
   "cell_type": "markdown",
   "metadata": {},
   "source": [
    "## 3.1 Xác định Tham số ARIMA (p, q)"
   ]
  },
  {
   "cell_type": "markdown",
   "metadata": {},
   "source": [
    "**Với mỗi tài sản**:\n",
    "1.  **Lấy chuỗi lợi nhuận lịch sử**: Sử dụng dữ liệu lợi nhuận hàng hàng.\n",
    "2.  **Xác định và Huấn luyện (Fit) mô hình ARIMA**: Tìm ra các tham số (p, d, q) phù hợp nhất cho mô hình ARIMA trên chuỗi dữ liệu lịch sử của tài sản đó.\n",
    "3.  **Dự báo cho giai đoạn tới**: Dùng mô hình ARIMA đã huấn luyện để dự báo tỷ suất sinh lợi cho ngày tiếp theo.\n",
    "\n",
    "**Kết quả**: Một vector lợi nhuận kỳ vọng $\\mu = [\\mu_1, \\mu_2, \\mu_3]$, trong đó mỗi $\\mu_i$ là lợi nhuận dự báo của tài sản $i$ cho tháng tới."
   ]
  },
  {
   "cell_type": "code",
   "execution_count": null,
   "metadata": {
    "execution": {
     "iopub.execute_input": "2025-07-28T04:30:42.789226Z",
     "iopub.status.busy": "2025-07-28T04:30:42.788945Z",
     "iopub.status.idle": "2025-07-28T04:30:42.801616Z",
     "shell.execute_reply": "2025-07-28T04:30:42.800767Z",
     "shell.execute_reply.started": "2025-07-28T04:30:42.789203Z"
    },
    "trusted": true
   },
   "outputs": [],
   "source": [
    "def get_arima_forecasts_and_residuals(data, time_name_col, start=None, end=None, seasonal=False, max_order=5):\n",
    "    \"\"\"\n",
    "    Trả về: (μ: kỳ vọng, residuals: phần dư, arima_orders: dict các thông số ARIMA cho từng asset)\n",
    "    \"\"\"\n",
    "    data = data.set_index(time_name_col).copy()\n",
    "    if start or end:\n",
    "        data = data.loc[start:end]\n",
    "\n",
    "    mu = {}\n",
    "    all_residuals = {}\n",
    "    arima_orders = {}  # 💥 Thêm dict lưu thông số ARIMA\n",
    "\n",
    "    print(\"Bắt đầu tìm mô hình ARIMA cho từng tài sản...\")\n",
    "    for col in data.columns:\n",
    "        series = data[col].dropna()\n",
    "        if len(series) < 10:\n",
    "            print(f\"⚠️ Bỏ qua {col} do không đủ dữ liệu.\")\n",
    "            continue\n",
    "            \n",
    "        try:\n",
    "            model = auto_arima(\n",
    "                series,\n",
    "                seasonal=seasonal,\n",
    "                stepwise=True,\n",
    "                suppress_warnings=True,\n",
    "                error_action='ignore',\n",
    "                max_p=max_order,\n",
    "                max_q=max_order,\n",
    "                d=None,\n",
    "                trace=False\n",
    "            )\n",
    "            \n",
    "            forecast = model.predict(n_periods=1)\n",
    "            mu[col] = forecast.iloc[0]\n",
    "            all_residuals[col] = pd.Series(model.resid(), index=series.index)\n",
    "            arima_orders[col] = model.order  # 💫 Lưu lại bộ (p,d,q)\n",
    "            \n",
    "            print(f\"✅ {col}: Tìm thấy mô hình tối ưu ARIMA{model.order}\")\n",
    "\n",
    "        except Exception as e:\n",
    "            print(f\"❌ Lỗi ở {col}: {e}\")\n",
    "            mu[col] = 0\n",
    "            all_residuals[col] = None\n",
    "            arima_orders[col] = None  # hoặc bỏ qua tùy nhu cầu\n",
    "\n",
    "    mu_series = pd.Series(mu, name='Expected_Return')\n",
    "    residuals_df = pd.DataFrame(all_residuals)\n",
    "    \n",
    "    return mu_series, residuals_df, arima_orders\n"
   ]
  },
  {
   "cell_type": "code",
   "execution_count": null,
   "metadata": {
    "execution": {
     "iopub.execute_input": "2025-07-28T04:30:42.802645Z",
     "iopub.status.busy": "2025-07-28T04:30:42.802368Z",
     "iopub.status.idle": "2025-07-28T04:30:45.706134Z",
     "shell.execute_reply": "2025-07-28T04:30:45.705458Z",
     "shell.execute_reply.started": "2025-07-28T04:30:42.802625Z"
    },
    "trusted": true
   },
   "outputs": [
    {
     "name": "stdout",
     "output_type": "stream",
     "text": [
      "Bắt đầu tìm mô hình ARIMA cho từng tài sản...\n",
      "✅ Crypto_Returns: Tìm thấy mô hình tối ưu ARIMA(0, 0, 0)\n",
      "✅ Stocks_Returns: Tìm thấy mô hình tối ưu ARIMA(0, 0, 0)\n",
      "✅ Nexus_Returns: Tìm thấy mô hình tối ưu ARIMA(1, 1, 1)\n",
      "\n",
      "--- Vector lợi nhuận kỳ vọng dự báo (μ) ---\n",
      "Crypto_Returns    0.000000\n",
      "Stocks_Returns    0.000000\n",
      "Nexus_Returns    -0.002111\n",
      "Name: Expected_Return, dtype: float64\n",
      "\n",
      "--- ARIMA Orders ---\n",
      "{'Crypto_Returns': (0, 0, 0), 'Stocks_Returns': (0, 0, 0), 'Nexus_Returns': (1, 1, 1)}\n",
      "\n",
      "--- DataFrame chứa phần dư (residuals) ---\n"
     ]
    },
    {
     "data": {
      "text/html": [
       "<div>\n",
       "<style scoped>\n",
       "    .dataframe tbody tr th:only-of-type {\n",
       "        vertical-align: middle;\n",
       "    }\n",
       "\n",
       "    .dataframe tbody tr th {\n",
       "        vertical-align: top;\n",
       "    }\n",
       "\n",
       "    .dataframe thead th {\n",
       "        text-align: right;\n",
       "    }\n",
       "</style>\n",
       "<table border=\"1\" class=\"dataframe\">\n",
       "  <thead>\n",
       "    <tr style=\"text-align: right;\">\n",
       "      <th></th>\n",
       "      <th>Crypto_Returns</th>\n",
       "      <th>Stocks_Returns</th>\n",
       "      <th>Nexus_Returns</th>\n",
       "    </tr>\n",
       "    <tr>\n",
       "      <th>Time</th>\n",
       "      <th></th>\n",
       "      <th></th>\n",
       "      <th></th>\n",
       "    </tr>\n",
       "  </thead>\n",
       "  <tbody>\n",
       "    <tr>\n",
       "      <th>2024-05-21</th>\n",
       "      <td>0.038845</td>\n",
       "      <td>0.013178</td>\n",
       "      <td>0.003320</td>\n",
       "    </tr>\n",
       "    <tr>\n",
       "      <th>2024-05-22</th>\n",
       "      <td>-0.001971</td>\n",
       "      <td>-0.040003</td>\n",
       "      <td>0.006174</td>\n",
       "    </tr>\n",
       "    <tr>\n",
       "      <th>2024-05-23</th>\n",
       "      <td>0.006614</td>\n",
       "      <td>0.004229</td>\n",
       "      <td>0.003408</td>\n",
       "    </tr>\n",
       "    <tr>\n",
       "      <th>2024-05-24</th>\n",
       "      <td>-0.001424</td>\n",
       "      <td>-0.012736</td>\n",
       "      <td>-0.006627</td>\n",
       "    </tr>\n",
       "    <tr>\n",
       "      <th>2024-05-25</th>\n",
       "      <td>-0.003510</td>\n",
       "      <td>0.000000</td>\n",
       "      <td>-0.006237</td>\n",
       "    </tr>\n",
       "    <tr>\n",
       "      <th>2024-05-26</th>\n",
       "      <td>0.060135</td>\n",
       "      <td>0.000000</td>\n",
       "      <td>-0.003983</td>\n",
       "    </tr>\n",
       "    <tr>\n",
       "      <th>2024-05-27</th>\n",
       "      <td>-0.002825</td>\n",
       "      <td>0.000404</td>\n",
       "      <td>-0.005152</td>\n",
       "    </tr>\n",
       "    <tr>\n",
       "      <th>2024-05-28</th>\n",
       "      <td>-0.002717</td>\n",
       "      <td>0.010600</td>\n",
       "      <td>-0.005195</td>\n",
       "    </tr>\n",
       "    <tr>\n",
       "      <th>2024-05-29</th>\n",
       "      <td>0.069379</td>\n",
       "      <td>0.017815</td>\n",
       "      <td>0.023347</td>\n",
       "    </tr>\n",
       "    <tr>\n",
       "      <th>2024-05-30</th>\n",
       "      <td>-0.069845</td>\n",
       "      <td>-0.023506</td>\n",
       "      <td>-0.002951</td>\n",
       "    </tr>\n",
       "    <tr>\n",
       "      <th>2024-05-31</th>\n",
       "      <td>0.001131</td>\n",
       "      <td>-0.006190</td>\n",
       "      <td>-0.000734</td>\n",
       "    </tr>\n",
       "    <tr>\n",
       "      <th>2024-06-01</th>\n",
       "      <td>-0.054096</td>\n",
       "      <td>0.000000</td>\n",
       "      <td>-0.000099</td>\n",
       "    </tr>\n",
       "    <tr>\n",
       "      <th>2024-06-02</th>\n",
       "      <td>0.032749</td>\n",
       "      <td>0.000000</td>\n",
       "      <td>-0.001113</td>\n",
       "    </tr>\n",
       "    <tr>\n",
       "      <th>2024-06-03</th>\n",
       "      <td>-0.023373</td>\n",
       "      <td>0.014244</td>\n",
       "      <td>0.017521</td>\n",
       "    </tr>\n",
       "    <tr>\n",
       "      <th>2024-06-04</th>\n",
       "      <td>0.059674</td>\n",
       "      <td>0.008600</td>\n",
       "      <td>0.005735</td>\n",
       "    </tr>\n",
       "    <tr>\n",
       "      <th>2024-06-05</th>\n",
       "      <td>-0.076757</td>\n",
       "      <td>-0.024718</td>\n",
       "      <td>0.001478</td>\n",
       "    </tr>\n",
       "    <tr>\n",
       "      <th>2024-06-06</th>\n",
       "      <td>0.000350</td>\n",
       "      <td>0.018857</td>\n",
       "      <td>0.001456</td>\n",
       "    </tr>\n",
       "    <tr>\n",
       "      <th>2024-06-07</th>\n",
       "      <td>0.004095</td>\n",
       "      <td>0.042943</td>\n",
       "      <td>-0.008822</td>\n",
       "    </tr>\n",
       "    <tr>\n",
       "      <th>2024-06-08</th>\n",
       "      <td>-0.019088</td>\n",
       "      <td>0.000000</td>\n",
       "      <td>-0.002960</td>\n",
       "    </tr>\n",
       "    <tr>\n",
       "      <th>2024-06-09</th>\n",
       "      <td>-0.011721</td>\n",
       "      <td>0.000000</td>\n",
       "      <td>0.000570</td>\n",
       "    </tr>\n",
       "    <tr>\n",
       "      <th>2024-06-10</th>\n",
       "      <td>-0.058184</td>\n",
       "      <td>-0.017923</td>\n",
       "      <td>-0.006879</td>\n",
       "    </tr>\n",
       "    <tr>\n",
       "      <th>2024-06-11</th>\n",
       "      <td>-0.176712</td>\n",
       "      <td>0.025838</td>\n",
       "      <td>-0.001127</td>\n",
       "    </tr>\n",
       "    <tr>\n",
       "      <th>2024-06-12</th>\n",
       "      <td>-0.031581</td>\n",
       "      <td>-0.013653</td>\n",
       "      <td>-0.006150</td>\n",
       "    </tr>\n",
       "    <tr>\n",
       "      <th>2024-06-13</th>\n",
       "      <td>0.157111</td>\n",
       "      <td>0.009376</td>\n",
       "      <td>-0.001414</td>\n",
       "    </tr>\n",
       "    <tr>\n",
       "      <th>2024-06-14</th>\n",
       "      <td>-0.004678</td>\n",
       "      <td>0.015993</td>\n",
       "      <td>0.003922</td>\n",
       "    </tr>\n",
       "    <tr>\n",
       "      <th>2024-06-15</th>\n",
       "      <td>-0.018192</td>\n",
       "      <td>0.000000</td>\n",
       "      <td>0.004516</td>\n",
       "    </tr>\n",
       "    <tr>\n",
       "      <th>2024-06-16</th>\n",
       "      <td>0.069533</td>\n",
       "      <td>0.000000</td>\n",
       "      <td>0.004420</td>\n",
       "    </tr>\n",
       "    <tr>\n",
       "      <th>2024-06-17</th>\n",
       "      <td>0.008622</td>\n",
       "      <td>-0.083054</td>\n",
       "      <td>-0.009281</td>\n",
       "    </tr>\n",
       "    <tr>\n",
       "      <th>2024-06-18</th>\n",
       "      <td>-0.021109</td>\n",
       "      <td>-0.019988</td>\n",
       "      <td>0.007025</td>\n",
       "    </tr>\n",
       "    <tr>\n",
       "      <th>2024-06-19</th>\n",
       "      <td>-0.068263</td>\n",
       "      <td>-0.004551</td>\n",
       "      <td>-0.005199</td>\n",
       "    </tr>\n",
       "  </tbody>\n",
       "</table>\n",
       "</div>"
      ],
      "text/plain": [
       "            Crypto_Returns  Stocks_Returns  Nexus_Returns\n",
       "Time                                                     \n",
       "2024-05-21        0.038845        0.013178       0.003320\n",
       "2024-05-22       -0.001971       -0.040003       0.006174\n",
       "2024-05-23        0.006614        0.004229       0.003408\n",
       "2024-05-24       -0.001424       -0.012736      -0.006627\n",
       "2024-05-25       -0.003510        0.000000      -0.006237\n",
       "2024-05-26        0.060135        0.000000      -0.003983\n",
       "2024-05-27       -0.002825        0.000404      -0.005152\n",
       "2024-05-28       -0.002717        0.010600      -0.005195\n",
       "2024-05-29        0.069379        0.017815       0.023347\n",
       "2024-05-30       -0.069845       -0.023506      -0.002951\n",
       "2024-05-31        0.001131       -0.006190      -0.000734\n",
       "2024-06-01       -0.054096        0.000000      -0.000099\n",
       "2024-06-02        0.032749        0.000000      -0.001113\n",
       "2024-06-03       -0.023373        0.014244       0.017521\n",
       "2024-06-04        0.059674        0.008600       0.005735\n",
       "2024-06-05       -0.076757       -0.024718       0.001478\n",
       "2024-06-06        0.000350        0.018857       0.001456\n",
       "2024-06-07        0.004095        0.042943      -0.008822\n",
       "2024-06-08       -0.019088        0.000000      -0.002960\n",
       "2024-06-09       -0.011721        0.000000       0.000570\n",
       "2024-06-10       -0.058184       -0.017923      -0.006879\n",
       "2024-06-11       -0.176712        0.025838      -0.001127\n",
       "2024-06-12       -0.031581       -0.013653      -0.006150\n",
       "2024-06-13        0.157111        0.009376      -0.001414\n",
       "2024-06-14       -0.004678        0.015993       0.003922\n",
       "2024-06-15       -0.018192        0.000000       0.004516\n",
       "2024-06-16        0.069533        0.000000       0.004420\n",
       "2024-06-17        0.008622       -0.083054      -0.009281\n",
       "2024-06-18       -0.021109       -0.019988       0.007025\n",
       "2024-06-19       -0.068263       -0.004551      -0.005199"
      ]
     },
     "metadata": {},
     "output_type": "display_data"
    }
   ],
   "source": [
    "mu, residuals_df, arima_orders = get_arima_forecasts_and_residuals(\n",
    "    data=daily_log_returns,\n",
    "    time_name_col='Time',\n",
    "    seasonal=False,\n",
    "    max_order=3,\n",
    "    # start='21-05-2024',\n",
    "    # end='21-05-2025'\n",
    ")\n",
    "\n",
    "print(\"\\n--- Vector lợi nhuận kỳ vọng dự báo (μ) ---\")\n",
    "print(mu)\n",
    "\n",
    "print(\"\\n--- ARIMA Orders ---\")\n",
    "print(arima_orders)\n",
    "\n",
    "print(\"\\n--- DataFrame chứa phần dư (residuals) ---\")\n",
    "display(residuals_df)"
   ]
  },
  {
   "cell_type": "markdown",
   "metadata": {},
   "source": [
    "Nếu auto_parima cho p, d q (0, 0, 0), điều này ám chỉ lợi nhuận của tài sản  về cơ bản là Nhiễu trắng (White Noise).\n",
    ">Nhiễu trắng có các đặc điểm:\n",
    ">\n",
    ">- Giá trị trung bình bằng 0.\n",
    ">\n",
    ">- Phương sai không đổi.\n",
    ">\n",
    "> - Không có tự tương quan giữa các giá trị ở các thời điểm khác nhau.\n",
    ">\n",
    "> - Nói một cách đơn giản, điều này có nghĩa là lợi nhuận của ngày hôm nay hoàn toàn ngẫu nhiên và không thể dự đoán được dựa trên lợi nhuận của các ngày trước đó. Đây là một kết quả rất phổ biến khi phân tích dữ liệu lợi nhuận tài chính và phù hợp với Giả thuyết Thị trường Hiệu quả (Efficient Market Hypothesis)\n",
    "\n",
    "Ta sẽ kiểm tra lại bằng biểu đồ ACF và PACF của chính phần dư residuals_df. Nếu các biểu đồ này cho thấy tất cả các đỉnh đều nằm trong vùng tin cậy màu xanh (ngoại trừ lag 0), thì mô hình ARIMA(p,d,q) là một mô hình tốt!"
   ]
  },
  {
   "cell_type": "code",
   "execution_count": null,
   "metadata": {
    "execution": {
     "iopub.execute_input": "2025-07-28T04:30:45.706967Z",
     "iopub.status.busy": "2025-07-28T04:30:45.706736Z",
     "iopub.status.idle": "2025-07-28T04:30:45.714852Z",
     "shell.execute_reply": "2025-07-28T04:30:45.714081Z",
     "shell.execute_reply.started": "2025-07-28T04:30:45.706947Z"
    },
    "trusted": true
   },
   "outputs": [],
   "source": [
    "def plot_acf_pacf(series, lags=20, title_prefix=''):\n",
    "    \"\"\"\n",
    "    Vẽ biểu đồ ACF và PACF cho một chuỗi thời gian.\n",
    "\n",
    "    Args:\n",
    "        series (pd.Series): Chuỗi thời gian (đã stationarity).\n",
    "        lags (int): Số lag tối đa để hiển thị.\n",
    "        title_prefix (str): Tên tiêu đề tùy chỉnh.\n",
    "    \"\"\"\n",
    "    fig, axes = plt.subplots(1, 2, figsize=(14, 4))\n",
    "\n",
    "    plot_acf(series.dropna(), ax=axes[0], lags=lags, zero=False)\n",
    "    axes[0].set_title(f'{title_prefix} - ACF')\n",
    "\n",
    "    plot_pacf(series.dropna(), ax=axes[1], lags=lags, zero=False, method='ywm')\n",
    "    axes[1].set_title(f'{title_prefix} - PACF')\n",
    "\n",
    "    plt.tight_layout()\n",
    "    plt.show()"
   ]
  },
  {
   "cell_type": "code",
   "execution_count": null,
   "metadata": {
    "execution": {
     "iopub.execute_input": "2025-07-28T04:30:45.715801Z",
     "iopub.status.busy": "2025-07-28T04:30:45.715532Z",
     "iopub.status.idle": "2025-07-28T04:30:47.325379Z",
     "shell.execute_reply": "2025-07-28T04:30:47.324496Z",
     "shell.execute_reply.started": "2025-07-28T04:30:45.715776Z"
    },
    "trusted": true
   },
   "outputs": [
    {
     "name": "stdout",
     "output_type": "stream",
     "text": [
      "\n",
      "🔍 Đang phân tích: Crypto_Returns\n"
     ]
    },
    {
     "data": {
      "image/png": "[encoded data removed]",
      "text/plain": [
       "<Figure size 1400x400 with 2 Axes>"
      ]
     },
     "metadata": {},
     "output_type": "display_data"
    },
    {
     "name": "stdout",
     "output_type": "stream",
     "text": [
      "\n",
      "🔍 Đang phân tích: Nexus_Returns\n"
     ]
    },
    {
     "data": {
      "image/png": "[encoded data removed]",
      "text/plain": [
       "<Figure size 1400x400 with 2 Axes>"
      ]
     },
     "metadata": {},
     "output_type": "display_data"
    },
    {
     "name": "stdout",
     "output_type": "stream",
     "text": [
      "\n",
      "🔍 Đang phân tích: Stocks_Returns\n"
     ]
    },
    {
     "data": {
      "image/png": "[encoded data removed]",
      "text/plain": [
       "<Figure size 1400x400 with 2 Axes>"
      ]
     },
     "metadata": {},
     "output_type": "display_data"
    }
   ],
   "source": [
    "columns_to_plot = ['Crypto_Returns', 'Nexus_Returns', 'Stocks_Returns']\n",
    "\n",
    "for col in columns_to_plot:\n",
    "    print(f\"\\n🔍 Đang phân tích: {col}\")\n",
    "    plot_acf_pacf(residuals_df[col], lags=10, title_prefix=col)"
   ]
  },
  {
   "cell_type": "markdown",
   "metadata": {},
   "source": [
    "> Ta thấy các lag trên biểu đồ ACF và PACF của cả 3 tài sản đều nằm trong vùng tin cậy (màu xanh), nên tham số tìm từ auto_arima là tham số chuẩn."
   ]
  },
  {
   "cell_type": "markdown",
   "metadata": {},
   "source": [
    "## 3.2 Xác định Tham số GARCH (p', q')"
   ]
  },
  {
   "cell_type": "markdown",
   "metadata": {},
   "source": [
    "Để áp dụng mô hình GARCH, đầu tiên phải xem xét\n",
    "phần dư ước lượng của mô hình ước lượng theo phương\n",
    "pháp OLS có tồn tại phương sai thay đổi hay không bằng\n",
    "cách sử dụng kiểm định ARCH-LM."
   ]
  },
  {
   "cell_type": "code",
   "execution_count": null,
   "metadata": {
    "execution": {
     "iopub.execute_input": "2025-07-28T04:30:47.330014Z",
     "iopub.status.busy": "2025-07-28T04:30:47.329752Z",
     "iopub.status.idle": "2025-07-28T04:30:47.344964Z",
     "shell.execute_reply": "2025-07-28T04:30:47.344193Z",
     "shell.execute_reply.started": "2025-07-28T04:30:47.329995Z"
    },
    "trusted": true
   },
   "outputs": [
    {
     "name": "stdout",
     "output_type": "stream",
     "text": [
      "--- Kết quả kiểm định ARCH-LM ---\n",
      "\n",
      "--- Tài sản: Crypto_Returns ---\n",
      "P-value của kiểm định ARCH-LM: 0.2954\n",
      "❌ Kết luận: Không có bằng chứng về hiệu ứng ARCH. Mô hình GARCH có thể không cần thiết.\n",
      "\n",
      "--- Tài sản: Nexus_Returns ---\n",
      "P-value của kiểm định ARCH-LM: 0.6062\n",
      "❌ Kết luận: Không có bằng chứng về hiệu ứng ARCH. Mô hình GARCH có thể không cần thiết.\n",
      "\n",
      "--- Tài sản: Stocks_Returns ---\n",
      "P-value của kiểm định ARCH-LM: 0.9799\n",
      "❌ Kết luận: Không có bằng chứng về hiệu ứng ARCH. Mô hình GARCH có thể không cần thiết.\n",
      "\n",
      "--- Các tài sản có hiệu ứng ARCH ---\n",
      "[]\n"
     ]
    }
   ],
   "source": [
    "columns_to_test = ['Crypto_Returns', 'Nexus_Returns', 'Stocks_Returns']\n",
    "assets_with_arch_effect = []  # Kết quả lưu tại biến này  \n",
    "\n",
    "print(\"--- Kết quả kiểm định ARCH-LM ---\")\n",
    "\n",
    "for col in columns_to_test:\n",
    "    resid_series = residuals_df[col].dropna()\n",
    "    \n",
    "    if len(resid_series) < 10:\n",
    "        print(f\"⚠️ Tài sản {col} có quá ít dữ liệu để kiểm định.\")\n",
    "        continue\n",
    "\n",
    "    test_results = het_arch(resid_series)\n",
    "    p_value = test_results[1]\n",
    "\n",
    "    print(f\"\\n--- Tài sản: {col} ---\")\n",
    "    print(f\"P-value của kiểm định ARCH-LM: {p_value:.4f}\")\n",
    "\n",
    "    if p_value < 0.05:\n",
    "        print(\"✅ Kết luận: Có hiệu ứng ARCH. Mô hình GARCH là phù hợp.\")\n",
    "        assets_with_arch_effect.append(col)  # Tự động lưu tên asset\n",
    "    else:\n",
    "        print(\"❌ Kết luận: Không có bằng chứng về hiệu ứng ARCH. Mô hình GARCH có thể không cần thiết.\")\n",
    "\n",
    "print(\"\\n--- Các tài sản có hiệu ứng ARCH ---\")\n",
    "print(assets_with_arch_effect)"
   ]
  },
  {
   "cell_type": "code",
   "execution_count": null,
   "metadata": {
    "execution": {
     "iopub.execute_input": "2025-07-28T04:30:47.346191Z",
     "iopub.status.busy": "2025-07-28T04:30:47.345892Z",
     "iopub.status.idle": "2025-07-28T04:30:47.353533Z",
     "shell.execute_reply": "2025-07-28T04:30:47.352698Z",
     "shell.execute_reply.started": "2025-07-28T04:30:47.346164Z"
    },
    "trusted": true
   },
   "outputs": [],
   "source": [
    "def find_best_garch_params(series, max_p=3, max_q=3):\n",
    "    \"\"\"\n",
    "    Tìm cặp tham số (p', q') tốt nhất cho mô hình GARCH(p', q') dựa trên AIC.\n",
    "    \"\"\"\n",
    "    best_aic = float('inf')\n",
    "    best_order = None\n",
    "    \n",
    "    for p in range(1, max_p + 1): # p và q của GARCH nên bắt đầu từ 1\n",
    "        for q in range(max_q + 1):\n",
    "            if p == 0 and q == 0:\n",
    "                continue\n",
    "            try:\n",
    "                model = arch_model(series, vol='GARCH', p=p, q=q, dist='t') # Thêm dist='t' thường tốt hơn\n",
    "                result = model.fit(disp='off')\n",
    "                if result.aic < best_aic:\n",
    "                    best_aic = result.aic\n",
    "                    best_order = (p, q)\n",
    "            except Exception as e:\n",
    "                continue\n",
    "\n",
    "    return best_order"
   ]
  },
  {
   "cell_type": "code",
   "execution_count": null,
   "metadata": {
    "execution": {
     "iopub.execute_input": "2025-07-28T04:30:47.354800Z",
     "iopub.status.busy": "2025-07-28T04:30:47.354500Z",
     "iopub.status.idle": "2025-07-28T04:30:47.370341Z",
     "shell.execute_reply": "2025-07-28T04:30:47.369446Z",
     "shell.execute_reply.started": "2025-07-28T04:30:47.354774Z"
    },
    "trusted": true
   },
   "outputs": [
    {
     "name": "stdout",
     "output_type": "stream",
     "text": [
      "--- Tìm tham số GARCH tối ưu cho từng tài sản ---\n",
      "\n",
      "--- Kết quả tổng hợp ---\n",
      "{}\n"
     ]
    }
   ],
   "source": [
    "best_garch_orders = {}\n",
    "\n",
    "print(\"--- Tìm tham số GARCH tối ưu cho từng tài sản ---\")\n",
    "for asset in assets_with_arch_effect:\n",
    "    print(f\"Đang xử lý: {asset}...\")\n",
    "    \n",
    "    # Lấy chuỗi phần dư tương ứng\n",
    "    resid_series = residuals_df[asset].dropna()\n",
    "    \n",
    "    # Gọi hàm trên chuỗi phần dư\n",
    "    best_order = find_best_garch_params(resid_series)\n",
    "    best_garch_orders[asset] = best_order\n",
    "    \n",
    "    print(f\"✅ {asset}: Tham số GARCH(p',q') tốt nhất là {best_order}\")\n",
    "\n",
    "print(\"\\n--- Kết quả tổng hợp ---\")\n",
    "print(best_garch_orders)"
   ]
  },
  {
   "cell_type": "markdown",
   "metadata": {},
   "source": [
    "## 3.3 Huấn luyện (Fit) mô hình ARIMA(p,d,q) + GARCH(p',q')"
   ]
  },
  {
   "cell_type": "code",
   "execution_count": null,
   "metadata": {
    "execution": {
     "iopub.execute_input": "2025-07-28T04:30:47.371593Z",
     "iopub.status.busy": "2025-07-28T04:30:47.371269Z",
     "iopub.status.idle": "2025-07-28T04:30:47.387764Z",
     "shell.execute_reply": "2025-07-28T04:30:47.386916Z",
     "shell.execute_reply.started": "2025-07-28T04:30:47.371569Z"
    },
    "trusted": true
   },
   "outputs": [],
   "source": [
    "def fit_all_models(training_df):\n",
    "    \"\"\"\n",
    "    Fit lại tất cả các model (ARIMA, GARCH) dựa trên dữ liệu training được cung cấp.\n",
    "    \"\"\"\n",
    "    print(\"   + Đang fit lại các model...\")\n",
    "    \n",
    "    # Các tham số đã định nghĩa trước arima_orders\n",
    "    garch_orders = best_garch_orders\n",
    "    \n",
    "    # ----\n",
    "    \n",
    "    fitted_models = {}\n",
    "    asset_columns = [col for col in training_df.columns if 'Returns' in col]\n",
    "\n",
    "    for asset in asset_columns:\n",
    "        series = training_df[asset].dropna()\n",
    "        p_arima, d_arima, q_arima = arima_orders[asset]\n",
    "\n",
    "        try:\n",
    "            if asset in assets_with_arch_effect:\n",
    "                p_garch, q_garch = garch_orders[asset]\n",
    "                model = arch_model(series, mean='AR', lags=p_arima,\n",
    "                                   vol='GARCH', p=p_garch, q=q_garch, dist='t')\n",
    "                fitted_models[asset] = model.fit(disp='off')\n",
    "            else:\n",
    "                model = pm.ARIMA(order=(p_arima, d_arima, q_arima))\n",
    "                fitted_models[asset] = model.fit(series)\n",
    "        except Exception as e:\n",
    "            print(f\"      Lỗi khi fit model cho {asset}: {e}\")\n",
    "            fitted_models[asset] = None # Hoặc xử lý lỗi khác\n",
    "\n",
    "    print(\"   + Fit model hoàn tất.\")\n",
    "    return fitted_models"
   ]
  },
  {
   "cell_type": "markdown",
   "metadata": {},
   "source": [
    "Xây các mô hình độc lập ARIMA + GARCH (nếu có)"
   ]
  },
  {
   "cell_type": "code",
   "execution_count": null,
   "metadata": {
    "execution": {
     "iopub.execute_input": "2025-07-28T04:30:47.389087Z",
     "iopub.status.busy": "2025-07-28T04:30:47.388803Z",
     "iopub.status.idle": "2025-07-28T04:30:47.644384Z",
     "shell.execute_reply": "2025-07-28T04:30:47.643544Z",
     "shell.execute_reply.started": "2025-07-28T04:30:47.389066Z"
    },
    "trusted": true
   },
   "outputs": [
    {
     "name": "stdout",
     "output_type": "stream",
     "text": [
      "--- Bắt đầu huấn luyện mô hình cho từng tài sản ---\n",
      "\n",
      "Đang xử lý: Crypto_Returns...\n",
      "✅ Crypto_Returns: Fit thành công mô hình ARIMA(0,0,0)\n",
      "\n",
      "Đang xử lý: Stocks_Returns...\n",
      "✅ Stocks_Returns: Fit thành công mô hình ARIMA(0,0,0)\n",
      "\n",
      "Đang xử lý: Nexus_Returns...\n",
      "✅ Nexus_Returns: Fit thành công mô hình ARIMA(1,1,1)\n"
     ]
    }
   ],
   "source": [
    "# Đảm bảo có Các tham số đã định nghĩa trước arima_orders, garch_orders, assets_with_arch_effect\n",
    "garch_orders = best_garch_orders\n",
    "\n",
    "# --- TIẾN HÀNH HUẤN LUYỆN ---\n",
    "\n",
    "all_fitted_models = {} # Dict để lưu tất cả các model đã được huấn luyện\n",
    "\n",
    "print(\"--- Bắt đầu huấn luyện mô hình cho từng tài sản ---\")\n",
    "for asset in daily_log_returns.columns:\n",
    "    if asset == \"Selling_Price_of_Nexus\" or asset == 'Time':\n",
    "        continue\n",
    "    print(f\"\\nĐang xử lý: {asset}...\")\n",
    "    series = daily_log_returns[asset].dropna()\n",
    "    \n",
    "    # Lấy bậc arima tương ứng\n",
    "    p_arima, d_arima, q_arima = arima_orders[asset]\n",
    "\n",
    "    try:\n",
    "        # KIỂM TRA XEM TÀI SẢN CÓ CẦN GARCH KHÔNG\n",
    "        if asset in assets_with_arch_effect:\n",
    "            # TRƯỜNG HỢP 1: DÙNG MÔ HÌNH KẾT HỢP AR-GARCH\n",
    "            p_garch, q_garch = garch_orders[asset]\n",
    "            \n",
    "            # Thư viện 'arch' fit mô hình AR-GARCH (không phải ARIMA)\n",
    "            # Vì d=0, ARIMA(p,0,q) chính là ARMA(p,q)\n",
    "            # Ở đây ta dùng mô hình AR(p)-GARCH(p',q') là một lựa chọn phổ biến và mạnh mẽ\n",
    "            model = arch_model(series,\n",
    "                               mean='AR', lags=p_arima, # Chỉ định phần AR\n",
    "                               vol='GARCH', p=p_garch, q=q_garch,\n",
    "                               dist='t') # Phân phối t thường tốt hơn cho tài chính\n",
    "            \n",
    "            fitted_model = model.fit(disp='off')\n",
    "            print(f\"✅ {asset}: Fit thành công mô hình AR({p_arima})-GARCH({p_garch},{q_garch})\")\n",
    "            \n",
    "        else:\n",
    "            # TRƯỜNG HỢP 2: DÙNG MÔ HÌNH ARIMA ĐƠN GIẢN\n",
    "            model = pm.ARIMA(order=(p_arima, d_arima, q_arima))\n",
    "            fitted_model = model.fit(series)\n",
    "            print(f\"✅ {asset}: Fit thành công mô hình ARIMA({p_arima},{d_arima},{q_arima})\")\n",
    "\n",
    "        # Lưu mô hình đã fit vào dict\n",
    "        all_fitted_models[asset] = fitted_model\n",
    "        \n",
    "    except Exception as e:\n",
    "        print(f\"❌ Lỗi khi fit mô hình cho {asset}: {e}\")"
   ]
  },
  {
   "cell_type": "code",
   "execution_count": null,
   "metadata": {
    "execution": {
     "iopub.execute_input": "2025-07-28T04:30:47.645333Z",
     "iopub.status.busy": "2025-07-28T04:30:47.645074Z",
     "iopub.status.idle": "2025-07-28T04:30:47.688343Z",
     "shell.execute_reply": "2025-07-28T04:30:47.687594Z",
     "shell.execute_reply.started": "2025-07-28T04:30:47.645312Z"
    },
    "trusted": true
   },
   "outputs": [
    {
     "name": "stdout",
     "output_type": "stream",
     "text": [
      "\n",
      "--- Kết quả mô hình cho Crypto_Returns ---\n",
      "                               SARIMAX Results                                \n",
      "==============================================================================\n",
      "Dep. Variable:                      y   No. Observations:                   30\n",
      "Model:                        SARIMAX   Log Likelihood                  43.073\n",
      "Date:                Mon, 28 Jul 2025   AIC                            -82.146\n",
      "Time:                        04:30:47   BIC                            -79.343\n",
      "Sample:                             0   HQIC                           -81.249\n",
      "                                 - 30                                         \n",
      "Covariance Type:                  opg                                         \n",
      "==============================================================================\n",
      "                 coef    std err          z      P>|z|      [0.025      0.975]\n",
      "------------------------------------------------------------------------------\n",
      "intercept     -0.0046      0.011     -0.436      0.663      -0.025       0.016\n",
      "sigma2         0.0033      0.001      5.654      0.000       0.002       0.004\n",
      "===================================================================================\n",
      "Ljung-Box (L1) (Q):                   0.03   Jarque-Bera (JB):                 6.52\n",
      "Prob(Q):                              0.86   Prob(JB):                         0.04\n",
      "Heteroskedasticity (H):               4.36   Skew:                            -0.11\n",
      "Prob(H) (two-sided):                  0.03   Kurtosis:                         5.27\n",
      "===================================================================================\n",
      "\n",
      "Warnings:\n",
      "[1] Covariance matrix calculated using the outer product of gradients (complex-step).\n",
      "\n",
      "--- Kết quả mô hình cho Nexus_Returns ---\n",
      "                               SARIMAX Results                                \n",
      "==============================================================================\n",
      "Dep. Variable:                      y   No. Observations:                   30\n",
      "Model:               SARIMAX(1, 1, 1)   Log Likelihood                 101.656\n",
      "Date:                Mon, 28 Jul 2025   AIC                           -195.313\n",
      "Time:                        04:30:47   BIC                           -189.844\n",
      "Sample:                             0   HQIC                          -193.600\n",
      "                                 - 30                                         \n",
      "Covariance Type:                  opg                                         \n",
      "==============================================================================\n",
      "                 coef    std err          z      P>|z|      [0.025      0.975]\n",
      "------------------------------------------------------------------------------\n",
      "intercept     -0.0005      0.000     -1.600      0.110      -0.001       0.000\n",
      "ar.L1         -0.3447      0.324     -1.065      0.287      -0.979       0.290\n",
      "ma.L1         -0.9054      0.280     -3.231      0.001      -1.455      -0.356\n",
      "sigma2      4.851e-05   1.57e-05      3.083      0.002    1.77e-05    7.93e-05\n",
      "===================================================================================\n",
      "Ljung-Box (L1) (Q):                   0.09   Jarque-Bera (JB):                17.99\n",
      "Prob(Q):                              0.76   Prob(JB):                         0.00\n",
      "Heteroskedasticity (H):               0.45   Skew:                             1.46\n",
      "Prob(H) (two-sided):                  0.22   Kurtosis:                         5.51\n",
      "===================================================================================\n",
      "\n",
      "Warnings:\n",
      "[1] Covariance matrix calculated using the outer product of gradients (complex-step).\n",
      "\n",
      "--- Kết quả mô hình cho Stocks_Returns ---\n",
      "                               SARIMAX Results                                \n",
      "==============================================================================\n",
      "Dep. Variable:                      y   No. Observations:                   30\n",
      "Model:                        SARIMAX   Log Likelihood                  71.685\n",
      "Date:                Mon, 28 Jul 2025   AIC                           -139.371\n",
      "Time:                        04:30:47   BIC                           -136.568\n",
      "Sample:                             0   HQIC                          -138.474\n",
      "                                 - 30                                         \n",
      "Covariance Type:                  opg                                         \n",
      "==============================================================================\n",
      "                 coef    std err          z      P>|z|      [0.025      0.975]\n",
      "------------------------------------------------------------------------------\n",
      "intercept     -0.0021      0.005     -0.430      0.667      -0.012       0.008\n",
      "sigma2         0.0005   9.01e-05      5.461      0.000       0.000       0.001\n",
      "===================================================================================\n",
      "Ljung-Box (L1) (Q):                   0.01   Jarque-Bera (JB):                30.38\n",
      "Prob(Q):                              0.93   Prob(JB):                         0.00\n",
      "Heteroskedasticity (H):               2.98   Skew:                            -1.43\n",
      "Prob(H) (two-sided):                  0.10   Kurtosis:                         7.02\n",
      "===================================================================================\n",
      "\n",
      "Warnings:\n",
      "[1] Covariance matrix calculated using the outer product of gradients (complex-step).\n"
     ]
    }
   ],
   "source": [
    "# Xem kết quả của mô hình \n",
    "print(\"\\n--- Kết quả mô hình cho Crypto_Returns ---\")\n",
    "print(all_fitted_models['Crypto_Returns'].summary())\n",
    "\n",
    "print(\"\\n--- Kết quả mô hình cho Nexus_Returns ---\")\n",
    "print(all_fitted_models['Nexus_Returns'].summary())\n",
    "\n",
    "print(\"\\n--- Kết quả mô hình cho Stocks_Returns ---\")\n",
    "print(all_fitted_models['Stocks_Returns'].summary())"
   ]
  },
  {
   "cell_type": "code",
   "execution_count": null,
   "metadata": {
    "execution": {
     "iopub.execute_input": "2025-07-28T04:30:47.691504Z",
     "iopub.status.busy": "2025-07-28T04:30:47.691198Z",
     "iopub.status.idle": "2025-07-28T04:30:47.700239Z",
     "shell.execute_reply": "2025-07-28T04:30:47.699494Z",
     "shell.execute_reply.started": "2025-07-28T04:30:47.691481Z"
    },
    "trusted": true
   },
   "outputs": [
    {
     "data": {
      "text/plain": [
       "['Crypto_Returns', 'Stocks_Returns', 'Nexus_Returns']"
      ]
     },
     "execution_count": 28,
     "metadata": {},
     "output_type": "execute_result"
    }
   ],
   "source": [
    "assets = list(all_fitted_models.keys())\n",
    "assets"
   ]
  },
  {
   "cell_type": "markdown",
   "metadata": {},
   "source": [
    "# 4. Mô Phỏng Monte Carlo với ARIMA-GARCH để Ước tính Lợi Nhuận & Rủi Ro Hàng Tháng"
   ]
  },
  {
   "cell_type": "code",
   "execution_count": null,
   "metadata": {
    "execution": {
     "iopub.execute_input": "2025-07-28T04:30:47.703653Z",
     "iopub.status.busy": "2025-07-28T04:30:47.703327Z",
     "iopub.status.idle": "2025-07-28T04:30:47.716623Z",
     "shell.execute_reply": "2025-07-28T04:30:47.715856Z",
     "shell.execute_reply.started": "2025-07-28T04:30:47.703628Z"
    },
    "trusted": true
   },
   "outputs": [],
   "source": [
    "def simulate_arima_path(arima_model, n_days):\n",
    "    \"\"\"\n",
    "    Hàm này mô phỏng một chuỗi lợi nhuận cho MỘT kịch bản từ MỘT mô hình ARIMA.\n",
    "    \"\"\"\n",
    "    temp_model = copy.deepcopy(arima_model)\n",
    "    simulated_daily_returns = []\n",
    "\n",
    "    for _ in range(n_days):\n",
    "        prediction_result = temp_model.predict(n_periods=1)\n",
    "        mean_forecast = np.asarray(prediction_result)[0]\n",
    "        \n",
    "        # Lấy mảng các tham số từ mô hình\n",
    "        model_params = temp_model.params()\n",
    "        \n",
    "        # SỬA LỖI: Lấy phương sai (sigma2) bằng cách truy cập phần tử CUỐI CÙNG của mảng params.\n",
    "        error_variance = model_params[-1]\n",
    "        \n",
    "        # Đảm bảo phương sai không phải là số âm (rất hiếm nhưng có thể xảy ra do lỗi tối ưu)\n",
    "        if error_variance < 0:\n",
    "            error_variance = 0\n",
    "\n",
    "        random_shock = np.random.normal(loc=0, scale=np.sqrt(error_variance)) # Tạo 1 cú sốc \n",
    "        simulated_return_today = mean_forecast + random_shock\n",
    "        \n",
    "        simulated_daily_returns.append(simulated_return_today)\n",
    "        \n",
    "        temp_model.update(simulated_return_today)\n",
    "        \n",
    "    return simulated_daily_returns"
   ]
  },
  {
   "cell_type": "code",
   "execution_count": null,
   "metadata": {
    "execution": {
     "iopub.execute_input": "2025-07-28T04:30:47.720828Z",
     "iopub.status.busy": "2025-07-28T04:30:47.719837Z",
     "iopub.status.idle": "2025-07-28T04:30:47.733731Z",
     "shell.execute_reply": "2025-07-28T04:30:47.732798Z",
     "shell.execute_reply.started": "2025-07-28T04:30:47.720796Z"
    },
    "trusted": true
   },
   "outputs": [],
   "source": [
    "def run_monte_carlo_simulation(all_fitted_models, n_simulations=5000, n_days=30):\n",
    "    \"\"\"\n",
    "    Hàm mô phỏng chính, gọi các hàm con tương ứng với từng loại model.\n",
    "    \"\"\"\n",
    "    assets = list(all_fitted_models.keys())\n",
    "    all_monthly_returns = []\n",
    "\n",
    "    print(f\"🚀 Bắt đầu {n_simulations} kịch bản mô phỏng cho {n_days} ngày tới...\")\n",
    "\n",
    "    # Vòng lặp cho mỗi kịch bản (ví dụ: 100 lần)\n",
    "    for _ in tqdm(range(n_simulations), desc=\"Đang mô phỏng\"):\n",
    "        \n",
    "        # Dict để lưu tổng lợi nhuận tháng của kịch bản này\n",
    "        path_total_returns = {}\n",
    "\n",
    "        # Lặp qua từng tài sản (Crypto, Stock, Nexus)\n",
    "        for asset in assets:\n",
    "            model = all_fitted_models[asset]\n",
    "            \n",
    "            # Khởi tạo một chuỗi rỗng cho kịch bản của tài sản này\n",
    "            simulated_path = []\n",
    "\n",
    "            # KIỂM TRA LOẠI MODEL VÀ GỌI HÀM MÔ PHỎNG TƯƠNG ỨNG\n",
    "            if isinstance(model, pm.arima.ARIMA):\n",
    "                # Nếu là ARIMA, gọi hàm phụ ta vừa tạo ở trên\n",
    "                simulated_path = simulate_arima_path(model, n_days)\n",
    "                \n",
    "            elif isinstance(model, ARCHModelResult):\n",
    "                # Nếu là GARCH, dùng phương thức forecast có sẵn\n",
    "                forecasts = model.forecast(horizon=n_days, method='simulation', simulations=1)\n",
    "                simulated_path = forecasts.simulations.values[0, :, 0]\n",
    "            \n",
    "            else:\n",
    "                raise TypeError(f\"Loại model của tài sản {asset} không được hỗ trợ.\")\n",
    "\n",
    "            # Tính tổng lợi nhuận của kịch bản này và lưu lại\n",
    "            path_total_returns[asset] = np.sum(simulated_path)\n",
    "\n",
    "        all_monthly_returns.append(path_total_returns)\n",
    "\n",
    "    # --- Tổng hợp kết quả ---\n",
    "    results_df = pd.DataFrame(all_monthly_returns)\n",
    "    monthly_mu = results_df.mean()\n",
    "    monthly_S = results_df.cov()\n",
    "    \n",
    "    print(\"\\n✅ Mô phỏng hoàn tất!\")\n",
    "    return monthly_mu, monthly_S"
   ]
  },
  {
   "cell_type": "code",
   "execution_count": null,
   "metadata": {
    "execution": {
     "iopub.execute_input": "2025-07-28T04:30:47.735304Z",
     "iopub.status.busy": "2025-07-28T04:30:47.735068Z",
     "iopub.status.idle": "2025-07-28T04:30:47.757411Z",
     "shell.execute_reply": "2025-07-28T04:30:47.756353Z",
     "shell.execute_reply.started": "2025-07-28T04:30:47.735287Z"
    },
    "trusted": true
   },
   "outputs": [
    {
     "name": "stdout",
     "output_type": "stream",
     "text": [
      "Các cảnh báo đã được tắt.\n"
     ]
    }
   ],
   "source": [
    "import warnings\n",
    "from statsmodels.tools.sm_exceptions import ConvergenceWarning, ValueWarning\n",
    "\n",
    "# Bỏ qua các cảnh báo về hội tụ và chỉ số\n",
    "warnings.filterwarnings(\"ignore\", category=ConvergenceWarning)\n",
    "warnings.filterwarnings(\"ignore\", category=UserWarning)\n",
    "warnings.filterwarnings(\"ignore\", category=ValueWarning)\n",
    "\n",
    "print(\"Các cảnh báo đã được tắt.\")"
   ]
  },
  {
   "cell_type": "markdown",
   "metadata": {},
   "source": [
    "### Giải thích bỏ qua các cảnh báo\n",
    "Nếu không bỏ qua thì có thể sẽ có các cảnh báo sau:\n",
    "\n",
    "* **ValueWarning**: Cảnh báo vô hại, chỉ báo rằng index kết quả dự báo là số nguyên thay vì ngày tháng. Điều này bình thường và đã được xử lý trong code.\n",
    "* **ConvergenceWarning**: Là cảnh báo chính. Trong mô phỏng Monte Carlo (`simulate_arima_path`), do tạo ra các cú sốc ngẫu nhiên lớn, mô hình đôi khi khó hội tụ. Đây là đặc trưng tự nhiên của mô phỏng.\n",
    "\n",
    "Ta sẽ bỏ qua vì\n",
    "\n",
    "* Có thể bỏ qua an toàn.\n",
    "* Các cảnh báo này xuất hiện rải rác, không ảnh hưởng đến kết quả cuối như kỳ vọng lợi nhuận (`mu`) hay ma trận rủi ro (`S`) do sai số được trung bình hóa qua nhiều chuỗi mô phỏng.\n"
   ]
  },
  {
   "cell_type": "code",
   "execution_count": null,
   "metadata": {
    "execution": {
     "iopub.execute_input": "2025-07-28T04:30:47.758787Z",
     "iopub.status.busy": "2025-07-28T04:30:47.758524Z",
     "iopub.status.idle": "2025-07-28T04:30:58.629854Z",
     "shell.execute_reply": "2025-07-28T04:30:58.628092Z",
     "shell.execute_reply.started": "2025-07-28T04:30:47.758768Z"
    },
    "trusted": true
   },
   "outputs": [
    {
     "name": "stdout",
     "output_type": "stream",
     "text": [
      "🚀 Bắt đầu 10 kịch bản mô phỏng cho 10 ngày tới...\n"
     ]
    },
    {
     "name": "stderr",
     "output_type": "stream",
     "text": [
      "Đang mô phỏng: 100%|██████████| 10/10 [00:10<00:00,  1.09s/it]"
     ]
    },
    {
     "name": "stdout",
     "output_type": "stream",
     "text": [
      "\n",
      "✅ Mô phỏng hoàn tất!\n",
      "\n",
      "--- Vector Lợi nhuận Kỳ vọng Hàng tháng (μ) ---\n",
      "Crypto_Returns   -0.021045\n",
      "Stocks_Returns   -0.009687\n",
      "Nexus_Returns    -0.073058\n",
      "dtype: float64\n",
      "\n",
      "--- Ma trận Hiệp phương sai Hàng tháng (S) ---\n",
      "                Crypto_Returns  Stocks_Returns  Nexus_Returns\n",
      "Crypto_Returns        0.018735       -0.000896      -0.000588\n",
      "Stocks_Returns       -0.000896        0.002757      -0.000271\n",
      "Nexus_Returns        -0.000588       -0.000271       0.000684\n"
     ]
    },
    {
     "name": "stderr",
     "output_type": "stream",
     "text": [
      "\n"
     ]
    }
   ],
   "source": [
    "# Chạy mô phỏng để kiểm tra - lưu ý ở đây mô phỏng 10 trường hợp để demo kết quả chứ không dùng để tính toán \n",
    "# Montecarlo cần rất nhiều trường hợp để mô phỏng mang ý nghĩa thống kê \n",
    "monthly_mu, monthly_S = run_monte_carlo_simulation(\n",
    "    all_fitted_models=all_fitted_models,\n",
    "    n_simulations=10,\n",
    "    n_days=10\n",
    ")\n",
    "\n",
    "# Hiển thị kết quả\n",
    "print(\"\\n--- Vector Lợi nhuận Kỳ vọng Hàng tháng (μ) ---\")\n",
    "print(monthly_mu)\n",
    "print(\"\\n--- Ma trận Hiệp phương sai Hàng tháng (S) ---\")\n",
    "print(monthly_S)"
   ]
  },
  {
   "cell_type": "code",
   "execution_count": null,
   "metadata": {
    "execution": {
     "iopub.execute_input": "2025-07-28T04:30:58.630947Z",
     "iopub.status.busy": "2025-07-28T04:30:58.630686Z",
     "iopub.status.idle": "2025-07-28T04:30:58.643167Z",
     "shell.execute_reply": "2025-07-28T04:30:58.642461Z",
     "shell.execute_reply.started": "2025-07-28T04:30:58.630925Z"
    },
    "trusted": true
   },
   "outputs": [
    {
     "name": "stdout",
     "output_type": "stream",
     "text": [
      "✅ Đã tạo lại các tham số thành công!\n",
      "\n",
      "--- Vector Lợi nhuận Kỳ vọng Hàng tháng (μ) ---\n",
      "Crypto_Returns   -0.021045\n",
      "Stocks_Returns   -0.009687\n",
      "Nexus_Returns    -0.073058\n",
      "dtype: float64\n",
      "\n",
      "--- Ma trận Hiệp phương sai Hàng tháng (S) ---\n",
      "                Crypto_Returns  Stocks_Returns  Nexus_Returns\n",
      "Crypto_Returns        0.018735       -0.000896      -0.000588\n",
      "Stocks_Returns       -0.000896        0.002757      -0.000271\n",
      "Nexus_Returns        -0.000588       -0.000271       0.000684\n"
     ]
    }
   ],
   "source": [
    "# --- Hiển thị kết quả để xác nhận ---\n",
    "print(\"✅ Đã tạo lại các tham số thành công!\")\n",
    "print(\"\\n--- Vector Lợi nhuận Kỳ vọng Hàng tháng (μ) ---\")\n",
    "print(monthly_mu)\n",
    "print(\"\\n--- Ma trận Hiệp phương sai Hàng tháng (S) ---\")\n",
    "print(monthly_S)"
   ]
  },
  {
   "cell_type": "markdown",
   "metadata": {},
   "source": [
    "# 5. Tối ưu hóa Danh mục & Tìm tỷ trọng tối ưu bằng Markovist"
   ]
  },
  {
   "cell_type": "markdown",
   "metadata": {},
   "source": [
    "## 5.1 Thêm gửi tiết kiệm vào trong danh mục"
   ]
  },
  {
   "cell_type": "code",
   "execution_count": null,
   "metadata": {
    "execution": {
     "iopub.execute_input": "2025-07-28T04:30:58.644699Z",
     "iopub.status.busy": "2025-07-28T04:30:58.643928Z",
     "iopub.status.idle": "2025-07-28T04:30:58.675615Z",
     "shell.execute_reply": "2025-07-28T04:30:58.674758Z",
     "shell.execute_reply.started": "2025-07-28T04:30:58.644672Z"
    },
    "trusted": true
   },
   "outputs": [
    {
     "name": "stdout",
     "output_type": "stream",
     "text": [
      "--- Vector Lợi nhuận kỳ vọng 4 tài sản ---\n",
      "Crypto_Returns   -0.021045\n",
      "Stocks_Returns   -0.009687\n",
      "Nexus_Returns    -0.073058\n",
      "Tiet_Kiem         0.006250\n",
      "dtype: float64\n",
      "\n",
      "--- Ma trận Hiệp phương sai 4 tài sản ---\n",
      "                Crypto_Returns  Stocks_Returns  Nexus_Returns  Tiet_Kiem\n",
      "Crypto_Returns        0.018735       -0.000896      -0.000588        0.0\n",
      "Stocks_Returns       -0.000896        0.002757      -0.000271        0.0\n",
      "Nexus_Returns        -0.000588       -0.000271       0.000684        0.0\n",
      "Tiet_Kiem             0.000000        0.000000       0.000000        0.0\n"
     ]
    }
   ],
   "source": [
    "# Lợi nhuận kỳ vọng hàng tháng của tiết kiệm\n",
    "tiet_kiem_mu = 0.075 / 12\n",
    "\n",
    "# Thêm vào vector mu\n",
    "# Giả sử tên là 'Tiet_Kiem'\n",
    "mu_4_assets = pd.concat([monthly_mu, pd.Series({'Tiet_Kiem': tiet_kiem_mu})])\n",
    "\n",
    "\n",
    "# Mở rộng ma trận S thành 4x4\n",
    "# Tạo một DataFrame 4x4 với giá trị 0\n",
    "S_4_assets = pd.DataFrame(np.zeros((4, 4)),\n",
    "                          index=mu_4_assets.index,\n",
    "                          columns=mu_4_assets.index)\n",
    "\n",
    "# Chép các giá trị cũ của ma trận 3x3 vào\n",
    "S_4_assets.iloc[:3, :3] = monthly_S\n",
    "num_assets = 4\n",
    "\n",
    "print(\"--- Vector Lợi nhuận kỳ vọng 4 tài sản ---\")\n",
    "print(mu_4_assets)\n",
    "print(\"\\n--- Ma trận Hiệp phương sai 4 tài sản ---\")\n",
    "print(S_4_assets)"
   ]
  },
  {
   "cell_type": "markdown",
   "metadata": {},
   "source": [
    "## 5.2 Cài đặt mô hình Markovist"
   ]
  },
  {
   "cell_type": "markdown",
   "metadata": {},
   "source": [
    "Để để mô hình tập trung vào các xu hướng gần đây và trở nên linh hoạt hơn ta sẽ sử dụng \"cửa sổ trượt\" (rolling window) thay vì \"cửa sổ mở rộng\" (expanding window)"
   ]
  },
  {
   "cell_type": "code",
   "execution_count": null,
   "metadata": {
    "execution": {
     "iopub.execute_input": "2025-07-28T04:30:58.679079Z",
     "iopub.status.busy": "2025-07-28T04:30:58.678122Z",
     "iopub.status.idle": "2025-07-28T04:30:58.692802Z",
     "shell.execute_reply": "2025-07-28T04:30:58.691825Z",
     "shell.execute_reply.started": "2025-07-28T04:30:58.679048Z"
    },
    "trusted": true
   },
   "outputs": [],
   "source": [
    "# Sử dụng các tham số mu và S đã được tạo ở bước trước\n",
    "# mu_4_assets, S_4_assets\n",
    "\n",
    "# --- Thiết lập và chạy tối ưu hóa ---\n",
    "RISK_FREE_RATE = 0.075 / 12\n",
    "constraints = ({'type': 'eq', 'fun': lambda w: np.sum(w) - 1})\n",
    "\n",
    "def portfolio_performance(weights, mu, S):\n",
    "    p_return = np.sum(mu * weights)\n",
    "    p_volatility = np.sqrt(np.dot(weights.T, np.dot(S, weights)))\n",
    "    return p_return, p_volatility\n",
    "\n",
    "def negative_sharpe_ratio(weights, mu, S, risk_free_rate):\n",
    "    p_return, p_volatility = portfolio_performance(weights, mu, S)\n",
    "    if p_volatility == 0: return np.inf\n",
    "    return -(p_return - risk_free_rate) / p_volatility\n",
    "\n",
    "# num_assets = len(mu_4_assets)"
   ]
  },
  {
   "cell_type": "code",
   "execution_count": null,
   "metadata": {
    "execution": {
     "execution_failed": "2025-07-28T06:04:51.895Z",
     "iopub.execute_input": "2025-07-28T04:30:58.696340Z",
     "iopub.status.busy": "2025-07-28T04:30:58.695052Z"
    },
    "trusted": true
   },
   "outputs": [
    {
     "name": "stdout",
     "output_type": "stream",
     "text": [
      "==================================================\n",
      "🚀 Bắt đầu Backtest với cửa sổ trượt 30 ngày...\n",
      "==================================================\n",
      "\n",
      "--- Đang xử lý Tháng 1/11 ---\n",
      "   + Đang fit lại các model...\n",
      "   + Fit model hoàn tất.\n",
      "   + Đang chạy Monte Carlo cho Tháng 1...\n",
      "🚀 Bắt đầu 250 kịch bản mô phỏng cho 30 ngày tới...\n"
     ]
    },
    {
     "name": "stderr",
     "output_type": "stream",
     "text": [
      "Đang mô phỏng: 100%|██████████| 250/250 [14:45<00:00,  3.54s/it]\n"
     ]
    },
    {
     "name": "stdout",
     "output_type": "stream",
     "text": [
      "\n",
      "✅ Mô phỏng hoàn tất!\n",
      "   + Đang tối ưu hóa cho Tháng 1...\n",
      "✅ Hoàn tất xử lý cho Tháng 1.\n",
      "   + Đang cập nhật dữ liệu cho vòng lặp sau...\n",
      "   + Dữ liệu training được cập nhật. Kích thước mới: 30 dòng.\n",
      "\n",
      "--- Đang xử lý Tháng 2/11 ---\n",
      "   + Đang fit lại các model...\n",
      "   + Fit model hoàn tất.\n",
      "   + Đang chạy Monte Carlo cho Tháng 2...\n",
      "🚀 Bắt đầu 250 kịch bản mô phỏng cho 30 ngày tới...\n"
     ]
    },
    {
     "name": "stderr",
     "output_type": "stream",
     "text": [
      "Đang mô phỏng:  84%|████████▍ | 211/250 [12:45<02:22,  3.64s/it]"
     ]
    }
   ],
   "source": [
    "# CÁC HÀM CẦN THIẾT (TỪ CÁC BƯỚC TRƯỚC)\n",
    "# fit_all_models, simulate_arima_path, run_monte_carlo_simulation, portfolio_performance, negative_sharpe_ratio\n",
    "\n",
    "# --- BẮT ĐẦU QUÁ TRÌNH BACKTEST CHO 4 TÀI SẢN ---\n",
    "\n",
    "### THÊM SIÊU THAM SỐ MỚI ###\n",
    "TRAINING_WINDOW_DAYS = 30 # Chỉ dùng 60 ngày dữ liệu gần nhất để training\n",
    "\n",
    "days_in_month = 30\n",
    "n_months_to_backtest = test_day // days_in_month\n",
    "all_optimal_weights = []\n",
    "asset_names_4 = []\n",
    "\n",
    "# Dữ liệu training ban đầu\n",
    "rolling_training_data = daily_log_returns.copy()\n",
    "\n",
    "# Lãi suất tiết kiệm hàng tháng\n",
    "tiet_kiem_mu = 0.075 / 12\n",
    "\n",
    "print(\"=\"*50)\n",
    "print(f\"🚀 Bắt đầu Backtest với cửa sổ trượt {TRAINING_WINDOW_DAYS} ngày...\")\n",
    "print(\"=\"*50)\n",
    "\n",
    "for i in range(n_months_to_backtest):\n",
    "    print(f\"\\n--- Đang xử lý Tháng {i+1}/{n_months_to_backtest} ---\")\n",
    "    \n",
    "    # 1. Fit lại model cho 3 tài sản rủi ro\n",
    "    all_fitted_models = fit_all_models(rolling_training_data)\n",
    "    \n",
    "    # 2. Chạy mô phỏng Monte Carlo\n",
    "    print(f\"   + Đang chạy Monte Carlo cho Tháng {i+1}...\")\n",
    "    mu_risky, S_risky = run_monte_carlo_simulation(\n",
    "        all_fitted_models=all_fitted_models,\n",
    "        n_simulations=100,\n",
    "        n_days=days_in_month\n",
    "    )\n",
    "\n",
    "    # 3. \"Ghép\" tài sản tiết kiệm vào kết quả mô phỏng\n",
    "    mu_4_assets = pd.concat([mu_risky, pd.Series({'Tiet_Kiem': tiet_kiem_mu})])\n",
    "    asset_names_4 = mu_4_assets.index\n",
    "    \n",
    "    S_4_assets = pd.DataFrame(np.zeros((4, 4)), index=asset_names_4, columns=asset_names_4)\n",
    "    S_4_assets.iloc[:3, :3] = S_risky\n",
    "\n",
    "    # 4. Chạy tối ưu hóa Markowitz\n",
    "    print(f\"   + Đang tối ưu hóa cho Tháng {i+1}...\")\n",
    "    num_assets = 4\n",
    "    bounds = tuple((0, 1) for _ in range(num_assets))\n",
    "    \n",
    "    initial_weights = np.array(num_assets * [1. / num_assets,])\n",
    "    args = (mu_4_assets, S_4_assets, RISK_FREE_RATE)\n",
    "    \n",
    "    optimal_result = minimize(fun=negative_sharpe_ratio, x0=initial_weights, args=args,\n",
    "                              method='SLSQP', bounds=bounds, constraints=constraints)\n",
    "    \n",
    "    # 5. Lưu lại tỷ trọng tối ưu\n",
    "    current_weights = optimal_result.x\n",
    "    all_optimal_weights.append(current_weights)\n",
    "    print(f\"✅ Hoàn tất xử lý cho Tháng {i+1}.\")\n",
    "\n",
    "    # 6. Cập nhật dữ liệu training cho tháng tiếp theo\n",
    "    print(\"   + Đang cập nhật dữ liệu cho vòng lặp sau...\")\n",
    "    start_index = i * days_in_month\n",
    "    end_index = (i + 1) * days_in_month\n",
    "    \n",
    "    new_data_from_test = daily_log_returns_test.iloc[start_index:end_index]\n",
    "    \n",
    "    ### CẬP NHẬT LOGIC CỬA SỔ TRƯỢT ###\n",
    "    # Nối dữ liệu mới vào\n",
    "    combined_data = pd.concat([rolling_training_data, new_data_from_test])\n",
    "    \n",
    "    # Cắt lại DataFrame để chỉ giữ lại N ngày gần nhất\n",
    "    rolling_training_data = combined_data.tail(TRAINING_WINDOW_DAYS)\n",
    "    print(f\"   + Dữ liệu training được cập nhật. Kích thước mới: {len(rolling_training_data)} dòng.\")\n",
    "    \n",
    "\n",
    "# --- TỔNG HỢP KẾT QUẢ ---\n",
    "print(\"\\n\\n--- Backtest hoàn tất! ---\")\n",
    "backtest_allocation_df = pd.DataFrame(\n",
    "    all_optimal_weights,\n",
    "    columns=asset_names_4,\n",
    "    index=[f'Tháng {i+1}' for i in range(n_months_to_backtest)]\n",
    ")\n",
    "\n",
    "print(\"\\n--- Bảng phân bổ tỷ trọng tự động qua 3 tháng ---\")\n",
    "print(backtest_allocation_df)"
   ]
  },
  {
   "cell_type": "code",
   "execution_count": null,
   "metadata": {
    "execution": {
     "execution_failed": "2025-07-28T06:04:51.895Z"
    },
    "trusted": true
   },
   "outputs": [],
   "source": [
    "# Vẽ biểu đồ\n",
    "ax = backtest_allocation_df.plot(\n",
    "    kind='bar',\n",
    "    stacked=True,\n",
    "    figsize=(10, 7),\n",
    "    cmap='viridis', # Bảng màu\n",
    "    rot=0 # Xoay nhãn trục x\n",
    ")\n",
    "\n",
    "# --- Định dạng biểu đồ cho đẹp hơn ---\n",
    "ax.set_title(f'Sự Thay Đổi Phân Bổ Danh Mục Qua {n_months_to_backtest} Tháng', fontsize=16)\n",
    "ax.set_ylabel('Tỷ trọng phân bổ', fontsize=12)\n",
    "ax.set_xlabel('Thời gian', fontsize=12)\n",
    "ax.legend(title='Tài sản', bbox_to_anchor=(1.05, 1), loc='upper left')\n",
    "ax.yaxis.set_major_formatter(mtick.PercentFormatter(1.0)) # Định dạng trục y là %\n",
    "\n",
    "# Thêm nhãn giá trị (tỷ lệ %) vào từng phần của cột\n",
    "for c in ax.containers:\n",
    "    labels = [f'{w*100:,.1f}%' for w in c.datavalues]\n",
    "    ax.bar_label(c, labels=labels, label_type='center', color='white', fontsize=10, fontweight='bold')\n",
    "\n",
    "plt.tight_layout()\n",
    "plt.savefig(\"portfolio_allocation.png\")\n",
    "print(\"Biểu đồ đã được lưu với tên portfolio_allocation.png\")"
   ]
  },
  {
   "cell_type": "markdown",
   "metadata": {},
   "source": [
    "# 6. Mô phỏng giá trị danh mục qua các tháng"
   ]
  },
  {
   "cell_type": "markdown",
   "metadata": {},
   "source": [
    "## 6.1 Chuẩn bị các siêu tham số cho quá trình mô phỏng"
   ]
  },
  {
   "cell_type": "code",
   "execution_count": null,
   "metadata": {
    "execution": {
     "execution_failed": "2025-07-28T06:04:51.895Z"
    },
    "trusted": true
   },
   "outputs": [],
   "source": [
    "# --- Dữ liệu đầu vào ---\n",
    "# 1. Bảng phân bổ tỷ trọng tối ưu qua 3 tháng\n",
    "allocation_data = {\n",
    "    col: backtest_allocation_df[col].tolist()\n",
    "    for col in backtest_allocation_df.columns\n",
    "}\n",
    "\n",
    "index_labels = [f'Tháng {i+1}' for i in range(n_months_to_backtest)]\n",
    "backtest_allocation_df = pd.DataFrame(allocation_data, index=index_labels)\n",
    "\n",
    "# 2. Các tham số ban đầu\n",
    "initial_capital = 100000\n",
    "days_in_month = 30 # Backtest đang chạy với 30 ngày/tháng\n",
    "n_months = test_day//days_in_month \n",
    "tiet_kiem_mu_monthly = 0.075 / 12\n",
    "\n",
    "print(\"--- Bảng phân bổ tỷ trọng sẽ sử dụng ---\")\n",
    "print(backtest_allocation_df)"
   ]
  },
  {
   "cell_type": "markdown",
   "metadata": {},
   "source": [
    "## 6.2 Áp dụng chiến lược tối ưu hóa chốt lời/ cắt lỗ phù hợp "
   ]
  },
  {
   "cell_type": "markdown",
   "metadata": {},
   "source": [
    "Logic hiện tại đang đặt mức chốt lời (TP) và cắt lỗ (SL) bằng nhau, dựa trên độ biến động (volatility). Điều này có nghĩa là tỷ lệ Risk/Reward (R/R) đang là 1:1.\n",
    "Để an toàn hơn, chúng ta cần một tỷ lệ R/R tốt hơn, ví dụ như 1:2 hoặc 1:3. Tức là, bạn chấp nhận rủi ro mất 1 đồng để có cơ hội kiếm được 2 hoặc 3 đồng.\n",
    "\n",
    "  * **Cắt lỗ sớm:** Giới hạn mức lỗ ở một khoảng nhỏ hơn so với biến động tự nhiên của tài sản.\n",
    "  * **Chốt lời muộn hơn:** Cho phép tài sản có đủ không gian để tăng trưởng và chỉ chốt lời khi đạt được một mức lợi nhuận đáng kể.\n",
    "\n",
    "**Cách thực hiện:** Chúng ta sẽ sử dụng chính `volatility` đã tính toán làm một \"thước đo\" cơ bản. Sau đó, ta sẽ nhân nó với các **hệ số điều chỉnh** để tạo ra các mức TP/SL bất đối xứng.\n",
    "\n",
    "  * `Mức cắt lỗ = volatility * HỆ_SỐ_CẮT_LỖ` (ví dụ: hệ số 0.5 để cắt lỗ sớm hơn)\n",
    "  * `Mức chốt lời = volatility * HỆ_SỐ_CHỐT_LỜI` (ví dụ: hệ số 1.5 để chốt lời muộn hơn)"
   ]
  },
  {
   "cell_type": "code",
   "execution_count": null,
   "metadata": {
    "execution": {
     "execution_failed": "2025-07-28T06:04:51.895Z"
    },
    "trusted": true
   },
   "outputs": [],
   "source": [
    "### THÊM SIÊU THAM SỐ MỚI ĐỂ ĐIỀU CHỈNH TỶ LỆ R/R ###\n",
    "TAKE_PROFIT_MULTIPLIER = 1.5  # Mức chốt lời = 1.5 lần độ biến động\n",
    "STOP_LOSS_MULTIPLIER = 0.5   # Mức cắt lỗ = 0.5 lần độ biến động\n",
    "                             # -> Tỷ lệ R/R mục tiêu là 1:3 (0.5 so với 1.5)\n",
    "\n",
    "def calculate_dynamic_tpsl(training_data, risky_assets):\n",
    "    \"\"\"\n",
    "    Tính toán mức TP/SL linh động với các hệ số điều chỉnh bất đối xứng.\n",
    "    \"\"\"\n",
    "    trading_days_per_year = {\n",
    "        'Crypto_Returns': 365,\n",
    "        'Stocks_Returns': 252,\n",
    "        'Nexus_Returns': 252\n",
    "    }\n",
    "    \n",
    "    daily_volatility = training_data[risky_assets].std()\n",
    "    \n",
    "    take_profit_levels = {}\n",
    "    stop_loss_levels = {}\n",
    "    \n",
    "    for asset in risky_assets:\n",
    "        sqrt_trading_days = np.sqrt(trading_days_per_year[asset])\n",
    "        annualized_volatility = daily_volatility[asset] * sqrt_trading_days\n",
    "        \n",
    "        # Áp dụng hệ số điều chỉnh\n",
    "        take_profit_levels[asset] = annualized_volatility * TAKE_PROFIT_MULTIPLIER\n",
    "        stop_loss_levels[asset] = annualized_volatility * STOP_LOSS_MULTIPLIER\n",
    "        \n",
    "    return take_profit_levels, stop_loss_levels"
   ]
  },
  {
   "cell_type": "markdown",
   "metadata": {},
   "source": [
    "Để mô phỏng tiền tiết kiệm chỉ được rút vào cuối kì hạn, chúng ta cần một nơi để giữ số tiền bán được giữa kỳ. Giải pháp là tạo ra một tài khoản thứ năm gọi là **\"Cash\" (Tiền mặt)**.\n",
    "\n",
    "1.  **`Tiet_Kiem`**: Sẽ được phân bổ vốn vào **đầu tháng** và bị **khóa**. Giá trị của nó không thay đổi trong suốt 30 ngày.\n",
    "2.  **`Cash`**: Sẽ bắt đầu bằng 0 vào đầu mỗi tháng. Nó sẽ là nơi **nhận tiền** khi một tài sản rủi ro được bán do chốt lời/cắt lỗ. Số tiền này sẽ được giữ ở đó cho đến kỳ tái cân bằng tiếp theo.\n",
    "3.  **Lãi suất `Tiet_Kiem`**: Sẽ được tính dựa trên số vốn **ban đầu** đã gửi vào đầu tháng."
   ]
  },
  {
   "cell_type": "code",
   "execution_count": null,
   "metadata": {
    "execution": {
     "execution_failed": "2025-07-28T06:04:51.895Z"
    },
    "trusted": true
   },
   "outputs": [],
   "source": [
    "# Phí giao dịch (giữ nguyên)\n",
    "TRANSACTION_FEES = {\n",
    "    'Crypto_Returns': 0.001,\n",
    "    'Stocks_Returns': 0.0015,\n",
    "    'Nexus_Returns': avg_transaction_cost_nexus\n",
    "}\n",
    "\n",
    "print(\"🚀 Đang mô phỏng chiến lược (TP/SL linh động theo Volatility)...\")\n",
    "\n",
    "# --- Thiết lập ---\n",
    "risky_assets = ['Crypto_Returns', 'Stocks_Returns', 'Nexus_Returns']\n",
    "all_asset_names = risky_assets + ['Tiet_Kiem', 'Cash']\n",
    "current_capital = initial_capital\n",
    "daily_history_list = []\n",
    "trade_log = []\n",
    "total_fees_paid = 0\n",
    "previous_asset_values = pd.Series(0, index=all_asset_names)\n",
    "previous_asset_values['Cash'] = initial_capital\n",
    "\n",
    "# Lặp qua từng tháng\n",
    "for i in range(n_months):\n",
    "    weights = backtest_allocation_df.iloc[i]\n",
    "    \n",
    "    # TÍNH TOÁN TP/SL LINH ĐỘNG VÀO ĐẦU MỖI THÁNG\n",
    "    TAKE_PROFIT_LEVELS, STOP_LOSS_LEVELS = calculate_dynamic_tpsl(rolling_training_data, risky_assets)\n",
    "    \n",
    "    print(f\"\\n--- Tháng {i+1}: Các mức TP/SL bất đối xứng được cập nhật ---\")\n",
    "    for asset in risky_assets:\n",
    "        print(f\"  - {asset.replace('_Returns', '')}: TP: {TAKE_PROFIT_LEVELS[asset]:.2%}, SL: {STOP_LOSS_LEVELS[asset]:.2%}\")\n",
    "\n",
    "    # --- TÍNH PHÍ GIAO DỊCH KHI TÁI CÂN BẰNG ---\n",
    "    # (Phần còn lại của code giữ nguyên y hệt như trước)\n",
    "    target_values = current_capital * weights\n",
    "    trade_values = (target_values - previous_asset_values).abs()\n",
    "    rebalancing_fees = 0\n",
    "    for asset in risky_assets:\n",
    "        rebalancing_fees += trade_values.get(asset, 0) * TRANSACTION_FEES.get(asset, 0)\n",
    "    \n",
    "    current_capital -= rebalancing_fees\n",
    "    total_fees_paid += rebalancing_fees\n",
    "    print(f\"   + Phí tái cân bằng: {rebalancing_fees:,.2f}\")\n",
    "\n",
    "    # Phân bổ vốn sau khi đã trừ phí\n",
    "    asset_values = pd.Series(current_capital * weights)\n",
    "    if 'Cash' not in asset_values.index: asset_values['Cash'] = 0.0\n",
    "    asset_values = asset_values.reindex(all_asset_names, fill_value=0.0)\n",
    "\n",
    "    initial_month_values = asset_values.copy()\n",
    "    triggered_assets = {asset: False for asset in risky_assets}\n",
    "    \n",
    "    start_index = i * days_in_month\n",
    "    end_index = (i + 1) * days_in_month\n",
    "    month_data = daily_log_returns_test.iloc[start_index:end_index]\n",
    "    \n",
    "    # Lặp qua từng ngày trong tháng\n",
    "    for day_index, row in month_data.iterrows():\n",
    "        # Cập nhật giá trị\n",
    "        for asset in risky_assets:\n",
    "            if not triggered_assets[asset] and pd.notna(row[asset]):\n",
    "                asset_values[asset] *= np.exp(row[asset])\n",
    "\n",
    "        # Kiểm tra TP/SL với các mức linh động\n",
    "        for asset in risky_assets:\n",
    "            if not triggered_assets[asset] and initial_month_values[asset] > 0:\n",
    "                pnl_percent = (asset_values[asset] - initial_month_values[asset]) / initial_month_values[asset]\n",
    "                \n",
    "                ### THAY ĐỔI 2: Lấy mức TP/SL riêng của từng tài sản ###\n",
    "                tp_level = TAKE_PROFIT_LEVELS.get(asset)\n",
    "                sl_level = STOP_LOSS_LEVELS.get(asset)\n",
    "                \n",
    "                if pnl_percent >= tp_level or pnl_percent <= -sl_level:\n",
    "                    event = \"CHỐT LỜI\" if pnl_percent > 0 else \"CẮT LỖ\"\n",
    "                    date_of_event = row['Time'].date()\n",
    "                    sale_value = asset_values[asset]\n",
    "                    fee = sale_value * TRANSACTION_FEES.get(asset, 0)\n",
    "                    total_fees_paid += fee\n",
    "                    log_entry = (f\"Ngày {str(date_of_event)}: {event} {asset} ({pnl_percent*100:+.2f}%). \"\n",
    "                                 f\"Giá trị bán: {sale_value:,.2f}, Phí: {fee:,.2f}\")\n",
    "                    trade_log.append(log_entry)\n",
    "                    asset_values['Cash'] += sale_value - fee\n",
    "                    asset_values[asset] = 0\n",
    "                    triggered_assets[asset] = True\n",
    "        \n",
    "        daily_snapshot = asset_values.copy()\n",
    "        daily_snapshot['Date'] = row['Time']\n",
    "        daily_history_list.append(daily_snapshot)\n",
    "\n",
    "    previous_asset_values = asset_values.copy()\n",
    "    capital_at_month_end = asset_values.sum()\n",
    "    lai_tiet_kiem = initial_month_values['Tiet_Kiem'] * tiet_kiem_mu_monthly\n",
    "    current_capital = capital_at_month_end + lai_tiet_kiem\n",
    "\n",
    "# --- In ra nhật ký giao dịch và tổng hợp ---\n",
    "print(\"\\n\" + \"=\"*50)\n",
    "print(\"               NHẬT KÝ GIAO DỊCH\")\n",
    "print(\"=\"*50)\n",
    "if trade_log:\n",
    "    for entry in trade_log:\n",
    "        print(entry)\n",
    "else:\n",
    "    print(\"Không có giao dịch chốt lời/cắt lỗ nào được thực hiện.\")\n",
    "\n",
    "dynamic_portfolio_history = pd.DataFrame(daily_history_list).set_index('Date')\n",
    "dynamic_portfolio_history['Total_Value'] = dynamic_portfolio_history.sum(axis=1)\n",
    "\n",
    "print(\"\\n✅ Mô phỏng hoàn tất!\")\n",
    "print(f\"Tổng phí giao dịch đã trả: {total_fees_paid:,.2f}\")"
   ]
  },
  {
   "cell_type": "code",
   "execution_count": null,
   "metadata": {
    "execution": {
     "execution_failed": "2025-07-28T06:04:51.895Z"
    },
    "trusted": true
   },
   "outputs": [],
   "source": [
    "dynamic_portfolio_history"
   ]
  },
  {
   "cell_type": "markdown",
   "metadata": {},
   "source": [
    "## 6.3 So sánh với một chiến lược đầu tư đơn giản"
   ]
  },
  {
   "cell_type": "markdown",
   "metadata": {},
   "source": [
    "Để xác định xem chiến lược tối ưu hóa có thực sự hiệu quả không, ta sẽ mô phỏng một chiến lược đơn giản(ta sẽ so sánh nó với một chiến lược cơ sở). Ở đây, ta sẽ dùng chiến lược \"Mua và Giữ\" (Buy and Hold) với tỷ trọng chia đều cho 3 tài sản rủi ro."
   ]
  },
  {
   "cell_type": "code",
   "execution_count": null,
   "metadata": {
    "execution": {
     "execution_failed": "2025-07-28T06:04:51.895Z"
    },
    "trusted": true
   },
   "outputs": [],
   "source": [
    "print(\"📊 Đang mô phỏng chiến lược so sánh (Buy and Hold)...\")\n",
    "risky_asset_names = ['Crypto_Returns', 'Stocks_Returns', 'Nexus_Returns']\n",
    "\n",
    "# Phân bổ đều vốn ban đầu cho 3 tài sản rủi ro\n",
    "initial_benchmark_allocations = (initial_capital / 3) * pd.Series([1,1,1], index=risky_asset_names)\n",
    "\n",
    "# Lấy dữ liệu của 90 ngày\n",
    "benchmark_period_data = daily_log_returns_test.head(n_months * days_in_month)\n",
    "\n",
    "# Tính hệ số tăng trưởng cộng dồn trong 90 ngày\n",
    "benchmark_cumulative_growth = np.exp(benchmark_period_data[risky_asset_names].cumsum())\n",
    "\n",
    "# Tính giá trị danh mục từng ngày\n",
    "benchmark_history = initial_benchmark_allocations * benchmark_cumulative_growth\n",
    "\n",
    "# SỬA LỖI: Gán lại index của benchmark_history thành ngày tháng để khớp với\n",
    "# dynamic_portfolio_history.\n",
    "benchmark_history.index = benchmark_period_data['Time']\n",
    "\n",
    "# Tính tổng giá trị\n",
    "benchmark_history['Total_Value'] = benchmark_history.sum(axis=1)\n",
    "\n",
    "print(\"✅ Mô phỏng chiến lược so sánh hoàn tất!\")"
   ]
  },
  {
   "cell_type": "code",
   "execution_count": null,
   "metadata": {
    "execution": {
     "execution_failed": "2025-07-28T06:04:51.895Z"
    },
    "trusted": true
   },
   "outputs": [],
   "source": [
    "results_df = pd.DataFrame({\n",
    "    'Dynamic_Strategy': dynamic_portfolio_history['Total_Value'],\n",
    "    'Buy_and_Hold_Benchmark': benchmark_history['Total_Value']\n",
    "})\n",
    "\n",
    "# Lấy giá trị cuối cùng\n",
    "final_value_dynamic = results_df['Dynamic_Strategy'].iloc[-1]\n",
    "final_value_benchmark = results_df['Buy_and_Hold_Benchmark'].iloc[-1]\n",
    "\n",
    "# Tính toán Lời/Lỗ\n",
    "pnl_dynamic = final_value_dynamic - initial_capital\n",
    "pnl_benchmark = final_value_benchmark - initial_capital\n",
    "\n",
    "# Tính % tăng trưởng\n",
    "g_dynamic = (pnl_dynamic / initial_capital) * 100\n",
    "g_benchmark = (pnl_benchmark / initial_capital) * 100\n",
    "\n",
    "print(\"=\"*50)\n",
    "print(f\"     KẾT QUẢ SAU {n_months_to_backtest} THÁNG ĐẦU TƯ\")\n",
    "print(\"=\"*50)\n",
    "\n",
    "print(\"\\n--- Chiến lược Tối ưu hóa (Dynamic Strategy) ---\")\n",
    "print(f\"Giá trị cuối cùng : {final_value_dynamic:,.2f}\")\n",
    "print(f\"Lời/Lỗ            : {pnl_dynamic:,.2f} ({g_dynamic:.2f}%)\")\n",
    "\n",
    "print(\"\\n--- Chiến lược Mua và Giữ (Benchmark) ---\")\n",
    "print(f\"Giá trị cuối cùng : {final_value_benchmark:,.2f}\")\n",
    "print(f\"Lời/Lỗ            : {pnl_benchmark:,.2f} ({g_benchmark:.2f}%)\")\n",
    "\n",
    "print(\"\\n--- Nhận xét ---\")\n",
    "if pnl_dynamic > pnl_benchmark:\n",
    "    print(\"🏆 Chúc mừng! Chiến lược của bạn đã hoạt động hiệu quả hơn so với chiến lược mua và giữ đơn giản.\")\n",
    "else:\n",
    "    print(\"🤔 Chiến lược của bạn chưa hiệu quả bằng. Cần xem xét lại các tham số hoặc mô hình.\")"
   ]
  },
  {
   "cell_type": "code",
   "execution_count": null,
   "metadata": {
    "execution": {
     "execution_failed": "2025-07-28T06:04:51.895Z"
    },
    "trusted": true
   },
   "outputs": [],
   "source": [
    "fig, ax = plt.subplots(figsize=(12, 7))\n",
    "\n",
    "# Vẽ đường biểu diễn giá trị của 2 danh mục\n",
    "ax.plot(results_df.index, results_df['Dynamic_Strategy'], label='Chien luoc toi uu hoa', color='blue', linewidth=2)\n",
    "ax.plot(results_df.index, results_df['Buy_and_Hold_Benchmark'], label='Chien luoc mua va giu', color='gray', linestyle='--')\n",
    "\n",
    "# Định dạng biểu đồ\n",
    "ax.set_title('Hieu Xuat Danh Muc Dau Tu Theo Thoi Gian', fontsize=16)\n",
    "ax.set_ylabel('Tong gia tri danh muc', fontsize=12)\n",
    "ax.set_xlabel('Ngay', fontsize=12)\n",
    "ax.yaxis.set_major_formatter(mtick.FuncFormatter(lambda x, p: f'{x:,.0f}'))\n",
    "ax.legend(fontsize=12)\n",
    "plt.xticks(rotation=30)\n",
    "plt.tight_layout()\n",
    "\n",
    "# Lưu biểu đồ\n",
    "plt.savefig(\"performance_comparison.png\")\n",
    "print(\"\\nBiểu đồ so sánh hiệu suất đã được lưu với tên performance_comparison.png\")"
   ]
  },
  {
   "cell_type": "code",
   "execution_count": null,
   "metadata": {
    "execution": {
     "execution_failed": "2025-07-28T06:04:51.895Z"
    },
    "trusted": true
   },
   "outputs": [],
   "source": [
    "# --- Thiết lập ---\n",
    "# Danh sách các tài sản muốn xem chi tiết\n",
    "assets_to_plot = ['Crypto_Returns', 'Stocks_Returns', 'Nexus_Returns', 'Tiet_Kiem']\n",
    "\n",
    "# Tạo một lưới biểu đồ 2x2\n",
    "fig, axes = plt.subplots(nrows=2, ncols=2, figsize=(16, 10), sharey=True)\n",
    "\n",
    "# \"Làm phẳng\" mảng axes để dễ lặp\n",
    "axes = axes.flatten()\n",
    "\n",
    "print(\"📊 Đang tạo biểu đồ chi tiết hiệu suất từng tài sản...\")\n",
    "\n",
    "# --- Lặp qua từng tài sản và vẽ biểu đồ tương ứng ---\n",
    "for i, asset in enumerate(assets_to_plot):\n",
    "    ax = axes[i]\n",
    "    \n",
    "    # Lấy dữ liệu của tài sản và vẽ đường biểu diễn giá trị\n",
    "    asset_data = dynamic_portfolio_history[asset]\n",
    "    ax.plot(asset_data.index, asset_data, color=f'C{i}')\n",
    "    \n",
    "    # Lấp đầy vùng dưới đường line để dễ nhìn hơn\n",
    "    ax.fill_between(asset_data.index, asset_data, alpha=0.1, color=f'C{i}')\n",
    "    \n",
    "    # --- Định dạng cho từng biểu đồ con ---\n",
    "    # Bỏ đi phần \"_Returns\" trong tên cho gọn\n",
    "    clean_asset_name = asset.replace(\"_Returns\", \"\")\n",
    "    ax.set_title(f\"Hiệu suất của: {clean_asset_name}\", fontsize=14)\n",
    "    ax.set_ylabel(\"Giá trị\", fontsize=10)\n",
    "    ax.yaxis.set_major_formatter(mtick.FuncFormatter(lambda x, p: f'{x:,.0f}'))\n",
    "    \n",
    "    # Xoay nhãn ngày tháng\n",
    "    for label in ax.get_xticklabels():\n",
    "        label.set_rotation(30)\n",
    "        label.set_ha('right')\n",
    "\n",
    "# --- Định dạng chung cho cả hình ---\n",
    "fig.suptitle('Phân tích Hiệu suất Chi tiết của Từng Tài sản trong Danh mục Tối ưu', fontsize=18, fontweight='bold')\n",
    "plt.tight_layout(rect=[0, 0, 1, 0.96]) # Điều chỉnh để tiêu đề chung không bị đè\n",
    "\n",
    "# Lưu biểu đồ\n",
    "plt.savefig(\"individual_asset_performance.png\")\n",
    "print(\"\\n✅ Biểu đồ chi tiết đã được lưu với tên individual_asset_performance.png\")\n",
    "\n",
    "plt.show()"
   ]
  },
  {
   "cell_type": "markdown",
   "metadata": {},
   "source": [
    "###### "
   ]
  }
 ],
 "metadata": {
  "kaggle": {
   "accelerator": "none",
   "dataSources": [
    {
     "datasetId": 7934968,
     "sourceId": 12565465,
     "sourceType": "datasetVersion"
    }
   ],
   "dockerImageVersionId": 31089,
   "isGpuEnabled": false,
   "isInternetEnabled": true,
   "language": "python",
   "sourceType": "notebook"
  },
  "kernelspec": {
   "display_name": "venv (3.10.11)",
   "language": "python",
   "name": "python3"
  },
  "language_info": {
   "codemirror_mode": {
    "name": "ipython",
    "version": 3
   },
   "file_extension": ".py",
   "mimetype": "text/x-python",
   "name": "python",
   "nbconvert_exporter": "python",
   "pygments_lexer": "ipython3",
   "version": "3.10.11"
  }
 },
 "nbformat": 4,
 "nbformat_minor": 4
}
